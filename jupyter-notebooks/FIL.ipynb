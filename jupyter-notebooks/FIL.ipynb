{
 "cells": [
  {
   "cell_type": "code",
   "execution_count": 13,
   "metadata": {
    "execution": {
     "iopub.execute_input": "2021-01-10T18:32:32.362373Z",
     "iopub.status.busy": "2021-01-10T18:32:32.360880Z",
     "iopub.status.idle": "2021-01-10T18:32:32.716301Z",
     "shell.execute_reply": "2021-01-10T18:32:32.715689Z"
    }
   },
   "outputs": [],
   "source": [
    "# Load project functions\n",
    "import crypto_monetary_base as cmb"
   ]
  },
  {
   "cell_type": "code",
   "execution_count": 27,
   "metadata": {
    "execution": {
     "iopub.execute_input": "2021-01-10T18:32:32.722617Z",
     "iopub.status.busy": "2021-01-10T18:32:32.722032Z",
     "iopub.status.idle": "2021-01-10T18:32:32.991822Z",
     "shell.execute_reply": "2021-01-10T18:32:32.992458Z"
    }
   },
   "outputs": [],
   "source": [
    "import datetime\n",
    "import math\n",
    "\n",
    "import pandas as pd\n",
    "import tqdm\n",
    "import matplotlib.pyplot as plt\n",
    "import matplotlib as mpl\n",
    "import seaborn as sns\n",
    "\n",
    "%matplotlib inline\n",
    "%config InlineBackend.figure_format='retina'\n",
    "sns.set()\n",
    "plt.rcParams['figure.figsize'] = (6, 4)\n",
    "plt.rcParams['axes.labelpad'] = 10\n",
    "mpl.rc('text', usetex=True)\n",
    "plt.style.use('ggplot')\n",
    "\n",
    "from IPython.display import display"
   ]
  },
  {
   "cell_type": "code",
   "execution_count": 15,
   "metadata": {},
   "outputs": [
    {
     "name": "stdout",
     "output_type": "stream",
     "text": [
      "The version_information extension is already loaded. To reload it, use:\n",
      "  %reload_ext version_information\n"
     ]
    },
    {
     "data": {
      "application/json": {
       "Software versions": [
        {
         "module": "Python",
         "version": "3.8.6 64bit [GCC 10.2.1 20210110]"
        },
        {
         "module": "IPython",
         "version": "7.19.0"
        },
        {
         "module": "OS",
         "version": "Linux 5.10.0 2 amd64 x86_64 with glibc2.29"
        },
        {
         "module": "pandas",
         "version": "1.2.0"
        },
        {
         "module": "matplotlib",
         "version": "3.3.3"
        },
        {
         "module": "seaborn",
         "version": "0.11.1"
        }
       ]
      },
      "text/html": [
       "<table><tr><th>Software</th><th>Version</th></tr><tr><td>Python</td><td>3.8.6 64bit [GCC 10.2.1 20210110]</td></tr><tr><td>IPython</td><td>7.19.0</td></tr><tr><td>OS</td><td>Linux 5.10.0 2 amd64 x86\\_64 with glibc2.29</td></tr><tr><td>pandas</td><td>1.2.0</td></tr><tr><td>matplotlib</td><td>3.3.3</td></tr><tr><td>seaborn</td><td>0.11.1</td></tr><tr><td colspan='2'>Thu Feb 11 22:33:02 2021 EST</td></tr></table>"
      ],
      "text/latex": [
       "\\begin{tabular}{|l|l|}\\hline\n",
       "{\\bf Software} & {\\bf Version} \\\\ \\hline\\hline\n",
       "Python & 3.8.6 64bit [GCC 10.2.1 20210110] \\\\ \\hline\n",
       "IPython & 7.19.0 \\\\ \\hline\n",
       "OS & Linux 5.10.0 2 amd64 x86\\_64 with glibc2.29 \\\\ \\hline\n",
       "pandas & 1.2.0 \\\\ \\hline\n",
       "matplotlib & 3.3.3 \\\\ \\hline\n",
       "seaborn & 0.11.1 \\\\ \\hline\n",
       "\\hline \\multicolumn{2}{|l|}{Thu Feb 11 22:33:02 2021 EST} \\\\ \\hline\n",
       "\\end{tabular}\n"
      ],
      "text/plain": [
       "Software versions\n",
       "Python 3.8.6 64bit [GCC 10.2.1 20210110]\n",
       "IPython 7.19.0\n",
       "OS Linux 5.10.0 2 amd64 x86_64 with glibc2.29\n",
       "pandas 1.2.0\n",
       "matplotlib 3.3.3\n",
       "seaborn 0.11.1\n",
       "Thu Feb 11 22:33:02 2021 EST"
      ]
     },
     "execution_count": 15,
     "metadata": {},
     "output_type": "execute_result"
    }
   ],
   "source": [
    "%load_ext version_information\n",
    "%version_information pandas, matplotlib, seaborn"
   ]
  },
  {
   "cell_type": "markdown",
   "metadata": {},
   "source": [
    "## Supply Curve Calculation"
   ]
  },
  {
   "cell_type": "code",
   "execution_count": 43,
   "metadata": {
    "execution": {
     "iopub.execute_input": "2021-01-10T18:32:32.996622Z",
     "iopub.status.busy": "2021-01-10T18:32:32.995993Z",
     "iopub.status.idle": "2021-01-10T18:32:32.997805Z",
     "shell.execute_reply": "2021-01-10T18:32:32.998338Z"
    }
   },
   "outputs": [],
   "source": [
    "COIN_SYMBOL = 'FIL'\n",
    "\n",
    "## See https://spec.filecoin.io/#section-systems.filecoin_token.block_reward_minting\n",
    "\n",
    "# Epoch is 30 sec\n",
    "EPOCH_SECS = 30\n",
    "EPOCH_PER_YEAR = 365*24*60*60/EPOCH_SECS\n",
    "\n",
    "# lambda = ln(2) / (6 * epochsInYear)\n",
    "LAMBDA = math.log(2)/(6*EPOCH_PER_YEAR)\n",
    "\n",
    "# expLamSubOne = e^lambda - 1\n",
    "EXP_LAMBDA_SUB_ONE = math.exp(LAMBDA)-1\n",
    "\n",
    "# 2.5057116798121726 EiB\n",
    "BASELINE_INITIAL_VALUE = 2_888_888_880_000_000_000\n",
    "\n",
    "# γ is the mixture between baseline and simple minting.\n",
    "# A γ value of 1.0 corresponds to pure baseline minting,\n",
    "# while a γ value of 0.0 corresponds to pure simple minting.\n",
    "GAMMA = 0.7\n",
    "\n",
    "# f(epoch) = baseExponent^epoch grows 100% in one year of epochs\n",
    "BASELINE_EXPONENT = math.exp(math.log(2)/EPOCH_PER_YEAR)\n",
    "\n",
    "# See https://filecoin.io/blog/filecoin-circulating-supply/\n",
    "TOTAL_MINTING = 1_100_000_000\n",
    "#SIMPLE_TOTAL = 330_000_000\n",
    "#BASELINE_TOTAL = 770_000_000\n",
    "SIMPLE_TOTAL = TOTAL_MINTING * (1-GAMMA)\n",
    "BASELINE_TOTAL = TOTAL_MINTING * GAMMA"
   ]
  },
  {
   "cell_type": "code",
   "execution_count": 44,
   "metadata": {},
   "outputs": [],
   "source": [
    "def compute_reward_theta(effectiveNetworkTime, baselinePowerAtEffectiveNetworkTime, cumsumRealized, cumsumBaseline):\n",
    "    pass\n",
    "\n",
    "# Baseline supply at effective network time theta\n",
    "def compute_baseline_supply(theta):\n",
    "    return BASELINE_TOTAL * (1 - (math.exp(-1 * theta * LAMBDA)))\n",
    "\n",
    "def compute_simple_supply(epoch):\n",
    "    return SIMPLE_TOTAL * (1 - math.exp(-1 * epoch * LAMBDA))\n",
    "\n",
    "# def compute_simple_reward(epoch):\n",
    "#     return SIMPLE_TOTAL * EXP_LAMBDA_SUB_ONE * math.exp(-1 * epoch * LAMBDA)\n",
    "\n",
    "# def compute_baseline_reward(prev_theta, curr_theta):\n",
    "#     return compute_baseline_supply(curr_theta) - compute_baseline_supply(prev_theta)\n"
   ]
  },
  {
   "cell_type": "code",
   "execution_count": 45,
   "metadata": {
    "execution": {
     "iopub.execute_input": "2021-01-10T18:32:33.004408Z",
     "iopub.status.busy": "2021-01-10T18:32:33.003781Z",
     "iopub.status.idle": "2021-01-10T18:32:33.005846Z",
     "shell.execute_reply": "2021-01-10T18:32:33.005298Z"
    }
   },
   "outputs": [],
   "source": [
    "def fil_supply_curve(num_epochs):\n",
    "    out = [\n",
    "        # Block num,\n",
    "        # y_1: Simple supply,\n",
    "        # y_2: Baseline supply,\n",
    "    ]\n",
    "    output_granularity=10000\n",
    "    y_1 = 0\n",
    "    y_2 = 0\n",
    "#     prev = 0\n",
    "    epoch = 0\n",
    "    for epoch in tqdm.notebook.tqdm(range(1, num_epochs+1)):\n",
    "        epoch += 1\n",
    "        if (epoch-1) % output_granularity == 0:\n",
    "            y_1 = compute_simple_supply(epoch)\n",
    "#             y_1 += compute_simple_reward(epoch)\n",
    "            # for now just use epoch as theta, i.e., assume maximum effective network time\n",
    "            y_2 = compute_baseline_supply(epoch)\n",
    "#             y_2 += compute_baseline_reward(epoch - prev, epoch)\n",
    "#             prev = epoch\n",
    "            out.append([epoch, y_1, y_2])\n",
    "\n",
    "    return out"
   ]
  },
  {
   "cell_type": "code",
   "execution_count": 46,
   "metadata": {},
   "outputs": [],
   "source": [
    "def datetime_fil_supply_curve(\n",
    "    start_date,\n",
    "    epoch_time,\n",
    "    supply,\n",
    "    output_granularity=10000,\n",
    "    ):\n",
    "    df = pd.DataFrame(\n",
    "        supply, columns=['epoch', 'simple', 'baseline']\n",
    "    )\n",
    "    df['simple_pct'] = (\n",
    "        df['simple'] / df['simple'].values[-1]\n",
    "        * 100\n",
    "    )\n",
    "    df['baseline_pct'] = (\n",
    "        df['baseline'] / df['baseline'].values[-1]\n",
    "        * 100\n",
    "    )\n",
    "    df['date'] = pd.date_range(\n",
    "        start=start_date,\n",
    "        freq=epoch_time * output_granularity,\n",
    "        periods=len(df)\n",
    "    )\n",
    "    return df"
   ]
  },
  {
   "cell_type": "code",
   "execution_count": 54,
   "metadata": {},
   "outputs": [],
   "source": [
    "def plot_fil_supply_curve(\n",
    "    supply,\n",
    "    coin_name=COIN_SYMBOL,\n",
    "    plot_pct=False,\n",
    "    max_size=10000,\n",
    "    out_name='',\n",
    "    ):\n",
    "    max_size = min((max_size, len(supply)))\n",
    "    step_size = int(len(supply) / max_size)\n",
    "    dates = mpl.dates.date2num(supply.date.values[::step_size])\n",
    "    \n",
    "    # Total\n",
    "    values = supply.simple.values[::step_size]+supply.baseline.values[::step_size]\n",
    "    plt.plot_date(\n",
    "        dates,\n",
    "        values,\n",
    "        fmt='-',\n",
    "        lw=4,\n",
    "        label='total',\n",
    "    )\n",
    "    \n",
    "    # Simple\n",
    "    if plot_pct:\n",
    "        values = supply.simple_pct.values[::step_size]\n",
    "    else:\n",
    "        values = supply.simple.values[::step_size]\n",
    "    plt.plot_date(\n",
    "        dates,\n",
    "        values,\n",
    "        fmt='--',\n",
    "        lw=4,\n",
    "        label='simple',\n",
    "        color='green',\n",
    "    )\n",
    "    \n",
    "    # Baseline\n",
    "    if plot_pct:\n",
    "        values = supply.baseline_pct.values[::step_size]\n",
    "    else:\n",
    "        values = supply.baseline.values[::step_size]\n",
    "    plt.plot_date(\n",
    "        dates,\n",
    "        values,\n",
    "        fmt='--',\n",
    "        lw=4,\n",
    "        label='baseline',\n",
    "        color='orange',\n",
    "    )\n",
    "    \n",
    "    # Plot current date\n",
    "    mask = supply.date > datetime.datetime.now()\n",
    "    current_supply = supply[mask].iloc[0]\n",
    "    dates = mpl.dates.date2num([current_supply.date])\n",
    "    if plot_pct:\n",
    "        values = [current_supply.simple_pct]\n",
    "    else:\n",
    "        values = [current_supply.simple]\n",
    "    plt.plot(\n",
    "        dates,\n",
    "        values,\n",
    "        'o',\n",
    "        color='black',\n",
    "        ms=6,\n",
    "        label=current_supply.date.strftime('%Y'),\n",
    "    )\n",
    "    \n",
    "    plt.title(\n",
    "        fr'$\\textbf{{{coin_name}}}$ Monetary Base',\n",
    "        y=1.05\n",
    "    )\n",
    "    plt.legend()\n",
    "    \n",
    "    ax = plt.gca()\n",
    "    if plot_pct:\n",
    "        ax.yaxis.set_major_formatter(mpl.ticker.PercentFormatter())\n",
    "    \n",
    "    if not out_name:\n",
    "        out_name = coin_name\n",
    "    plt.savefig(\n",
    "        f'../charts/{out_name}.png',\n",
    "        bbox_inches='tight',\n",
    "        dpi=300\n",
    "    )\n",
    "    return plt"
   ]
  },
  {
   "cell_type": "code",
   "execution_count": 48,
   "metadata": {
    "execution": {
     "iopub.execute_input": "2021-01-10T18:32:33.009387Z",
     "iopub.status.busy": "2021-01-10T18:32:33.007796Z",
     "iopub.status.idle": "2021-01-10T18:32:42.629676Z",
     "shell.execute_reply": "2021-01-10T18:32:42.629309Z"
    }
   },
   "outputs": [
    {
     "data": {
      "application/vnd.jupyter.widget-view+json": {
       "model_id": "921d4887be294365b986a31def6f6cce",
       "version_major": 2,
       "version_minor": 0
      },
      "text/plain": [
       "  0%|          | 0/126204480 [00:00<?, ?it/s]"
      ]
     },
     "metadata": {},
     "output_type": "display_data"
    }
   ],
   "source": [
    "# genesis on Oct. 15, 2020\n",
    "start_date = datetime.date(2020, 10, 15)\n",
    "end_date = datetime.date(2140, 10, 7)\n",
    "epoch_time = datetime.timedelta(seconds=EPOCH_SECS)\n",
    "\n",
    "num_epochs = int(\n",
    "    ((end_date - start_date).days * 24 * 3600)\n",
    "    / EPOCH_SECS\n",
    ")\n",
    "\n",
    "supply = fil_supply_curve(num_epochs=num_epochs)\n",
    "\n",
    "supply = datetime_fil_supply_curve(\n",
    "    start_date=start_date,\n",
    "    epoch_time=epoch_time,\n",
    "    supply=supply,\n",
    ")"
   ]
  },
  {
   "cell_type": "code",
   "execution_count": 49,
   "metadata": {
    "execution": {
     "iopub.execute_input": "2021-01-10T18:32:42.634169Z",
     "iopub.status.busy": "2021-01-10T18:32:42.633588Z",
     "iopub.status.idle": "2021-01-10T18:32:43.458447Z",
     "shell.execute_reply": "2021-01-10T18:32:43.459102Z"
    }
   },
   "outputs": [
    {
     "data": {
      "text/html": [
       "<div>\n",
       "<style scoped>\n",
       "    .dataframe tbody tr th:only-of-type {\n",
       "        vertical-align: middle;\n",
       "    }\n",
       "\n",
       "    .dataframe tbody tr th {\n",
       "        vertical-align: top;\n",
       "    }\n",
       "\n",
       "    .dataframe thead th {\n",
       "        text-align: right;\n",
       "    }\n",
       "</style>\n",
       "<table border=\"1\" class=\"dataframe\">\n",
       "  <thead>\n",
       "    <tr style=\"text-align: right;\">\n",
       "      <th></th>\n",
       "      <th>epoch</th>\n",
       "      <th>simple</th>\n",
       "      <th>baseline</th>\n",
       "      <th>simple_pct</th>\n",
       "      <th>baseline_pct</th>\n",
       "      <th>date</th>\n",
       "    </tr>\n",
       "  </thead>\n",
       "  <tbody>\n",
       "    <tr>\n",
       "      <th>0</th>\n",
       "      <td>10001</td>\n",
       "      <td>3.624996e+05</td>\n",
       "      <td>8.458325e+05</td>\n",
       "      <td>0.109848</td>\n",
       "      <td>0.109848</td>\n",
       "      <td>2020-10-15 00:00:00</td>\n",
       "    </tr>\n",
       "    <tr>\n",
       "      <th>1</th>\n",
       "      <td>20001</td>\n",
       "      <td>7.245649e+05</td>\n",
       "      <td>1.690651e+06</td>\n",
       "      <td>0.219565</td>\n",
       "      <td>0.219565</td>\n",
       "      <td>2020-10-18 11:20:00</td>\n",
       "    </tr>\n",
       "    <tr>\n",
       "      <th>2</th>\n",
       "      <td>30001</td>\n",
       "      <td>1.086232e+06</td>\n",
       "      <td>2.534542e+06</td>\n",
       "      <td>0.329162</td>\n",
       "      <td>0.329162</td>\n",
       "      <td>2020-10-21 22:40:00</td>\n",
       "    </tr>\n",
       "    <tr>\n",
       "      <th>3</th>\n",
       "      <td>40001</td>\n",
       "      <td>1.447503e+06</td>\n",
       "      <td>3.377507e+06</td>\n",
       "      <td>0.438638</td>\n",
       "      <td>0.438638</td>\n",
       "      <td>2020-10-25 10:00:00</td>\n",
       "    </tr>\n",
       "    <tr>\n",
       "      <th>4</th>\n",
       "      <td>50001</td>\n",
       "      <td>1.808376e+06</td>\n",
       "      <td>4.219545e+06</td>\n",
       "      <td>0.547993</td>\n",
       "      <td>0.547993</td>\n",
       "      <td>2020-10-28 21:20:00</td>\n",
       "    </tr>\n",
       "  </tbody>\n",
       "</table>\n",
       "</div>"
      ],
      "text/plain": [
       "   epoch        simple      baseline  simple_pct  baseline_pct  \\\n",
       "0  10001  3.624996e+05  8.458325e+05    0.109848      0.109848   \n",
       "1  20001  7.245649e+05  1.690651e+06    0.219565      0.219565   \n",
       "2  30001  1.086232e+06  2.534542e+06    0.329162      0.329162   \n",
       "3  40001  1.447503e+06  3.377507e+06    0.438638      0.438638   \n",
       "4  50001  1.808376e+06  4.219545e+06    0.547993      0.547993   \n",
       "\n",
       "                 date  \n",
       "0 2020-10-15 00:00:00  \n",
       "1 2020-10-18 11:20:00  \n",
       "2 2020-10-21 22:40:00  \n",
       "3 2020-10-25 10:00:00  \n",
       "4 2020-10-28 21:20:00  "
      ]
     },
     "metadata": {},
     "output_type": "display_data"
    },
    {
     "data": {
      "text/html": [
       "<div>\n",
       "<style scoped>\n",
       "    .dataframe tbody tr th:only-of-type {\n",
       "        vertical-align: middle;\n",
       "    }\n",
       "\n",
       "    .dataframe tbody tr th {\n",
       "        vertical-align: top;\n",
       "    }\n",
       "\n",
       "    .dataframe thead th {\n",
       "        text-align: right;\n",
       "    }\n",
       "</style>\n",
       "<table border=\"1\" class=\"dataframe\">\n",
       "  <thead>\n",
       "    <tr style=\"text-align: right;\">\n",
       "      <th></th>\n",
       "      <th>epoch</th>\n",
       "      <th>simple</th>\n",
       "      <th>baseline</th>\n",
       "      <th>simple_pct</th>\n",
       "      <th>baseline_pct</th>\n",
       "      <th>date</th>\n",
       "    </tr>\n",
       "  </thead>\n",
       "  <tbody>\n",
       "    <tr>\n",
       "      <th>12615</th>\n",
       "      <td>126160001</td>\n",
       "      <td>3.299997e+08</td>\n",
       "      <td>7.699993e+08</td>\n",
       "      <td>100.0</td>\n",
       "      <td>100.0</td>\n",
       "      <td>2140-09-18 02:00:00</td>\n",
       "    </tr>\n",
       "    <tr>\n",
       "      <th>12616</th>\n",
       "      <td>126170001</td>\n",
       "      <td>3.299997e+08</td>\n",
       "      <td>7.699993e+08</td>\n",
       "      <td>100.0</td>\n",
       "      <td>100.0</td>\n",
       "      <td>2140-09-21 13:20:00</td>\n",
       "    </tr>\n",
       "    <tr>\n",
       "      <th>12617</th>\n",
       "      <td>126180001</td>\n",
       "      <td>3.299997e+08</td>\n",
       "      <td>7.699993e+08</td>\n",
       "      <td>100.0</td>\n",
       "      <td>100.0</td>\n",
       "      <td>2140-09-25 00:40:00</td>\n",
       "    </tr>\n",
       "    <tr>\n",
       "      <th>12618</th>\n",
       "      <td>126190001</td>\n",
       "      <td>3.299997e+08</td>\n",
       "      <td>7.699993e+08</td>\n",
       "      <td>100.0</td>\n",
       "      <td>100.0</td>\n",
       "      <td>2140-09-28 12:00:00</td>\n",
       "    </tr>\n",
       "    <tr>\n",
       "      <th>12619</th>\n",
       "      <td>126200001</td>\n",
       "      <td>3.299997e+08</td>\n",
       "      <td>7.699993e+08</td>\n",
       "      <td>100.0</td>\n",
       "      <td>100.0</td>\n",
       "      <td>2140-10-01 23:20:00</td>\n",
       "    </tr>\n",
       "  </tbody>\n",
       "</table>\n",
       "</div>"
      ],
      "text/plain": [
       "           epoch        simple      baseline  simple_pct  baseline_pct  \\\n",
       "12615  126160001  3.299997e+08  7.699993e+08       100.0         100.0   \n",
       "12616  126170001  3.299997e+08  7.699993e+08       100.0         100.0   \n",
       "12617  126180001  3.299997e+08  7.699993e+08       100.0         100.0   \n",
       "12618  126190001  3.299997e+08  7.699993e+08       100.0         100.0   \n",
       "12619  126200001  3.299997e+08  7.699993e+08       100.0         100.0   \n",
       "\n",
       "                     date  \n",
       "12615 2140-09-18 02:00:00  \n",
       "12616 2140-09-21 13:20:00  \n",
       "12617 2140-09-25 00:40:00  \n",
       "12618 2140-09-28 12:00:00  \n",
       "12619 2140-10-01 23:20:00  "
      ]
     },
     "metadata": {},
     "output_type": "display_data"
    }
   ],
   "source": [
    "display(supply.head())\n",
    "display(supply.tail())"
   ]
  },
  {
   "cell_type": "code",
   "execution_count": 55,
   "metadata": {},
   "outputs": [
    {
     "data": {
      "text/plain": [
       "<module 'matplotlib.pyplot' from '/home/lane/.local/share/virtualenvs/crypto-monetary-base-xxmj4jsc/lib/python3.8/site-packages/matplotlib/pyplot.py'>"
      ]
     },
     "execution_count": 55,
     "metadata": {},
     "output_type": "execute_result"
    },
    {
     "data": {
      "image/png": "[encoded data removed]",
      "text/plain": [
       "<Figure size 432x288 with 1 Axes>"
      ]
     },
     "metadata": {
      "image/png": {
       "height": 277,
       "width": 372
      }
     },
     "output_type": "display_data"
    }
   ],
   "source": [
    "plot_fil_supply_curve(supply)"
   ]
  },
  {
   "cell_type": "markdown",
   "metadata": {},
   "source": [
    "## Standardize Time Series"
   ]
  },
  {
   "cell_type": "code",
   "execution_count": 11,
   "metadata": {
    "execution": {
     "iopub.execute_input": "2021-01-10T18:32:43.463265Z",
     "iopub.status.busy": "2021-01-10T18:32:43.462467Z",
     "iopub.status.idle": "2021-01-10T18:32:43.958011Z",
     "shell.execute_reply": "2021-01-10T18:32:43.958534Z"
    }
   },
   "outputs": [
    {
     "name": "stdout",
     "output_type": "stream",
     "text": [
      "Wrote 6876 lines to file ../output-data/FIL_weekly.csv\n"
     ]
    },
    {
     "data": {
      "text/html": [
       "<div>\n",
       "<style scoped>\n",
       "    .dataframe tbody tr th:only-of-type {\n",
       "        vertical-align: middle;\n",
       "    }\n",
       "\n",
       "    .dataframe tbody tr th {\n",
       "        vertical-align: top;\n",
       "    }\n",
       "\n",
       "    .dataframe thead th {\n",
       "        text-align: right;\n",
       "    }\n",
       "</style>\n",
       "<table border=\"1\" class=\"dataframe\">\n",
       "  <thead>\n",
       "    <tr style=\"text-align: right;\">\n",
       "      <th></th>\n",
       "      <th>coin</th>\n",
       "      <th>block</th>\n",
       "      <th>total_supply</th>\n",
       "      <th>total_supply_pct</th>\n",
       "      <th>date</th>\n",
       "    </tr>\n",
       "  </thead>\n",
       "  <tbody>\n",
       "    <tr>\n",
       "      <th>0</th>\n",
       "      <td>FIL</td>\n",
       "      <td>1</td>\n",
       "      <td>50.0</td>\n",
       "      <td>0.000238</td>\n",
       "      <td>2020-10-01</td>\n",
       "    </tr>\n",
       "    <tr>\n",
       "      <th>1</th>\n",
       "      <td>FIL</td>\n",
       "      <td>577</td>\n",
       "      <td>28850.0</td>\n",
       "      <td>0.137381</td>\n",
       "      <td>2020-10-01</td>\n",
       "    </tr>\n",
       "    <tr>\n",
       "      <th>2</th>\n",
       "      <td>FIL</td>\n",
       "      <td>1585</td>\n",
       "      <td>79250.0</td>\n",
       "      <td>0.377381</td>\n",
       "      <td>2020-10-01</td>\n",
       "    </tr>\n",
       "    <tr>\n",
       "      <th>3</th>\n",
       "      <td>FIL</td>\n",
       "      <td>2593</td>\n",
       "      <td>129650.0</td>\n",
       "      <td>0.617381</td>\n",
       "      <td>2020-11-01</td>\n",
       "    </tr>\n",
       "    <tr>\n",
       "      <th>4</th>\n",
       "      <td>FIL</td>\n",
       "      <td>3601</td>\n",
       "      <td>180050.0</td>\n",
       "      <td>0.857381</td>\n",
       "      <td>2020-11-01</td>\n",
       "    </tr>\n",
       "  </tbody>\n",
       "</table>\n",
       "</div>"
      ],
      "text/plain": [
       "  coin  block  total_supply  total_supply_pct        date\n",
       "0  FIL      1          50.0          0.000238  2020-10-01\n",
       "1  FIL    577       28850.0          0.137381  2020-10-01\n",
       "2  FIL   1585       79250.0          0.377381  2020-10-01\n",
       "3  FIL   2593      129650.0          0.617381  2020-11-01\n",
       "4  FIL   3601      180050.0          0.857381  2020-11-01"
      ]
     },
     "metadata": {},
     "output_type": "display_data"
    },
    {
     "data": {
      "text/html": [
       "<div>\n",
       "<style scoped>\n",
       "    .dataframe tbody tr th:only-of-type {\n",
       "        vertical-align: middle;\n",
       "    }\n",
       "\n",
       "    .dataframe tbody tr th {\n",
       "        vertical-align: top;\n",
       "    }\n",
       "\n",
       "    .dataframe thead th {\n",
       "        text-align: right;\n",
       "    }\n",
       "</style>\n",
       "<table border=\"1\" class=\"dataframe\">\n",
       "  <thead>\n",
       "    <tr style=\"text-align: right;\">\n",
       "      <th></th>\n",
       "      <th>coin</th>\n",
       "      <th>block</th>\n",
       "      <th>total_supply</th>\n",
       "      <th>total_supply_pct</th>\n",
       "      <th>date</th>\n",
       "    </tr>\n",
       "  </thead>\n",
       "  <tbody>\n",
       "    <tr>\n",
       "      <th>6871</th>\n",
       "      <td>FIL</td>\n",
       "      <td>6925537</td>\n",
       "      <td>2.100000e+07</td>\n",
       "      <td>100.0</td>\n",
       "      <td>2152-06-01</td>\n",
       "    </tr>\n",
       "    <tr>\n",
       "      <th>6872</th>\n",
       "      <td>FIL</td>\n",
       "      <td>6926545</td>\n",
       "      <td>2.100000e+07</td>\n",
       "      <td>100.0</td>\n",
       "      <td>2152-06-01</td>\n",
       "    </tr>\n",
       "    <tr>\n",
       "      <th>6873</th>\n",
       "      <td>FIL</td>\n",
       "      <td>6927553</td>\n",
       "      <td>2.100000e+07</td>\n",
       "      <td>100.0</td>\n",
       "      <td>2152-07-01</td>\n",
       "    </tr>\n",
       "    <tr>\n",
       "      <th>6874</th>\n",
       "      <td>FIL</td>\n",
       "      <td>6928561</td>\n",
       "      <td>2.100000e+07</td>\n",
       "      <td>100.0</td>\n",
       "      <td>2152-07-01</td>\n",
       "    </tr>\n",
       "    <tr>\n",
       "      <th>6875</th>\n",
       "      <td>FIL</td>\n",
       "      <td>6929569</td>\n",
       "      <td>2.100000e+07</td>\n",
       "      <td>100.0</td>\n",
       "      <td>2152-07-01</td>\n",
       "    </tr>\n",
       "  </tbody>\n",
       "</table>\n",
       "</div>"
      ],
      "text/plain": [
       "     coin    block  total_supply  total_supply_pct        date\n",
       "6871  FIL  6925537  2.100000e+07             100.0  2152-06-01\n",
       "6872  FIL  6926545  2.100000e+07             100.0  2152-06-01\n",
       "6873  FIL  6927553  2.100000e+07             100.0  2152-07-01\n",
       "6874  FIL  6928561  2.100000e+07             100.0  2152-07-01\n",
       "6875  FIL  6929569  2.100000e+07             100.0  2152-07-01"
      ]
     },
     "metadata": {},
     "output_type": "display_data"
    }
   ],
   "source": [
    "weekly_supply = cmb.transform_supply(supply, COIN_SYMBOL, freq='weekly')\n",
    "\n",
    "display(weekly_supply.head())\n",
    "display(weekly_supply.tail())"
   ]
  },
  {
   "cell_type": "code",
   "execution_count": 12,
   "metadata": {
    "execution": {
     "iopub.execute_input": "2021-01-10T18:32:43.962731Z",
     "iopub.status.busy": "2021-01-10T18:32:43.962045Z",
     "iopub.status.idle": "2021-01-10T18:32:44.300036Z",
     "shell.execute_reply": "2021-01-10T18:32:44.300385Z"
    }
   },
   "outputs": [
    {
     "name": "stdout",
     "output_type": "stream",
     "text": [
      "Wrote 1582 lines to file ../output-data/FIL_monthly.csv\n"
     ]
    },
    {
     "data": {
      "text/html": [
       "<div>\n",
       "<style scoped>\n",
       "    .dataframe tbody tr th:only-of-type {\n",
       "        vertical-align: middle;\n",
       "    }\n",
       "\n",
       "    .dataframe tbody tr th {\n",
       "        vertical-align: top;\n",
       "    }\n",
       "\n",
       "    .dataframe thead th {\n",
       "        text-align: right;\n",
       "    }\n",
       "</style>\n",
       "<table border=\"1\" class=\"dataframe\">\n",
       "  <thead>\n",
       "    <tr style=\"text-align: right;\">\n",
       "      <th></th>\n",
       "      <th>coin</th>\n",
       "      <th>block</th>\n",
       "      <th>total_supply</th>\n",
       "      <th>total_supply_pct</th>\n",
       "      <th>date</th>\n",
       "    </tr>\n",
       "  </thead>\n",
       "  <tbody>\n",
       "    <tr>\n",
       "      <th>0</th>\n",
       "      <td>FIL</td>\n",
       "      <td>1</td>\n",
       "      <td>50.0</td>\n",
       "      <td>0.000238</td>\n",
       "      <td>2020-10-01</td>\n",
       "    </tr>\n",
       "    <tr>\n",
       "      <th>1</th>\n",
       "      <td>FIL</td>\n",
       "      <td>2449</td>\n",
       "      <td>122450.0</td>\n",
       "      <td>0.583095</td>\n",
       "      <td>2020-11-01</td>\n",
       "    </tr>\n",
       "    <tr>\n",
       "      <th>2</th>\n",
       "      <td>FIL</td>\n",
       "      <td>6769</td>\n",
       "      <td>338450.0</td>\n",
       "      <td>1.611667</td>\n",
       "      <td>2020-12-01</td>\n",
       "    </tr>\n",
       "    <tr>\n",
       "      <th>3</th>\n",
       "      <td>FIL</td>\n",
       "      <td>11233</td>\n",
       "      <td>561650.0</td>\n",
       "      <td>2.674524</td>\n",
       "      <td>2021-01-01</td>\n",
       "    </tr>\n",
       "    <tr>\n",
       "      <th>4</th>\n",
       "      <td>FIL</td>\n",
       "      <td>15697</td>\n",
       "      <td>784850.0</td>\n",
       "      <td>3.737381</td>\n",
       "      <td>2021-02-01</td>\n",
       "    </tr>\n",
       "  </tbody>\n",
       "</table>\n",
       "</div>"
      ],
      "text/plain": [
       "  coin  block  total_supply  total_supply_pct        date\n",
       "0  FIL      1          50.0          0.000238  2020-10-01\n",
       "1  FIL   2449      122450.0          0.583095  2020-11-01\n",
       "2  FIL   6769      338450.0          1.611667  2020-12-01\n",
       "3  FIL  11233      561650.0          2.674524  2021-01-01\n",
       "4  FIL  15697      784850.0          3.737381  2021-02-01"
      ]
     },
     "metadata": {},
     "output_type": "display_data"
    },
    {
     "data": {
      "text/html": [
       "<div>\n",
       "<style scoped>\n",
       "    .dataframe tbody tr th:only-of-type {\n",
       "        vertical-align: middle;\n",
       "    }\n",
       "\n",
       "    .dataframe tbody tr th {\n",
       "        vertical-align: top;\n",
       "    }\n",
       "\n",
       "    .dataframe thead th {\n",
       "        text-align: right;\n",
       "    }\n",
       "</style>\n",
       "<table border=\"1\" class=\"dataframe\">\n",
       "  <thead>\n",
       "    <tr style=\"text-align: right;\">\n",
       "      <th></th>\n",
       "      <th>coin</th>\n",
       "      <th>block</th>\n",
       "      <th>total_supply</th>\n",
       "      <th>total_supply_pct</th>\n",
       "      <th>date</th>\n",
       "    </tr>\n",
       "  </thead>\n",
       "  <tbody>\n",
       "    <tr>\n",
       "      <th>1577</th>\n",
       "      <td>FIL</td>\n",
       "      <td>6909697</td>\n",
       "      <td>2.100000e+07</td>\n",
       "      <td>100.0</td>\n",
       "      <td>2152-03-01</td>\n",
       "    </tr>\n",
       "    <tr>\n",
       "      <th>1578</th>\n",
       "      <td>FIL</td>\n",
       "      <td>6914161</td>\n",
       "      <td>2.100000e+07</td>\n",
       "      <td>100.0</td>\n",
       "      <td>2152-04-01</td>\n",
       "    </tr>\n",
       "    <tr>\n",
       "      <th>1579</th>\n",
       "      <td>FIL</td>\n",
       "      <td>6918481</td>\n",
       "      <td>2.100000e+07</td>\n",
       "      <td>100.0</td>\n",
       "      <td>2152-05-01</td>\n",
       "    </tr>\n",
       "    <tr>\n",
       "      <th>1580</th>\n",
       "      <td>FIL</td>\n",
       "      <td>6922945</td>\n",
       "      <td>2.100000e+07</td>\n",
       "      <td>100.0</td>\n",
       "      <td>2152-06-01</td>\n",
       "    </tr>\n",
       "    <tr>\n",
       "      <th>1581</th>\n",
       "      <td>FIL</td>\n",
       "      <td>6927265</td>\n",
       "      <td>2.100000e+07</td>\n",
       "      <td>100.0</td>\n",
       "      <td>2152-07-01</td>\n",
       "    </tr>\n",
       "  </tbody>\n",
       "</table>\n",
       "</div>"
      ],
      "text/plain": [
       "     coin    block  total_supply  total_supply_pct        date\n",
       "1577  FIL  6909697  2.100000e+07             100.0  2152-03-01\n",
       "1578  FIL  6914161  2.100000e+07             100.0  2152-04-01\n",
       "1579  FIL  6918481  2.100000e+07             100.0  2152-05-01\n",
       "1580  FIL  6922945  2.100000e+07             100.0  2152-06-01\n",
       "1581  FIL  6927265  2.100000e+07             100.0  2152-07-01"
      ]
     },
     "metadata": {},
     "output_type": "display_data"
    }
   ],
   "source": [
    "monthly_supply = cmb.transform_supply(supply, COIN_SYMBOL, freq='monthly')\n",
    "\n",
    "display(monthly_supply.head())\n",
    "display(monthly_supply.tail())"
   ]
  },
  {
   "cell_type": "code",
   "execution_count": 13,
   "metadata": {
    "execution": {
     "iopub.execute_input": "2021-01-10T18:32:44.303495Z",
     "iopub.status.busy": "2021-01-10T18:32:44.302814Z",
     "iopub.status.idle": "2021-01-10T18:32:44.581596Z",
     "shell.execute_reply": "2021-01-10T18:32:44.581240Z"
    }
   },
   "outputs": [
    {
     "name": "stdout",
     "output_type": "stream",
     "text": [
      "Wrote 133 lines to file ../output-data/FIL_yearly.csv\n"
     ]
    },
    {
     "data": {
      "text/html": [
       "<div>\n",
       "<style scoped>\n",
       "    .dataframe tbody tr th:only-of-type {\n",
       "        vertical-align: middle;\n",
       "    }\n",
       "\n",
       "    .dataframe tbody tr th {\n",
       "        vertical-align: top;\n",
       "    }\n",
       "\n",
       "    .dataframe thead th {\n",
       "        text-align: right;\n",
       "    }\n",
       "</style>\n",
       "<table border=\"1\" class=\"dataframe\">\n",
       "  <thead>\n",
       "    <tr style=\"text-align: right;\">\n",
       "      <th></th>\n",
       "      <th>coin</th>\n",
       "      <th>block</th>\n",
       "      <th>total_supply</th>\n",
       "      <th>total_supply_pct</th>\n",
       "      <th>date</th>\n",
       "    </tr>\n",
       "  </thead>\n",
       "  <tbody>\n",
       "    <tr>\n",
       "      <th>0</th>\n",
       "      <td>FIL</td>\n",
       "      <td>1</td>\n",
       "      <td>50.0</td>\n",
       "      <td>0.000238</td>\n",
       "      <td>2020-10-01</td>\n",
       "    </tr>\n",
       "    <tr>\n",
       "      <th>1</th>\n",
       "      <td>FIL</td>\n",
       "      <td>11233</td>\n",
       "      <td>561650.0</td>\n",
       "      <td>2.674524</td>\n",
       "      <td>2021-01-01</td>\n",
       "    </tr>\n",
       "    <tr>\n",
       "      <th>2</th>\n",
       "      <td>FIL</td>\n",
       "      <td>63793</td>\n",
       "      <td>3189650.0</td>\n",
       "      <td>15.188810</td>\n",
       "      <td>2022-01-01</td>\n",
       "    </tr>\n",
       "    <tr>\n",
       "      <th>3</th>\n",
       "      <td>FIL</td>\n",
       "      <td>116353</td>\n",
       "      <td>5817650.0</td>\n",
       "      <td>27.703095</td>\n",
       "      <td>2023-01-01</td>\n",
       "    </tr>\n",
       "    <tr>\n",
       "      <th>4</th>\n",
       "      <td>FIL</td>\n",
       "      <td>168913</td>\n",
       "      <td>8445650.0</td>\n",
       "      <td>40.217381</td>\n",
       "      <td>2024-01-01</td>\n",
       "    </tr>\n",
       "  </tbody>\n",
       "</table>\n",
       "</div>"
      ],
      "text/plain": [
       "  coin   block  total_supply  total_supply_pct        date\n",
       "0  FIL       1          50.0          0.000238  2020-10-01\n",
       "1  FIL   11233      561650.0          2.674524  2021-01-01\n",
       "2  FIL   63793     3189650.0         15.188810  2022-01-01\n",
       "3  FIL  116353     5817650.0         27.703095  2023-01-01\n",
       "4  FIL  168913     8445650.0         40.217381  2024-01-01"
      ]
     },
     "metadata": {},
     "output_type": "display_data"
    },
    {
     "data": {
      "text/html": [
       "<div>\n",
       "<style scoped>\n",
       "    .dataframe tbody tr th:only-of-type {\n",
       "        vertical-align: middle;\n",
       "    }\n",
       "\n",
       "    .dataframe tbody tr th {\n",
       "        vertical-align: top;\n",
       "    }\n",
       "\n",
       "    .dataframe thead th {\n",
       "        text-align: right;\n",
       "    }\n",
       "</style>\n",
       "<table border=\"1\" class=\"dataframe\">\n",
       "  <thead>\n",
       "    <tr style=\"text-align: right;\">\n",
       "      <th></th>\n",
       "      <th>coin</th>\n",
       "      <th>block</th>\n",
       "      <th>total_supply</th>\n",
       "      <th>total_supply_pct</th>\n",
       "      <th>date</th>\n",
       "    </tr>\n",
       "  </thead>\n",
       "  <tbody>\n",
       "    <tr>\n",
       "      <th>128</th>\n",
       "      <td>FIL</td>\n",
       "      <td>6690673</td>\n",
       "      <td>2.100000e+07</td>\n",
       "      <td>100.0</td>\n",
       "      <td>2148-01-01</td>\n",
       "    </tr>\n",
       "    <tr>\n",
       "      <th>129</th>\n",
       "      <td>FIL</td>\n",
       "      <td>6743377</td>\n",
       "      <td>2.100000e+07</td>\n",
       "      <td>100.0</td>\n",
       "      <td>2149-01-01</td>\n",
       "    </tr>\n",
       "    <tr>\n",
       "      <th>130</th>\n",
       "      <td>FIL</td>\n",
       "      <td>6795937</td>\n",
       "      <td>2.100000e+07</td>\n",
       "      <td>100.0</td>\n",
       "      <td>2150-01-01</td>\n",
       "    </tr>\n",
       "    <tr>\n",
       "      <th>131</th>\n",
       "      <td>FIL</td>\n",
       "      <td>6848497</td>\n",
       "      <td>2.100000e+07</td>\n",
       "      <td>100.0</td>\n",
       "      <td>2151-01-01</td>\n",
       "    </tr>\n",
       "    <tr>\n",
       "      <th>132</th>\n",
       "      <td>FIL</td>\n",
       "      <td>6901057</td>\n",
       "      <td>2.100000e+07</td>\n",
       "      <td>100.0</td>\n",
       "      <td>2152-01-01</td>\n",
       "    </tr>\n",
       "  </tbody>\n",
       "</table>\n",
       "</div>"
      ],
      "text/plain": [
       "    coin    block  total_supply  total_supply_pct        date\n",
       "128  FIL  6690673  2.100000e+07             100.0  2148-01-01\n",
       "129  FIL  6743377  2.100000e+07             100.0  2149-01-01\n",
       "130  FIL  6795937  2.100000e+07             100.0  2150-01-01\n",
       "131  FIL  6848497  2.100000e+07             100.0  2151-01-01\n",
       "132  FIL  6901057  2.100000e+07             100.0  2152-01-01"
      ]
     },
     "metadata": {},
     "output_type": "display_data"
    }
   ],
   "source": [
    "yearly_supply = cmb.transform_supply(supply, COIN_SYMBOL, freq='yearly')\n",
    "\n",
    "display(yearly_supply.head())\n",
    "display(yearly_supply.tail())"
   ]
  },
  {
   "cell_type": "code",
   "execution_count": null,
   "metadata": {},
   "outputs": [],
   "source": []
  }
 ],
 "metadata": {
  "kernelspec": {
   "display_name": "Python 3",
   "language": "python",
   "name": "python3"
  },
  "language_info": {
   "codemirror_mode": {
    "name": "ipython",
    "version": 3
   },
   "file_extension": ".py",
   "mimetype": "text/x-python",
   "name": "python",
   "nbconvert_exporter": "python",
   "pygments_lexer": "ipython3",
   "version": "3.8.6"
  },
  "toc": {
   "base_numbering": 1,
   "nav_menu": {},
   "number_sections": true,
   "sideBar": true,
   "skip_h1_title": false,
   "title_cell": "Table of Contents",
   "title_sidebar": "Contents",
   "toc_cell": false,
   "toc_position": {},
   "toc_section_display": true,
   "toc_window_display": false
  }
 },
 "nbformat": 4,
 "nbformat_minor": 2
}
