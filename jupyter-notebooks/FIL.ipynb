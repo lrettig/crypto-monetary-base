{
 "cells": [
  {
   "cell_type": "code",
   "execution_count": 1,
   "metadata": {
    "execution": {
     "iopub.execute_input": "2021-01-10T18:32:32.362373Z",
     "iopub.status.busy": "2021-01-10T18:32:32.360880Z",
     "iopub.status.idle": "2021-01-10T18:32:32.716301Z",
     "shell.execute_reply": "2021-01-10T18:32:32.715689Z"
    }
   },
   "outputs": [],
   "source": [
    "# Load project functions\n",
    "import crypto_monetary_base as cmb"
   ]
  },
  {
   "cell_type": "code",
   "execution_count": 15,
   "metadata": {
    "execution": {
     "iopub.execute_input": "2021-01-10T18:32:32.722617Z",
     "iopub.status.busy": "2021-01-10T18:32:32.722032Z",
     "iopub.status.idle": "2021-01-10T18:32:32.991822Z",
     "shell.execute_reply": "2021-01-10T18:32:32.992458Z"
    }
   },
   "outputs": [],
   "source": [
    "import datetime\n",
    "import math\n",
    "\n",
    "import pandas as pd\n",
    "from tqdm import tqdm_notebook\n",
    "import matplotlib.pyplot as plt\n",
    "import matplotlib as mpl\n",
    "import seaborn as sns\n",
    "\n",
    "%matplotlib inline\n",
    "%config InlineBackend.figure_format='retina'\n",
    "sns.set()\n",
    "plt.rcParams['figure.figsize'] = (6, 4)\n",
    "plt.rcParams['axes.labelpad'] = 10\n",
    "mpl.rc('text', usetex=True)\n",
    "plt.style.use('ggplot')\n",
    "\n",
    "from IPython.display import display"
   ]
  },
  {
   "cell_type": "code",
   "execution_count": 16,
   "metadata": {},
   "outputs": [
    {
     "name": "stdout",
     "output_type": "stream",
     "text": [
      "The version_information extension is already loaded. To reload it, use:\n",
      "  %reload_ext version_information\n"
     ]
    },
    {
     "data": {
      "application/json": {
       "Software versions": [
        {
         "module": "Python",
         "version": "3.8.6 64bit [GCC 10.2.1 20210110]"
        },
        {
         "module": "IPython",
         "version": "7.19.0"
        },
        {
         "module": "OS",
         "version": "Linux 5.10.0 1 amd64 x86_64 with glibc2.29"
        },
        {
         "module": "pandas",
         "version": "1.2.0"
        },
        {
         "module": "matplotlib",
         "version": "3.3.3"
        },
        {
         "module": "seaborn",
         "version": "0.11.1"
        }
       ]
      },
      "text/html": [
       "<table><tr><th>Software</th><th>Version</th></tr><tr><td>Python</td><td>3.8.6 64bit [GCC 10.2.1 20210110]</td></tr><tr><td>IPython</td><td>7.19.0</td></tr><tr><td>OS</td><td>Linux 5.10.0 1 amd64 x86\\_64 with glibc2.29</td></tr><tr><td>pandas</td><td>1.2.0</td></tr><tr><td>matplotlib</td><td>3.3.3</td></tr><tr><td>seaborn</td><td>0.11.1</td></tr><tr><td colspan='2'>Thu Jan 28 20:45:26 2021 EST</td></tr></table>"
      ],
      "text/latex": [
       "\\begin{tabular}{|l|l|}\\hline\n",
       "{\\bf Software} & {\\bf Version} \\\\ \\hline\\hline\n",
       "Python & 3.8.6 64bit [GCC 10.2.1 20210110] \\\\ \\hline\n",
       "IPython & 7.19.0 \\\\ \\hline\n",
       "OS & Linux 5.10.0 1 amd64 x86\\_64 with glibc2.29 \\\\ \\hline\n",
       "pandas & 1.2.0 \\\\ \\hline\n",
       "matplotlib & 3.3.3 \\\\ \\hline\n",
       "seaborn & 0.11.1 \\\\ \\hline\n",
       "\\hline \\multicolumn{2}{|l|}{Thu Jan 28 20:45:26 2021 EST} \\\\ \\hline\n",
       "\\end{tabular}\n"
      ],
      "text/plain": [
       "Software versions\n",
       "Python 3.8.6 64bit [GCC 10.2.1 20210110]\n",
       "IPython 7.19.0\n",
       "OS Linux 5.10.0 1 amd64 x86_64 with glibc2.29\n",
       "pandas 1.2.0\n",
       "matplotlib 3.3.3\n",
       "seaborn 0.11.1\n",
       "Thu Jan 28 20:45:26 2021 EST"
      ]
     },
     "execution_count": 16,
     "metadata": {},
     "output_type": "execute_result"
    }
   ],
   "source": [
    "%load_ext version_information\n",
    "%version_information pandas, matplotlib, seaborn"
   ]
  },
  {
   "cell_type": "markdown",
   "metadata": {},
   "source": [
    "## Supply Curve Calculation"
   ]
  },
  {
   "cell_type": "code",
   "execution_count": 17,
   "metadata": {
    "execution": {
     "iopub.execute_input": "2021-01-10T18:32:32.996622Z",
     "iopub.status.busy": "2021-01-10T18:32:32.995993Z",
     "iopub.status.idle": "2021-01-10T18:32:32.997805Z",
     "shell.execute_reply": "2021-01-10T18:32:32.998338Z"
    }
   },
   "outputs": [],
   "source": [
    "COIN_SYMBOL = 'FIL'\n",
    "\n",
    "## See https://spec.filecoin.io/#section-systems.filecoin_token.block_reward_minting\n",
    "\n",
    "# Epoch is 30 sec\n",
    "EPOCH_PER_YEAR = 365*24*60*60/30\n",
    "\n",
    "# lambda = ln(2) / (6 * epochsInYear)\n",
    "LAMBDA = math.log(2)/(6*EPOCH_PER_YEAR)\n",
    "\n",
    "# expLamSubOne = e^lambda - 1\n",
    "EXP_LAMBDA_SUB_ONE = math.exp(LAMBDA)-1\n",
    "\n",
    "# 2.5057116798121726 EiB\n",
    "BASELINE_INITIAL_VALUE = 2_888_888_880_000_000_000\n",
    "\n",
    "# γ is the mixture between baseline and simple minting.\n",
    "# A γ value of 1.0 corresponds to pure baseline minting,\n",
    "# while a γ value of 0.0 corresponds to pure simple minting.\n",
    "GAMMA = 0.7\n",
    "\n",
    "# f(epoch) = baseExponent^epoch grows 100% in one year of epochs\n",
    "BASELINE_EXPONENT = math.exp(math.log(2)/EPOCH_PER_YEAR)\n",
    "\n",
    "# See https://filecoin.io/blog/filecoin-circulating-supply/\n",
    "SIMPLE_TOTAL = 330_000_000\n",
    "BASELINE_TOTAL = 770_000_000"
   ]
  },
  {
   "cell_type": "code",
   "execution_count": null,
   "metadata": {},
   "outputs": [],
   "source": [
    "def compute_reward_theta(effectiveNetworkTime, baselinePowerAtEffectiveNetworkTime, cumsumRealized, cumsumBaseline):\n",
    "    pass\n",
    "\n",
    "# Baseline supply at effective network time theta\n",
    "def compute_baseline_supply(theta):\n",
    "    return BASELINE_TOTAL * (1 - (math.exp(-1 * theta * LAMBDA)))\n",
    "\n",
    "def compute_reward(epoch, prev_theta, curr_theta):\n",
    "    simple_reward = SIMPLE_TOTAL * EXP_LAMBDA_SUB_ONE * math.exp(-1 * epoch * LAMBDA)\n",
    "    baseline_reward = compute_baseline_supply(curr_theta) - compute_baseline_supply(prev_theta)\n",
    "    return simple_reward + baseline_reward"
   ]
  },
  {
   "cell_type": "code",
   "execution_count": 8,
   "metadata": {
    "execution": {
     "iopub.execute_input": "2021-01-10T18:32:33.004408Z",
     "iopub.status.busy": "2021-01-10T18:32:33.003781Z",
     "iopub.status.idle": "2021-01-10T18:32:33.005846Z",
     "shell.execute_reply": "2021-01-10T18:32:33.005298Z"
    }
   },
   "outputs": [],
   "source": [
    "def fil_block_supply_curve():\n",
    "    out = [\n",
    "        # Block num,\n",
    "        # Total supply,\n",
    "    ]\n",
    "    inflation_change_blocks=210000\n",
    "    inflation_change_frac=0.5\n",
    "    y = 0\n",
    "    block = 0\n",
    "    while True:\n",
    "        block += 1\n",
    "        num_changes = int(\n",
    "            (block - 1) / inflation_change_blocks\n",
    "        )\n",
    "        if num_changes > 32:\n",
    "            break\n",
    "        block_reward = 50 * (\n",
    "            inflation_change_frac ** num_changes\n",
    "        )\n",
    "        if (block - 1) % inflation_change_blocks == 0:\n",
    "            print(\n",
    "                f'Inflation change #{num_changes}, '\n",
    "                f'block reward = {block_reward}'\n",
    "            )\n",
    "        y += block_reward\n",
    "        out.append([block, y])\n",
    "\n",
    "    return out"
   ]
  },
  {
   "cell_type": "code",
   "execution_count": 9,
   "metadata": {
    "execution": {
     "iopub.execute_input": "2021-01-10T18:32:33.009387Z",
     "iopub.status.busy": "2021-01-10T18:32:33.007796Z",
     "iopub.status.idle": "2021-01-10T18:32:42.629676Z",
     "shell.execute_reply": "2021-01-10T18:32:42.629309Z"
    }
   },
   "outputs": [
    {
     "name": "stdout",
     "output_type": "stream",
     "text": [
      "Inflation change #0, block reward = 50.0\n",
      "Inflation change #1, block reward = 25.0\n",
      "Inflation change #2, block reward = 12.5\n",
      "Inflation change #3, block reward = 6.25\n",
      "Inflation change #4, block reward = 3.125\n",
      "Inflation change #5, block reward = 1.5625\n",
      "Inflation change #6, block reward = 0.78125\n",
      "Inflation change #7, block reward = 0.390625\n",
      "Inflation change #8, block reward = 0.1953125\n",
      "Inflation change #9, block reward = 0.09765625\n",
      "Inflation change #10, block reward = 0.048828125\n",
      "Inflation change #11, block reward = 0.0244140625\n",
      "Inflation change #12, block reward = 0.01220703125\n",
      "Inflation change #13, block reward = 0.006103515625\n",
      "Inflation change #14, block reward = 0.0030517578125\n",
      "Inflation change #15, block reward = 0.00152587890625\n",
      "Inflation change #16, block reward = 0.000762939453125\n",
      "Inflation change #17, block reward = 0.0003814697265625\n",
      "Inflation change #18, block reward = 0.00019073486328125\n",
      "Inflation change #19, block reward = 9.5367431640625e-05\n",
      "Inflation change #20, block reward = 4.76837158203125e-05\n",
      "Inflation change #21, block reward = 2.384185791015625e-05\n",
      "Inflation change #22, block reward = 1.1920928955078125e-05\n",
      "Inflation change #23, block reward = 5.9604644775390625e-06\n",
      "Inflation change #24, block reward = 2.9802322387695312e-06\n",
      "Inflation change #25, block reward = 1.4901161193847656e-06\n",
      "Inflation change #26, block reward = 7.450580596923828e-07\n",
      "Inflation change #27, block reward = 3.725290298461914e-07\n",
      "Inflation change #28, block reward = 1.862645149230957e-07\n",
      "Inflation change #29, block reward = 9.313225746154785e-08\n",
      "Inflation change #30, block reward = 4.6566128730773926e-08\n",
      "Inflation change #31, block reward = 2.3283064365386963e-08\n",
      "Inflation change #32, block reward = 1.1641532182693481e-08\n"
     ]
    }
   ],
   "source": [
    "# genesis on Oct. 15, 2020\n",
    "start_date = datetime.date(2020, 10, 15)\n",
    "block_time = datetime.timedelta(seconds=60 * 10)\n",
    "\n",
    "block_supply = fil_block_supply_curve()\n",
    "\n",
    "supply = cmb.datetime_supply_curve(\n",
    "    start_date=start_date,\n",
    "    block_time=block_time,\n",
    "    block_supply=block_supply,\n",
    ")"
   ]
  },
  {
   "cell_type": "code",
   "execution_count": 10,
   "metadata": {
    "execution": {
     "iopub.execute_input": "2021-01-10T18:32:42.634169Z",
     "iopub.status.busy": "2021-01-10T18:32:42.633588Z",
     "iopub.status.idle": "2021-01-10T18:32:43.458447Z",
     "shell.execute_reply": "2021-01-10T18:32:43.459102Z"
    }
   },
   "outputs": [
    {
     "data": {
      "text/html": [
       "<div>\n",
       "<style scoped>\n",
       "    .dataframe tbody tr th:only-of-type {\n",
       "        vertical-align: middle;\n",
       "    }\n",
       "\n",
       "    .dataframe tbody tr th {\n",
       "        vertical-align: top;\n",
       "    }\n",
       "\n",
       "    .dataframe thead th {\n",
       "        text-align: right;\n",
       "    }\n",
       "</style>\n",
       "<table border=\"1\" class=\"dataframe\">\n",
       "  <thead>\n",
       "    <tr style=\"text-align: right;\">\n",
       "      <th></th>\n",
       "      <th>block</th>\n",
       "      <th>total_supply</th>\n",
       "      <th>total_supply_pct</th>\n",
       "      <th>date</th>\n",
       "    </tr>\n",
       "  </thead>\n",
       "  <tbody>\n",
       "    <tr>\n",
       "      <th>0</th>\n",
       "      <td>1</td>\n",
       "      <td>50.0</td>\n",
       "      <td>0.000238</td>\n",
       "      <td>2020-10-15 00:00:00</td>\n",
       "    </tr>\n",
       "    <tr>\n",
       "      <th>1</th>\n",
       "      <td>2</td>\n",
       "      <td>100.0</td>\n",
       "      <td>0.000476</td>\n",
       "      <td>2020-10-15 00:10:00</td>\n",
       "    </tr>\n",
       "    <tr>\n",
       "      <th>2</th>\n",
       "      <td>3</td>\n",
       "      <td>150.0</td>\n",
       "      <td>0.000714</td>\n",
       "      <td>2020-10-15 00:20:00</td>\n",
       "    </tr>\n",
       "    <tr>\n",
       "      <th>3</th>\n",
       "      <td>4</td>\n",
       "      <td>200.0</td>\n",
       "      <td>0.000952</td>\n",
       "      <td>2020-10-15 00:30:00</td>\n",
       "    </tr>\n",
       "    <tr>\n",
       "      <th>4</th>\n",
       "      <td>5</td>\n",
       "      <td>250.0</td>\n",
       "      <td>0.001190</td>\n",
       "      <td>2020-10-15 00:40:00</td>\n",
       "    </tr>\n",
       "  </tbody>\n",
       "</table>\n",
       "</div>"
      ],
      "text/plain": [
       "   block  total_supply  total_supply_pct                date\n",
       "0      1          50.0          0.000238 2020-10-15 00:00:00\n",
       "1      2         100.0          0.000476 2020-10-15 00:10:00\n",
       "2      3         150.0          0.000714 2020-10-15 00:20:00\n",
       "3      4         200.0          0.000952 2020-10-15 00:30:00\n",
       "4      5         250.0          0.001190 2020-10-15 00:40:00"
      ]
     },
     "metadata": {},
     "output_type": "display_data"
    },
    {
     "data": {
      "text/html": [
       "<div>\n",
       "<style scoped>\n",
       "    .dataframe tbody tr th:only-of-type {\n",
       "        vertical-align: middle;\n",
       "    }\n",
       "\n",
       "    .dataframe tbody tr th {\n",
       "        vertical-align: top;\n",
       "    }\n",
       "\n",
       "    .dataframe thead th {\n",
       "        text-align: right;\n",
       "    }\n",
       "</style>\n",
       "<table border=\"1\" class=\"dataframe\">\n",
       "  <thead>\n",
       "    <tr style=\"text-align: right;\">\n",
       "      <th></th>\n",
       "      <th>block</th>\n",
       "      <th>total_supply</th>\n",
       "      <th>total_supply_pct</th>\n",
       "      <th>date</th>\n",
       "    </tr>\n",
       "  </thead>\n",
       "  <tbody>\n",
       "    <tr>\n",
       "      <th>6929995</th>\n",
       "      <td>6929996</td>\n",
       "      <td>2.100000e+07</td>\n",
       "      <td>100.0</td>\n",
       "      <td>2152-07-19 23:10:00</td>\n",
       "    </tr>\n",
       "    <tr>\n",
       "      <th>6929996</th>\n",
       "      <td>6929997</td>\n",
       "      <td>2.100000e+07</td>\n",
       "      <td>100.0</td>\n",
       "      <td>2152-07-19 23:20:00</td>\n",
       "    </tr>\n",
       "    <tr>\n",
       "      <th>6929997</th>\n",
       "      <td>6929998</td>\n",
       "      <td>2.100000e+07</td>\n",
       "      <td>100.0</td>\n",
       "      <td>2152-07-19 23:30:00</td>\n",
       "    </tr>\n",
       "    <tr>\n",
       "      <th>6929998</th>\n",
       "      <td>6929999</td>\n",
       "      <td>2.100000e+07</td>\n",
       "      <td>100.0</td>\n",
       "      <td>2152-07-19 23:40:00</td>\n",
       "    </tr>\n",
       "    <tr>\n",
       "      <th>6929999</th>\n",
       "      <td>6930000</td>\n",
       "      <td>2.100000e+07</td>\n",
       "      <td>100.0</td>\n",
       "      <td>2152-07-19 23:50:00</td>\n",
       "    </tr>\n",
       "  </tbody>\n",
       "</table>\n",
       "</div>"
      ],
      "text/plain": [
       "           block  total_supply  total_supply_pct                date\n",
       "6929995  6929996  2.100000e+07             100.0 2152-07-19 23:10:00\n",
       "6929996  6929997  2.100000e+07             100.0 2152-07-19 23:20:00\n",
       "6929997  6929998  2.100000e+07             100.0 2152-07-19 23:30:00\n",
       "6929998  6929999  2.100000e+07             100.0 2152-07-19 23:40:00\n",
       "6929999  6930000  2.100000e+07             100.0 2152-07-19 23:50:00"
      ]
     },
     "metadata": {},
     "output_type": "display_data"
    },
    {
     "data": {
      "image/png": "[encoded data removed]",
      "text/plain": [
       "<Figure size 432x288 with 1 Axes>"
      ]
     },
     "metadata": {
      "image/png": {
       "height": 277,
       "width": 384
      }
     },
     "output_type": "display_data"
    }
   ],
   "source": [
    "display(supply.head())\n",
    "display(supply.tail())\n",
    "\n",
    "cmb.plot_supply_curve(\n",
    "    supply,\n",
    "    COIN_SYMBOL,\n",
    ");"
   ]
  },
  {
   "cell_type": "markdown",
   "metadata": {},
   "source": [
    "## Standardize Time Series"
   ]
  },
  {
   "cell_type": "code",
   "execution_count": 11,
   "metadata": {
    "execution": {
     "iopub.execute_input": "2021-01-10T18:32:43.463265Z",
     "iopub.status.busy": "2021-01-10T18:32:43.462467Z",
     "iopub.status.idle": "2021-01-10T18:32:43.958011Z",
     "shell.execute_reply": "2021-01-10T18:32:43.958534Z"
    }
   },
   "outputs": [
    {
     "name": "stdout",
     "output_type": "stream",
     "text": [
      "Wrote 6876 lines to file ../output-data/FIL_weekly.csv\n"
     ]
    },
    {
     "data": {
      "text/html": [
       "<div>\n",
       "<style scoped>\n",
       "    .dataframe tbody tr th:only-of-type {\n",
       "        vertical-align: middle;\n",
       "    }\n",
       "\n",
       "    .dataframe tbody tr th {\n",
       "        vertical-align: top;\n",
       "    }\n",
       "\n",
       "    .dataframe thead th {\n",
       "        text-align: right;\n",
       "    }\n",
       "</style>\n",
       "<table border=\"1\" class=\"dataframe\">\n",
       "  <thead>\n",
       "    <tr style=\"text-align: right;\">\n",
       "      <th></th>\n",
       "      <th>coin</th>\n",
       "      <th>block</th>\n",
       "      <th>total_supply</th>\n",
       "      <th>total_supply_pct</th>\n",
       "      <th>date</th>\n",
       "    </tr>\n",
       "  </thead>\n",
       "  <tbody>\n",
       "    <tr>\n",
       "      <th>0</th>\n",
       "      <td>FIL</td>\n",
       "      <td>1</td>\n",
       "      <td>50.0</td>\n",
       "      <td>0.000238</td>\n",
       "      <td>2020-10-01</td>\n",
       "    </tr>\n",
       "    <tr>\n",
       "      <th>1</th>\n",
       "      <td>FIL</td>\n",
       "      <td>577</td>\n",
       "      <td>28850.0</td>\n",
       "      <td>0.137381</td>\n",
       "      <td>2020-10-01</td>\n",
       "    </tr>\n",
       "    <tr>\n",
       "      <th>2</th>\n",
       "      <td>FIL</td>\n",
       "      <td>1585</td>\n",
       "      <td>79250.0</td>\n",
       "      <td>0.377381</td>\n",
       "      <td>2020-10-01</td>\n",
       "    </tr>\n",
       "    <tr>\n",
       "      <th>3</th>\n",
       "      <td>FIL</td>\n",
       "      <td>2593</td>\n",
       "      <td>129650.0</td>\n",
       "      <td>0.617381</td>\n",
       "      <td>2020-11-01</td>\n",
       "    </tr>\n",
       "    <tr>\n",
       "      <th>4</th>\n",
       "      <td>FIL</td>\n",
       "      <td>3601</td>\n",
       "      <td>180050.0</td>\n",
       "      <td>0.857381</td>\n",
       "      <td>2020-11-01</td>\n",
       "    </tr>\n",
       "  </tbody>\n",
       "</table>\n",
       "</div>"
      ],
      "text/plain": [
       "  coin  block  total_supply  total_supply_pct        date\n",
       "0  FIL      1          50.0          0.000238  2020-10-01\n",
       "1  FIL    577       28850.0          0.137381  2020-10-01\n",
       "2  FIL   1585       79250.0          0.377381  2020-10-01\n",
       "3  FIL   2593      129650.0          0.617381  2020-11-01\n",
       "4  FIL   3601      180050.0          0.857381  2020-11-01"
      ]
     },
     "metadata": {},
     "output_type": "display_data"
    },
    {
     "data": {
      "text/html": [
       "<div>\n",
       "<style scoped>\n",
       "    .dataframe tbody tr th:only-of-type {\n",
       "        vertical-align: middle;\n",
       "    }\n",
       "\n",
       "    .dataframe tbody tr th {\n",
       "        vertical-align: top;\n",
       "    }\n",
       "\n",
       "    .dataframe thead th {\n",
       "        text-align: right;\n",
       "    }\n",
       "</style>\n",
       "<table border=\"1\" class=\"dataframe\">\n",
       "  <thead>\n",
       "    <tr style=\"text-align: right;\">\n",
       "      <th></th>\n",
       "      <th>coin</th>\n",
       "      <th>block</th>\n",
       "      <th>total_supply</th>\n",
       "      <th>total_supply_pct</th>\n",
       "      <th>date</th>\n",
       "    </tr>\n",
       "  </thead>\n",
       "  <tbody>\n",
       "    <tr>\n",
       "      <th>6871</th>\n",
       "      <td>FIL</td>\n",
       "      <td>6925537</td>\n",
       "      <td>2.100000e+07</td>\n",
       "      <td>100.0</td>\n",
       "      <td>2152-06-01</td>\n",
       "    </tr>\n",
       "    <tr>\n",
       "      <th>6872</th>\n",
       "      <td>FIL</td>\n",
       "      <td>6926545</td>\n",
       "      <td>2.100000e+07</td>\n",
       "      <td>100.0</td>\n",
       "      <td>2152-06-01</td>\n",
       "    </tr>\n",
       "    <tr>\n",
       "      <th>6873</th>\n",
       "      <td>FIL</td>\n",
       "      <td>6927553</td>\n",
       "      <td>2.100000e+07</td>\n",
       "      <td>100.0</td>\n",
       "      <td>2152-07-01</td>\n",
       "    </tr>\n",
       "    <tr>\n",
       "      <th>6874</th>\n",
       "      <td>FIL</td>\n",
       "      <td>6928561</td>\n",
       "      <td>2.100000e+07</td>\n",
       "      <td>100.0</td>\n",
       "      <td>2152-07-01</td>\n",
       "    </tr>\n",
       "    <tr>\n",
       "      <th>6875</th>\n",
       "      <td>FIL</td>\n",
       "      <td>6929569</td>\n",
       "      <td>2.100000e+07</td>\n",
       "      <td>100.0</td>\n",
       "      <td>2152-07-01</td>\n",
       "    </tr>\n",
       "  </tbody>\n",
       "</table>\n",
       "</div>"
      ],
      "text/plain": [
       "     coin    block  total_supply  total_supply_pct        date\n",
       "6871  FIL  6925537  2.100000e+07             100.0  2152-06-01\n",
       "6872  FIL  6926545  2.100000e+07             100.0  2152-06-01\n",
       "6873  FIL  6927553  2.100000e+07             100.0  2152-07-01\n",
       "6874  FIL  6928561  2.100000e+07             100.0  2152-07-01\n",
       "6875  FIL  6929569  2.100000e+07             100.0  2152-07-01"
      ]
     },
     "metadata": {},
     "output_type": "display_data"
    }
   ],
   "source": [
    "weekly_supply = cmb.transform_supply(supply, COIN_SYMBOL, freq='weekly')\n",
    "\n",
    "display(weekly_supply.head())\n",
    "display(weekly_supply.tail())"
   ]
  },
  {
   "cell_type": "code",
   "execution_count": 12,
   "metadata": {
    "execution": {
     "iopub.execute_input": "2021-01-10T18:32:43.962731Z",
     "iopub.status.busy": "2021-01-10T18:32:43.962045Z",
     "iopub.status.idle": "2021-01-10T18:32:44.300036Z",
     "shell.execute_reply": "2021-01-10T18:32:44.300385Z"
    }
   },
   "outputs": [
    {
     "name": "stdout",
     "output_type": "stream",
     "text": [
      "Wrote 1582 lines to file ../output-data/FIL_monthly.csv\n"
     ]
    },
    {
     "data": {
      "text/html": [
       "<div>\n",
       "<style scoped>\n",
       "    .dataframe tbody tr th:only-of-type {\n",
       "        vertical-align: middle;\n",
       "    }\n",
       "\n",
       "    .dataframe tbody tr th {\n",
       "        vertical-align: top;\n",
       "    }\n",
       "\n",
       "    .dataframe thead th {\n",
       "        text-align: right;\n",
       "    }\n",
       "</style>\n",
       "<table border=\"1\" class=\"dataframe\">\n",
       "  <thead>\n",
       "    <tr style=\"text-align: right;\">\n",
       "      <th></th>\n",
       "      <th>coin</th>\n",
       "      <th>block</th>\n",
       "      <th>total_supply</th>\n",
       "      <th>total_supply_pct</th>\n",
       "      <th>date</th>\n",
       "    </tr>\n",
       "  </thead>\n",
       "  <tbody>\n",
       "    <tr>\n",
       "      <th>0</th>\n",
       "      <td>FIL</td>\n",
       "      <td>1</td>\n",
       "      <td>50.0</td>\n",
       "      <td>0.000238</td>\n",
       "      <td>2020-10-01</td>\n",
       "    </tr>\n",
       "    <tr>\n",
       "      <th>1</th>\n",
       "      <td>FIL</td>\n",
       "      <td>2449</td>\n",
       "      <td>122450.0</td>\n",
       "      <td>0.583095</td>\n",
       "      <td>2020-11-01</td>\n",
       "    </tr>\n",
       "    <tr>\n",
       "      <th>2</th>\n",
       "      <td>FIL</td>\n",
       "      <td>6769</td>\n",
       "      <td>338450.0</td>\n",
       "      <td>1.611667</td>\n",
       "      <td>2020-12-01</td>\n",
       "    </tr>\n",
       "    <tr>\n",
       "      <th>3</th>\n",
       "      <td>FIL</td>\n",
       "      <td>11233</td>\n",
       "      <td>561650.0</td>\n",
       "      <td>2.674524</td>\n",
       "      <td>2021-01-01</td>\n",
       "    </tr>\n",
       "    <tr>\n",
       "      <th>4</th>\n",
       "      <td>FIL</td>\n",
       "      <td>15697</td>\n",
       "      <td>784850.0</td>\n",
       "      <td>3.737381</td>\n",
       "      <td>2021-02-01</td>\n",
       "    </tr>\n",
       "  </tbody>\n",
       "</table>\n",
       "</div>"
      ],
      "text/plain": [
       "  coin  block  total_supply  total_supply_pct        date\n",
       "0  FIL      1          50.0          0.000238  2020-10-01\n",
       "1  FIL   2449      122450.0          0.583095  2020-11-01\n",
       "2  FIL   6769      338450.0          1.611667  2020-12-01\n",
       "3  FIL  11233      561650.0          2.674524  2021-01-01\n",
       "4  FIL  15697      784850.0          3.737381  2021-02-01"
      ]
     },
     "metadata": {},
     "output_type": "display_data"
    },
    {
     "data": {
      "text/html": [
       "<div>\n",
       "<style scoped>\n",
       "    .dataframe tbody tr th:only-of-type {\n",
       "        vertical-align: middle;\n",
       "    }\n",
       "\n",
       "    .dataframe tbody tr th {\n",
       "        vertical-align: top;\n",
       "    }\n",
       "\n",
       "    .dataframe thead th {\n",
       "        text-align: right;\n",
       "    }\n",
       "</style>\n",
       "<table border=\"1\" class=\"dataframe\">\n",
       "  <thead>\n",
       "    <tr style=\"text-align: right;\">\n",
       "      <th></th>\n",
       "      <th>coin</th>\n",
       "      <th>block</th>\n",
       "      <th>total_supply</th>\n",
       "      <th>total_supply_pct</th>\n",
       "      <th>date</th>\n",
       "    </tr>\n",
       "  </thead>\n",
       "  <tbody>\n",
       "    <tr>\n",
       "      <th>1577</th>\n",
       "      <td>FIL</td>\n",
       "      <td>6909697</td>\n",
       "      <td>2.100000e+07</td>\n",
       "      <td>100.0</td>\n",
       "      <td>2152-03-01</td>\n",
       "    </tr>\n",
       "    <tr>\n",
       "      <th>1578</th>\n",
       "      <td>FIL</td>\n",
       "      <td>6914161</td>\n",
       "      <td>2.100000e+07</td>\n",
       "      <td>100.0</td>\n",
       "      <td>2152-04-01</td>\n",
       "    </tr>\n",
       "    <tr>\n",
       "      <th>1579</th>\n",
       "      <td>FIL</td>\n",
       "      <td>6918481</td>\n",
       "      <td>2.100000e+07</td>\n",
       "      <td>100.0</td>\n",
       "      <td>2152-05-01</td>\n",
       "    </tr>\n",
       "    <tr>\n",
       "      <th>1580</th>\n",
       "      <td>FIL</td>\n",
       "      <td>6922945</td>\n",
       "      <td>2.100000e+07</td>\n",
       "      <td>100.0</td>\n",
       "      <td>2152-06-01</td>\n",
       "    </tr>\n",
       "    <tr>\n",
       "      <th>1581</th>\n",
       "      <td>FIL</td>\n",
       "      <td>6927265</td>\n",
       "      <td>2.100000e+07</td>\n",
       "      <td>100.0</td>\n",
       "      <td>2152-07-01</td>\n",
       "    </tr>\n",
       "  </tbody>\n",
       "</table>\n",
       "</div>"
      ],
      "text/plain": [
       "     coin    block  total_supply  total_supply_pct        date\n",
       "1577  FIL  6909697  2.100000e+07             100.0  2152-03-01\n",
       "1578  FIL  6914161  2.100000e+07             100.0  2152-04-01\n",
       "1579  FIL  6918481  2.100000e+07             100.0  2152-05-01\n",
       "1580  FIL  6922945  2.100000e+07             100.0  2152-06-01\n",
       "1581  FIL  6927265  2.100000e+07             100.0  2152-07-01"
      ]
     },
     "metadata": {},
     "output_type": "display_data"
    }
   ],
   "source": [
    "monthly_supply = cmb.transform_supply(supply, COIN_SYMBOL, freq='monthly')\n",
    "\n",
    "display(monthly_supply.head())\n",
    "display(monthly_supply.tail())"
   ]
  },
  {
   "cell_type": "code",
   "execution_count": 13,
   "metadata": {
    "execution": {
     "iopub.execute_input": "2021-01-10T18:32:44.303495Z",
     "iopub.status.busy": "2021-01-10T18:32:44.302814Z",
     "iopub.status.idle": "2021-01-10T18:32:44.581596Z",
     "shell.execute_reply": "2021-01-10T18:32:44.581240Z"
    }
   },
   "outputs": [
    {
     "name": "stdout",
     "output_type": "stream",
     "text": [
      "Wrote 133 lines to file ../output-data/FIL_yearly.csv\n"
     ]
    },
    {
     "data": {
      "text/html": [
       "<div>\n",
       "<style scoped>\n",
       "    .dataframe tbody tr th:only-of-type {\n",
       "        vertical-align: middle;\n",
       "    }\n",
       "\n",
       "    .dataframe tbody tr th {\n",
       "        vertical-align: top;\n",
       "    }\n",
       "\n",
       "    .dataframe thead th {\n",
       "        text-align: right;\n",
       "    }\n",
       "</style>\n",
       "<table border=\"1\" class=\"dataframe\">\n",
       "  <thead>\n",
       "    <tr style=\"text-align: right;\">\n",
       "      <th></th>\n",
       "      <th>coin</th>\n",
       "      <th>block</th>\n",
       "      <th>total_supply</th>\n",
       "      <th>total_supply_pct</th>\n",
       "      <th>date</th>\n",
       "    </tr>\n",
       "  </thead>\n",
       "  <tbody>\n",
       "    <tr>\n",
       "      <th>0</th>\n",
       "      <td>FIL</td>\n",
       "      <td>1</td>\n",
       "      <td>50.0</td>\n",
       "      <td>0.000238</td>\n",
       "      <td>2020-10-01</td>\n",
       "    </tr>\n",
       "    <tr>\n",
       "      <th>1</th>\n",
       "      <td>FIL</td>\n",
       "      <td>11233</td>\n",
       "      <td>561650.0</td>\n",
       "      <td>2.674524</td>\n",
       "      <td>2021-01-01</td>\n",
       "    </tr>\n",
       "    <tr>\n",
       "      <th>2</th>\n",
       "      <td>FIL</td>\n",
       "      <td>63793</td>\n",
       "      <td>3189650.0</td>\n",
       "      <td>15.188810</td>\n",
       "      <td>2022-01-01</td>\n",
       "    </tr>\n",
       "    <tr>\n",
       "      <th>3</th>\n",
       "      <td>FIL</td>\n",
       "      <td>116353</td>\n",
       "      <td>5817650.0</td>\n",
       "      <td>27.703095</td>\n",
       "      <td>2023-01-01</td>\n",
       "    </tr>\n",
       "    <tr>\n",
       "      <th>4</th>\n",
       "      <td>FIL</td>\n",
       "      <td>168913</td>\n",
       "      <td>8445650.0</td>\n",
       "      <td>40.217381</td>\n",
       "      <td>2024-01-01</td>\n",
       "    </tr>\n",
       "  </tbody>\n",
       "</table>\n",
       "</div>"
      ],
      "text/plain": [
       "  coin   block  total_supply  total_supply_pct        date\n",
       "0  FIL       1          50.0          0.000238  2020-10-01\n",
       "1  FIL   11233      561650.0          2.674524  2021-01-01\n",
       "2  FIL   63793     3189650.0         15.188810  2022-01-01\n",
       "3  FIL  116353     5817650.0         27.703095  2023-01-01\n",
       "4  FIL  168913     8445650.0         40.217381  2024-01-01"
      ]
     },
     "metadata": {},
     "output_type": "display_data"
    },
    {
     "data": {
      "text/html": [
       "<div>\n",
       "<style scoped>\n",
       "    .dataframe tbody tr th:only-of-type {\n",
       "        vertical-align: middle;\n",
       "    }\n",
       "\n",
       "    .dataframe tbody tr th {\n",
       "        vertical-align: top;\n",
       "    }\n",
       "\n",
       "    .dataframe thead th {\n",
       "        text-align: right;\n",
       "    }\n",
       "</style>\n",
       "<table border=\"1\" class=\"dataframe\">\n",
       "  <thead>\n",
       "    <tr style=\"text-align: right;\">\n",
       "      <th></th>\n",
       "      <th>coin</th>\n",
       "      <th>block</th>\n",
       "      <th>total_supply</th>\n",
       "      <th>total_supply_pct</th>\n",
       "      <th>date</th>\n",
       "    </tr>\n",
       "  </thead>\n",
       "  <tbody>\n",
       "    <tr>\n",
       "      <th>128</th>\n",
       "      <td>FIL</td>\n",
       "      <td>6690673</td>\n",
       "      <td>2.100000e+07</td>\n",
       "      <td>100.0</td>\n",
       "      <td>2148-01-01</td>\n",
       "    </tr>\n",
       "    <tr>\n",
       "      <th>129</th>\n",
       "      <td>FIL</td>\n",
       "      <td>6743377</td>\n",
       "      <td>2.100000e+07</td>\n",
       "      <td>100.0</td>\n",
       "      <td>2149-01-01</td>\n",
       "    </tr>\n",
       "    <tr>\n",
       "      <th>130</th>\n",
       "      <td>FIL</td>\n",
       "      <td>6795937</td>\n",
       "      <td>2.100000e+07</td>\n",
       "      <td>100.0</td>\n",
       "      <td>2150-01-01</td>\n",
       "    </tr>\n",
       "    <tr>\n",
       "      <th>131</th>\n",
       "      <td>FIL</td>\n",
       "      <td>6848497</td>\n",
       "      <td>2.100000e+07</td>\n",
       "      <td>100.0</td>\n",
       "      <td>2151-01-01</td>\n",
       "    </tr>\n",
       "    <tr>\n",
       "      <th>132</th>\n",
       "      <td>FIL</td>\n",
       "      <td>6901057</td>\n",
       "      <td>2.100000e+07</td>\n",
       "      <td>100.0</td>\n",
       "      <td>2152-01-01</td>\n",
       "    </tr>\n",
       "  </tbody>\n",
       "</table>\n",
       "</div>"
      ],
      "text/plain": [
       "    coin    block  total_supply  total_supply_pct        date\n",
       "128  FIL  6690673  2.100000e+07             100.0  2148-01-01\n",
       "129  FIL  6743377  2.100000e+07             100.0  2149-01-01\n",
       "130  FIL  6795937  2.100000e+07             100.0  2150-01-01\n",
       "131  FIL  6848497  2.100000e+07             100.0  2151-01-01\n",
       "132  FIL  6901057  2.100000e+07             100.0  2152-01-01"
      ]
     },
     "metadata": {},
     "output_type": "display_data"
    }
   ],
   "source": [
    "yearly_supply = cmb.transform_supply(supply, COIN_SYMBOL, freq='yearly')\n",
    "\n",
    "display(yearly_supply.head())\n",
    "display(yearly_supply.tail())"
   ]
  },
  {
   "cell_type": "code",
   "execution_count": null,
   "metadata": {},
   "outputs": [],
   "source": []
  }
 ],
 "metadata": {
  "kernelspec": {
   "display_name": "Python 3",
   "language": "python",
   "name": "python3"
  },
  "language_info": {
   "codemirror_mode": {
    "name": "ipython",
    "version": 3
   },
   "file_extension": ".py",
   "mimetype": "text/x-python",
   "name": "python",
   "nbconvert_exporter": "python",
   "pygments_lexer": "ipython3",
   "version": "3.8.6"
  },
  "toc": {
   "base_numbering": 1,
   "nav_menu": {},
   "number_sections": true,
   "sideBar": true,
   "skip_h1_title": false,
   "title_cell": "Table of Contents",
   "title_sidebar": "Contents",
   "toc_cell": false,
   "toc_position": {},
   "toc_section_display": true,
   "toc_window_display": false
  }
 },
 "nbformat": 4,
 "nbformat_minor": 2
}
