{
 "cells": [
  {
   "cell_type": "code",
   "execution_count": 1,
   "metadata": {
    "execution": {
     "iopub.execute_input": "2021-01-10T18:40:41.822312Z",
     "iopub.status.busy": "2021-01-10T18:40:41.821593Z",
     "iopub.status.idle": "2021-01-10T18:40:42.283755Z",
     "shell.execute_reply": "2021-01-10T18:40:42.283322Z"
    }
   },
   "outputs": [],
   "source": [
    "# Load project functions\n",
    "import crypto_monetary_base as cmb"
   ]
  },
  {
   "cell_type": "code",
   "execution_count": 2,
   "metadata": {
    "execution": {
     "iopub.execute_input": "2021-01-10T18:40:42.291360Z",
     "iopub.status.busy": "2021-01-10T18:40:42.290665Z",
     "iopub.status.idle": "2021-01-10T18:40:42.604184Z",
     "shell.execute_reply": "2021-01-10T18:40:42.604814Z"
    }
   },
   "outputs": [],
   "source": [
    "import pandas as pd\n",
    "import datetime\n",
    "from tqdm import tqdm_notebook\n",
    "\n",
    "import matplotlib.pyplot as plt\n",
    "import matplotlib as mpl\n",
    "import seaborn as sns\n",
    "%matplotlib inline\n",
    "%config InlineBackend.figure_format='retina'\n",
    "sns.set()\n",
    "plt.rcParams['figure.figsize'] = (6, 4)\n",
    "plt.rcParams['axes.labelpad'] = 10\n",
    "mpl.rc('text', usetex=True)\n",
    "plt.style.use('ggplot')\n",
    "\n",
    "from IPython.display import display"
   ]
  },
  {
   "cell_type": "code",
   "execution_count": 3,
   "metadata": {
    "execution": {
     "iopub.execute_input": "2021-01-10T18:40:42.610351Z",
     "iopub.status.busy": "2021-01-10T18:40:42.609592Z",
     "iopub.status.idle": "2021-01-10T18:40:42.698711Z",
     "shell.execute_reply": "2021-01-10T18:40:42.699064Z"
    }
   },
   "outputs": [
    {
     "ename": "AttributeError",
     "evalue": "module 'cgi' has no attribute 'escape'",
     "output_type": "error",
     "traceback": [
      "\u001b[0;31m---------------------------------------------------------------------------\u001b[0m",
      "\u001b[0;31mAttributeError\u001b[0m                            Traceback (most recent call last)",
      "\u001b[0;32m~/.local/share/virtualenvs/crypto-monetary-base-xxmj4jsc/lib/python3.9/site-packages/IPython/core/formatters.py\u001b[0m in \u001b[0;36m__call__\u001b[0;34m(self, obj)\u001b[0m\n\u001b[1;32m    343\u001b[0m             \u001b[0mmethod\u001b[0m \u001b[0;34m=\u001b[0m \u001b[0mget_real_method\u001b[0m\u001b[0;34m(\u001b[0m\u001b[0mobj\u001b[0m\u001b[0;34m,\u001b[0m \u001b[0mself\u001b[0m\u001b[0;34m.\u001b[0m\u001b[0mprint_method\u001b[0m\u001b[0;34m)\u001b[0m\u001b[0;34m\u001b[0m\u001b[0;34m\u001b[0m\u001b[0m\n\u001b[1;32m    344\u001b[0m             \u001b[0;32mif\u001b[0m \u001b[0mmethod\u001b[0m \u001b[0;32mis\u001b[0m \u001b[0;32mnot\u001b[0m \u001b[0;32mNone\u001b[0m\u001b[0;34m:\u001b[0m\u001b[0;34m\u001b[0m\u001b[0;34m\u001b[0m\u001b[0m\n\u001b[0;32m--> 345\u001b[0;31m                 \u001b[0;32mreturn\u001b[0m \u001b[0mmethod\u001b[0m\u001b[0;34m(\u001b[0m\u001b[0;34m)\u001b[0m\u001b[0;34m\u001b[0m\u001b[0;34m\u001b[0m\u001b[0m\n\u001b[0m\u001b[1;32m    346\u001b[0m             \u001b[0;32mreturn\u001b[0m \u001b[0;32mNone\u001b[0m\u001b[0;34m\u001b[0m\u001b[0;34m\u001b[0m\u001b[0m\n\u001b[1;32m    347\u001b[0m         \u001b[0;32melse\u001b[0m\u001b[0;34m:\u001b[0m\u001b[0;34m\u001b[0m\u001b[0;34m\u001b[0m\u001b[0m\n",
      "\u001b[0;32m~/.local/share/virtualenvs/crypto-monetary-base-xxmj4jsc/lib/python3.9/site-packages/version_information/version_information.py\u001b[0m in \u001b[0;36m_repr_html_\u001b[0;34m(self)\u001b[0m\n\u001b[1;32m    126\u001b[0m         \u001b[0mhtml\u001b[0m \u001b[0;34m+=\u001b[0m \u001b[0;34m\"<tr><th>Software</th><th>Version</th></tr>\"\u001b[0m\u001b[0;34m\u001b[0m\u001b[0;34m\u001b[0m\u001b[0m\n\u001b[1;32m    127\u001b[0m         \u001b[0;32mfor\u001b[0m \u001b[0mname\u001b[0m\u001b[0;34m,\u001b[0m \u001b[0mversion\u001b[0m \u001b[0;32min\u001b[0m \u001b[0mself\u001b[0m\u001b[0;34m.\u001b[0m\u001b[0mpackages\u001b[0m\u001b[0;34m:\u001b[0m\u001b[0;34m\u001b[0m\u001b[0;34m\u001b[0m\u001b[0m\n\u001b[0;32m--> 128\u001b[0;31m             \u001b[0m_version\u001b[0m \u001b[0;34m=\u001b[0m \u001b[0mcgi\u001b[0m\u001b[0;34m.\u001b[0m\u001b[0mescape\u001b[0m\u001b[0;34m(\u001b[0m\u001b[0mversion\u001b[0m\u001b[0;34m)\u001b[0m\u001b[0;34m\u001b[0m\u001b[0;34m\u001b[0m\u001b[0m\n\u001b[0m\u001b[1;32m    129\u001b[0m             \u001b[0mhtml\u001b[0m \u001b[0;34m+=\u001b[0m \u001b[0;34m\"<tr><td>%s</td><td>%s</td></tr>\"\u001b[0m \u001b[0;34m%\u001b[0m \u001b[0;34m(\u001b[0m\u001b[0mname\u001b[0m\u001b[0;34m,\u001b[0m \u001b[0m_version\u001b[0m\u001b[0;34m)\u001b[0m\u001b[0;34m\u001b[0m\u001b[0;34m\u001b[0m\u001b[0m\n\u001b[1;32m    130\u001b[0m \u001b[0;34m\u001b[0m\u001b[0m\n",
      "\u001b[0;31mAttributeError\u001b[0m: module 'cgi' has no attribute 'escape'"
     ]
    },
    {
     "data": {
      "application/json": {
       "Software versions": [
        {
         "module": "Python",
         "version": "3.9.1 64bit [GCC 5.4.0 20160609]"
        },
        {
         "module": "IPython",
         "version": "7.19.0"
        },
        {
         "module": "OS",
         "version": "Linux 5.8.0 0.bpo.2 amd64 x86_64 with glibc2.28"
        },
        {
         "module": "pandas",
         "version": "1.2.0"
        },
        {
         "module": "matplotlib",
         "version": "3.3.3"
        },
        {
         "module": "seaborn",
         "version": "0.11.1"
        }
       ]
      },
      "text/latex": [
       "\\begin{tabular}{|l|l|}\\hline\n",
       "{\\bf Software} & {\\bf Version} \\\\ \\hline\\hline\n",
       "Python & 3.9.1 64bit [GCC 5.4.0 20160609] \\\\ \\hline\n",
       "IPython & 7.19.0 \\\\ \\hline\n",
       "OS & Linux 5.8.0 0.bpo.2 amd64 x86\\_64 with glibc2.28 \\\\ \\hline\n",
       "pandas & 1.2.0 \\\\ \\hline\n",
       "matplotlib & 3.3.3 \\\\ \\hline\n",
       "seaborn & 0.11.1 \\\\ \\hline\n",
       "\\hline \\multicolumn{2}{|l|}{Sun Jan 10 13:40:42 2021 EST} \\\\ \\hline\n",
       "\\end{tabular}\n"
      ],
      "text/plain": [
       "Software versions\n",
       "Python 3.9.1 64bit [GCC 5.4.0 20160609]\n",
       "IPython 7.19.0\n",
       "OS Linux 5.8.0 0.bpo.2 amd64 x86_64 with glibc2.28\n",
       "pandas 1.2.0\n",
       "matplotlib 3.3.3\n",
       "seaborn 0.11.1\n",
       "Sun Jan 10 13:40:42 2021 EST"
      ]
     },
     "execution_count": 1,
     "metadata": {},
     "output_type": "execute_result"
    }
   ],
   "source": [
    "%load_ext version_information\n",
    "%version_information pandas, matplotlib, seaborn"
   ]
  },
  {
   "cell_type": "markdown",
   "metadata": {},
   "source": [
    "## Supply Curve Calculation"
   ]
  },
  {
   "cell_type": "code",
   "execution_count": 4,
   "metadata": {
    "execution": {
     "iopub.execute_input": "2021-01-10T18:40:42.702519Z",
     "iopub.status.busy": "2021-01-10T18:40:42.701673Z",
     "iopub.status.idle": "2021-01-10T18:40:42.703510Z",
     "shell.execute_reply": "2021-01-10T18:40:42.704179Z"
    }
   },
   "outputs": [],
   "source": [
    "COIN_SYMBOL = 'LTC'"
   ]
  },
  {
   "cell_type": "code",
   "execution_count": 5,
   "metadata": {
    "execution": {
     "iopub.execute_input": "2021-01-10T18:40:42.710674Z",
     "iopub.status.busy": "2021-01-10T18:40:42.710194Z",
     "iopub.status.idle": "2021-01-10T18:40:42.712020Z",
     "shell.execute_reply": "2021-01-10T18:40:42.711659Z"
    }
   },
   "outputs": [],
   "source": [
    "def ltc_block_supply_curve():\n",
    "    out = [\n",
    "        # Block num,\n",
    "        # Total supply,\n",
    "    ]\n",
    "    inflation_change_blocks=840960\n",
    "    inflation_change_frac=0.5\n",
    "    y = 0\n",
    "    block = 0\n",
    "    while True:\n",
    "        block += 1\n",
    "        num_changes = int(\n",
    "            (block - 1) / inflation_change_blocks\n",
    "        )\n",
    "        if num_changes > 32:\n",
    "            break\n",
    "        block_reward = 50 * (\n",
    "            inflation_change_frac ** num_changes\n",
    "        )\n",
    "        if (block - 1) % inflation_change_blocks == 0:\n",
    "            print(\n",
    "                f'Inflation change #{num_changes}, '\n",
    "                f'block reward = {block_reward}'\n",
    "            )\n",
    "        y += block_reward\n",
    "        out.append([block, y])\n",
    "\n",
    "    return out"
   ]
  },
  {
   "cell_type": "code",
   "execution_count": 6,
   "metadata": {
    "execution": {
     "iopub.execute_input": "2021-01-10T18:40:42.728381Z",
     "iopub.status.busy": "2021-01-10T18:40:42.727395Z",
     "iopub.status.idle": "2021-01-10T18:41:21.364201Z",
     "shell.execute_reply": "2021-01-10T18:41:21.364921Z"
    }
   },
   "outputs": [
    {
     "name": "stdout",
     "output_type": "stream",
     "text": [
      "Inflation change #0, block reward = 50.0\n",
      "Inflation change #1, block reward = 25.0\n",
      "Inflation change #2, block reward = 12.5\n",
      "Inflation change #3, block reward = 6.25\n",
      "Inflation change #4, block reward = 3.125\n",
      "Inflation change #5, block reward = 1.5625\n",
      "Inflation change #6, block reward = 0.78125\n",
      "Inflation change #7, block reward = 0.390625\n",
      "Inflation change #8, block reward = 0.1953125\n",
      "Inflation change #9, block reward = 0.09765625\n",
      "Inflation change #10, block reward = 0.048828125\n",
      "Inflation change #11, block reward = 0.0244140625\n",
      "Inflation change #12, block reward = 0.01220703125\n",
      "Inflation change #13, block reward = 0.006103515625\n",
      "Inflation change #14, block reward = 0.0030517578125\n",
      "Inflation change #15, block reward = 0.00152587890625\n",
      "Inflation change #16, block reward = 0.000762939453125\n",
      "Inflation change #17, block reward = 0.0003814697265625\n",
      "Inflation change #18, block reward = 0.00019073486328125\n",
      "Inflation change #19, block reward = 9.5367431640625e-05\n",
      "Inflation change #20, block reward = 4.76837158203125e-05\n",
      "Inflation change #21, block reward = 2.384185791015625e-05\n",
      "Inflation change #22, block reward = 1.1920928955078125e-05\n",
      "Inflation change #23, block reward = 5.9604644775390625e-06\n",
      "Inflation change #24, block reward = 2.9802322387695312e-06\n",
      "Inflation change #25, block reward = 1.4901161193847656e-06\n",
      "Inflation change #26, block reward = 7.450580596923828e-07\n",
      "Inflation change #27, block reward = 3.725290298461914e-07\n",
      "Inflation change #28, block reward = 1.862645149230957e-07\n",
      "Inflation change #29, block reward = 9.313225746154785e-08\n",
      "Inflation change #30, block reward = 4.6566128730773926e-08\n",
      "Inflation change #31, block reward = 2.3283064365386963e-08\n",
      "Inflation change #32, block reward = 1.1641532182693481e-08\n"
     ]
    }
   ],
   "source": [
    "start_date = datetime.date(2011, 10, 7)\n",
    "block_time = datetime.timedelta(seconds=60 * 2.5)\n",
    "\n",
    "block_supply = ltc_block_supply_curve()\n",
    "\n",
    "supply = cmb.datetime_supply_curve(\n",
    "    start_date=start_date,\n",
    "    block_time=block_time,\n",
    "    block_supply=block_supply,\n",
    ")"
   ]
  },
  {
   "cell_type": "code",
   "execution_count": 7,
   "metadata": {
    "execution": {
     "iopub.execute_input": "2021-01-10T18:41:21.368923Z",
     "iopub.status.busy": "2021-01-10T18:41:21.368226Z",
     "iopub.status.idle": "2021-01-10T18:41:23.529890Z",
     "shell.execute_reply": "2021-01-10T18:41:23.530662Z"
    }
   },
   "outputs": [
    {
     "data": {
      "text/html": [
       "<div>\n",
       "<style scoped>\n",
       "    .dataframe tbody tr th:only-of-type {\n",
       "        vertical-align: middle;\n",
       "    }\n",
       "\n",
       "    .dataframe tbody tr th {\n",
       "        vertical-align: top;\n",
       "    }\n",
       "\n",
       "    .dataframe thead th {\n",
       "        text-align: right;\n",
       "    }\n",
       "</style>\n",
       "<table border=\"1\" class=\"dataframe\">\n",
       "  <thead>\n",
       "    <tr style=\"text-align: right;\">\n",
       "      <th></th>\n",
       "      <th>block</th>\n",
       "      <th>total_supply</th>\n",
       "      <th>total_supply_pct</th>\n",
       "      <th>date</th>\n",
       "    </tr>\n",
       "  </thead>\n",
       "  <tbody>\n",
       "    <tr>\n",
       "      <th>0</th>\n",
       "      <td>1</td>\n",
       "      <td>50.0</td>\n",
       "      <td>0.000059</td>\n",
       "      <td>2011-10-07 00:00:00</td>\n",
       "    </tr>\n",
       "    <tr>\n",
       "      <th>1</th>\n",
       "      <td>2</td>\n",
       "      <td>100.0</td>\n",
       "      <td>0.000119</td>\n",
       "      <td>2011-10-07 00:02:30</td>\n",
       "    </tr>\n",
       "    <tr>\n",
       "      <th>2</th>\n",
       "      <td>3</td>\n",
       "      <td>150.0</td>\n",
       "      <td>0.000178</td>\n",
       "      <td>2011-10-07 00:05:00</td>\n",
       "    </tr>\n",
       "    <tr>\n",
       "      <th>3</th>\n",
       "      <td>4</td>\n",
       "      <td>200.0</td>\n",
       "      <td>0.000238</td>\n",
       "      <td>2011-10-07 00:07:30</td>\n",
       "    </tr>\n",
       "    <tr>\n",
       "      <th>4</th>\n",
       "      <td>5</td>\n",
       "      <td>250.0</td>\n",
       "      <td>0.000297</td>\n",
       "      <td>2011-10-07 00:10:00</td>\n",
       "    </tr>\n",
       "  </tbody>\n",
       "</table>\n",
       "</div>"
      ],
      "text/plain": [
       "   block  total_supply  total_supply_pct                date\n",
       "0      1          50.0          0.000059 2011-10-07 00:00:00\n",
       "1      2         100.0          0.000119 2011-10-07 00:02:30\n",
       "2      3         150.0          0.000178 2011-10-07 00:05:00\n",
       "3      4         200.0          0.000238 2011-10-07 00:07:30\n",
       "4      5         250.0          0.000297 2011-10-07 00:10:00"
      ]
     },
     "metadata": {},
     "output_type": "display_data"
    },
    {
     "data": {
      "text/html": [
       "<div>\n",
       "<style scoped>\n",
       "    .dataframe tbody tr th:only-of-type {\n",
       "        vertical-align: middle;\n",
       "    }\n",
       "\n",
       "    .dataframe tbody tr th {\n",
       "        vertical-align: top;\n",
       "    }\n",
       "\n",
       "    .dataframe thead th {\n",
       "        text-align: right;\n",
       "    }\n",
       "</style>\n",
       "<table border=\"1\" class=\"dataframe\">\n",
       "  <thead>\n",
       "    <tr style=\"text-align: right;\">\n",
       "      <th></th>\n",
       "      <th>block</th>\n",
       "      <th>total_supply</th>\n",
       "      <th>total_supply_pct</th>\n",
       "      <th>date</th>\n",
       "    </tr>\n",
       "  </thead>\n",
       "  <tbody>\n",
       "    <tr>\n",
       "      <th>27751675</th>\n",
       "      <td>27751676</td>\n",
       "      <td>8.409600e+07</td>\n",
       "      <td>100.0</td>\n",
       "      <td>2143-09-04 23:47:30</td>\n",
       "    </tr>\n",
       "    <tr>\n",
       "      <th>27751676</th>\n",
       "      <td>27751677</td>\n",
       "      <td>8.409600e+07</td>\n",
       "      <td>100.0</td>\n",
       "      <td>2143-09-04 23:50:00</td>\n",
       "    </tr>\n",
       "    <tr>\n",
       "      <th>27751677</th>\n",
       "      <td>27751678</td>\n",
       "      <td>8.409600e+07</td>\n",
       "      <td>100.0</td>\n",
       "      <td>2143-09-04 23:52:30</td>\n",
       "    </tr>\n",
       "    <tr>\n",
       "      <th>27751678</th>\n",
       "      <td>27751679</td>\n",
       "      <td>8.409600e+07</td>\n",
       "      <td>100.0</td>\n",
       "      <td>2143-09-04 23:55:00</td>\n",
       "    </tr>\n",
       "    <tr>\n",
       "      <th>27751679</th>\n",
       "      <td>27751680</td>\n",
       "      <td>8.409600e+07</td>\n",
       "      <td>100.0</td>\n",
       "      <td>2143-09-04 23:57:30</td>\n",
       "    </tr>\n",
       "  </tbody>\n",
       "</table>\n",
       "</div>"
      ],
      "text/plain": [
       "             block  total_supply  total_supply_pct                date\n",
       "27751675  27751676  8.409600e+07             100.0 2143-09-04 23:47:30\n",
       "27751676  27751677  8.409600e+07             100.0 2143-09-04 23:50:00\n",
       "27751677  27751678  8.409600e+07             100.0 2143-09-04 23:52:30\n",
       "27751678  27751679  8.409600e+07             100.0 2143-09-04 23:55:00\n",
       "27751679  27751680  8.409600e+07             100.0 2143-09-04 23:57:30"
      ]
     },
     "metadata": {},
     "output_type": "display_data"
    },
    {
     "data": {
      "text/plain": [
       "<module 'matplotlib.pyplot' from '/home/lane/.local/share/virtualenvs/crypto-monetary-base-xxmj4jsc/lib/python3.9/site-packages/matplotlib/pyplot.py'>"
      ]
     },
     "execution_count": 1,
     "metadata": {},
     "output_type": "execute_result"
    },
    {
     "data": {
      "image/png": "[encoded data removed]",
      "text/plain": [
       "<Figure size 432x288 with 1 Axes>"
      ]
     },
     "metadata": {
      "image/png": {
       "height": 277,
       "width": 384
      }
     },
     "output_type": "display_data"
    }
   ],
   "source": [
    "display(supply.head())\n",
    "display(supply.tail())\n",
    "\n",
    "cmb.plot_supply_curve(\n",
    "    supply,\n",
    "    'LTC',\n",
    ");"
   ]
  },
  {
   "cell_type": "markdown",
   "metadata": {},
   "source": [
    "## Standardize Time Series"
   ]
  },
  {
   "cell_type": "code",
   "execution_count": 8,
   "metadata": {
    "execution": {
     "iopub.execute_input": "2021-01-10T18:41:23.535493Z",
     "iopub.status.busy": "2021-01-10T18:41:23.534635Z",
     "iopub.status.idle": "2021-01-10T18:41:24.849467Z",
     "shell.execute_reply": "2021-01-10T18:41:24.848743Z"
    }
   },
   "outputs": [
    {
     "name": "stdout",
     "output_type": "stream",
     "text": [
      "Wrote 6884 lines to file ../output-data/LTC_weekly.csv\n"
     ]
    },
    {
     "data": {
      "text/html": [
       "<div>\n",
       "<style scoped>\n",
       "    .dataframe tbody tr th:only-of-type {\n",
       "        vertical-align: middle;\n",
       "    }\n",
       "\n",
       "    .dataframe tbody tr th {\n",
       "        vertical-align: top;\n",
       "    }\n",
       "\n",
       "    .dataframe thead th {\n",
       "        text-align: right;\n",
       "    }\n",
       "</style>\n",
       "<table border=\"1\" class=\"dataframe\">\n",
       "  <thead>\n",
       "    <tr style=\"text-align: right;\">\n",
       "      <th></th>\n",
       "      <th>coin</th>\n",
       "      <th>block</th>\n",
       "      <th>total_supply</th>\n",
       "      <th>total_supply_pct</th>\n",
       "      <th>date</th>\n",
       "    </tr>\n",
       "  </thead>\n",
       "  <tbody>\n",
       "    <tr>\n",
       "      <th>0</th>\n",
       "      <td>LTC</td>\n",
       "      <td>1</td>\n",
       "      <td>50.0</td>\n",
       "      <td>0.000059</td>\n",
       "      <td>2011-10-01</td>\n",
       "    </tr>\n",
       "    <tr>\n",
       "      <th>1</th>\n",
       "      <td>LTC</td>\n",
       "      <td>1729</td>\n",
       "      <td>86450.0</td>\n",
       "      <td>0.102799</td>\n",
       "      <td>2011-10-01</td>\n",
       "    </tr>\n",
       "    <tr>\n",
       "      <th>2</th>\n",
       "      <td>LTC</td>\n",
       "      <td>5761</td>\n",
       "      <td>288050.0</td>\n",
       "      <td>0.342525</td>\n",
       "      <td>2011-10-01</td>\n",
       "    </tr>\n",
       "    <tr>\n",
       "      <th>3</th>\n",
       "      <td>LTC</td>\n",
       "      <td>9793</td>\n",
       "      <td>489650.0</td>\n",
       "      <td>0.582251</td>\n",
       "      <td>2011-10-01</td>\n",
       "    </tr>\n",
       "    <tr>\n",
       "      <th>4</th>\n",
       "      <td>LTC</td>\n",
       "      <td>13825</td>\n",
       "      <td>691250.0</td>\n",
       "      <td>0.821977</td>\n",
       "      <td>2011-10-01</td>\n",
       "    </tr>\n",
       "  </tbody>\n",
       "</table>\n",
       "</div>"
      ],
      "text/plain": [
       "  coin  block  total_supply  total_supply_pct        date\n",
       "0  LTC      1          50.0          0.000059  2011-10-01\n",
       "1  LTC   1729       86450.0          0.102799  2011-10-01\n",
       "2  LTC   5761      288050.0          0.342525  2011-10-01\n",
       "3  LTC   9793      489650.0          0.582251  2011-10-01\n",
       "4  LTC  13825      691250.0          0.821977  2011-10-01"
      ]
     },
     "metadata": {},
     "output_type": "display_data"
    },
    {
     "data": {
      "text/html": [
       "<div>\n",
       "<style scoped>\n",
       "    .dataframe tbody tr th:only-of-type {\n",
       "        vertical-align: middle;\n",
       "    }\n",
       "\n",
       "    .dataframe tbody tr th {\n",
       "        vertical-align: top;\n",
       "    }\n",
       "\n",
       "    .dataframe thead th {\n",
       "        text-align: right;\n",
       "    }\n",
       "</style>\n",
       "<table border=\"1\" class=\"dataframe\">\n",
       "  <thead>\n",
       "    <tr style=\"text-align: right;\">\n",
       "      <th></th>\n",
       "      <th>coin</th>\n",
       "      <th>block</th>\n",
       "      <th>total_supply</th>\n",
       "      <th>total_supply_pct</th>\n",
       "      <th>date</th>\n",
       "    </tr>\n",
       "  </thead>\n",
       "  <tbody>\n",
       "    <tr>\n",
       "      <th>6879</th>\n",
       "      <td>LTC</td>\n",
       "      <td>27733825</td>\n",
       "      <td>8.409600e+07</td>\n",
       "      <td>100.0</td>\n",
       "      <td>2143-08-01</td>\n",
       "    </tr>\n",
       "    <tr>\n",
       "      <th>6880</th>\n",
       "      <td>LTC</td>\n",
       "      <td>27737857</td>\n",
       "      <td>8.409600e+07</td>\n",
       "      <td>100.0</td>\n",
       "      <td>2143-08-01</td>\n",
       "    </tr>\n",
       "    <tr>\n",
       "      <th>6881</th>\n",
       "      <td>LTC</td>\n",
       "      <td>27741889</td>\n",
       "      <td>8.409600e+07</td>\n",
       "      <td>100.0</td>\n",
       "      <td>2143-08-01</td>\n",
       "    </tr>\n",
       "    <tr>\n",
       "      <th>6882</th>\n",
       "      <td>LTC</td>\n",
       "      <td>27745921</td>\n",
       "      <td>8.409600e+07</td>\n",
       "      <td>100.0</td>\n",
       "      <td>2143-08-01</td>\n",
       "    </tr>\n",
       "    <tr>\n",
       "      <th>6883</th>\n",
       "      <td>LTC</td>\n",
       "      <td>27749953</td>\n",
       "      <td>8.409600e+07</td>\n",
       "      <td>100.0</td>\n",
       "      <td>2143-09-01</td>\n",
       "    </tr>\n",
       "  </tbody>\n",
       "</table>\n",
       "</div>"
      ],
      "text/plain": [
       "     coin     block  total_supply  total_supply_pct        date\n",
       "6879  LTC  27733825  8.409600e+07             100.0  2143-08-01\n",
       "6880  LTC  27737857  8.409600e+07             100.0  2143-08-01\n",
       "6881  LTC  27741889  8.409600e+07             100.0  2143-08-01\n",
       "6882  LTC  27745921  8.409600e+07             100.0  2143-08-01\n",
       "6883  LTC  27749953  8.409600e+07             100.0  2143-09-01"
      ]
     },
     "metadata": {},
     "output_type": "display_data"
    }
   ],
   "source": [
    "weekly_supply = cmb.transform_supply(supply, COIN_SYMBOL, freq='weekly')\n",
    "\n",
    "display(weekly_supply.head())\n",
    "display(weekly_supply.tail())"
   ]
  },
  {
   "cell_type": "code",
   "execution_count": 9,
   "metadata": {
    "execution": {
     "iopub.execute_input": "2021-01-10T18:41:24.852877Z",
     "iopub.status.busy": "2021-01-10T18:41:24.852130Z",
     "iopub.status.idle": "2021-01-10T18:41:26.051967Z",
     "shell.execute_reply": "2021-01-10T18:41:26.051370Z"
    }
   },
   "outputs": [
    {
     "name": "stdout",
     "output_type": "stream",
     "text": [
      "Wrote 1584 lines to file ../output-data/LTC_monthly.csv\n"
     ]
    },
    {
     "data": {
      "text/html": [
       "<div>\n",
       "<style scoped>\n",
       "    .dataframe tbody tr th:only-of-type {\n",
       "        vertical-align: middle;\n",
       "    }\n",
       "\n",
       "    .dataframe tbody tr th {\n",
       "        vertical-align: top;\n",
       "    }\n",
       "\n",
       "    .dataframe thead th {\n",
       "        text-align: right;\n",
       "    }\n",
       "</style>\n",
       "<table border=\"1\" class=\"dataframe\">\n",
       "  <thead>\n",
       "    <tr style=\"text-align: right;\">\n",
       "      <th></th>\n",
       "      <th>coin</th>\n",
       "      <th>block</th>\n",
       "      <th>total_supply</th>\n",
       "      <th>total_supply_pct</th>\n",
       "      <th>date</th>\n",
       "    </tr>\n",
       "  </thead>\n",
       "  <tbody>\n",
       "    <tr>\n",
       "      <th>0</th>\n",
       "      <td>LTC</td>\n",
       "      <td>1</td>\n",
       "      <td>50.0</td>\n",
       "      <td>0.000059</td>\n",
       "      <td>2011-10-01</td>\n",
       "    </tr>\n",
       "    <tr>\n",
       "      <th>1</th>\n",
       "      <td>LTC</td>\n",
       "      <td>14401</td>\n",
       "      <td>720050.0</td>\n",
       "      <td>0.856224</td>\n",
       "      <td>2011-11-01</td>\n",
       "    </tr>\n",
       "    <tr>\n",
       "      <th>2</th>\n",
       "      <td>LTC</td>\n",
       "      <td>31681</td>\n",
       "      <td>1584050.0</td>\n",
       "      <td>1.883621</td>\n",
       "      <td>2011-12-01</td>\n",
       "    </tr>\n",
       "    <tr>\n",
       "      <th>3</th>\n",
       "      <td>LTC</td>\n",
       "      <td>49537</td>\n",
       "      <td>2476850.0</td>\n",
       "      <td>2.945265</td>\n",
       "      <td>2012-01-01</td>\n",
       "    </tr>\n",
       "    <tr>\n",
       "      <th>4</th>\n",
       "      <td>LTC</td>\n",
       "      <td>67393</td>\n",
       "      <td>3369650.0</td>\n",
       "      <td>4.006909</td>\n",
       "      <td>2012-02-01</td>\n",
       "    </tr>\n",
       "  </tbody>\n",
       "</table>\n",
       "</div>"
      ],
      "text/plain": [
       "  coin  block  total_supply  total_supply_pct        date\n",
       "0  LTC      1          50.0          0.000059  2011-10-01\n",
       "1  LTC  14401      720050.0          0.856224  2011-11-01\n",
       "2  LTC  31681     1584050.0          1.883621  2011-12-01\n",
       "3  LTC  49537     2476850.0          2.945265  2012-01-01\n",
       "4  LTC  67393     3369650.0          4.006909  2012-02-01"
      ]
     },
     "metadata": {},
     "output_type": "display_data"
    },
    {
     "data": {
      "text/html": [
       "<div>\n",
       "<style scoped>\n",
       "    .dataframe tbody tr th:only-of-type {\n",
       "        vertical-align: middle;\n",
       "    }\n",
       "\n",
       "    .dataframe tbody tr th {\n",
       "        vertical-align: top;\n",
       "    }\n",
       "\n",
       "    .dataframe thead th {\n",
       "        text-align: right;\n",
       "    }\n",
       "</style>\n",
       "<table border=\"1\" class=\"dataframe\">\n",
       "  <thead>\n",
       "    <tr style=\"text-align: right;\">\n",
       "      <th></th>\n",
       "      <th>coin</th>\n",
       "      <th>block</th>\n",
       "      <th>total_supply</th>\n",
       "      <th>total_supply_pct</th>\n",
       "      <th>date</th>\n",
       "    </tr>\n",
       "  </thead>\n",
       "  <tbody>\n",
       "    <tr>\n",
       "      <th>1579</th>\n",
       "      <td>LTC</td>\n",
       "      <td>27678529</td>\n",
       "      <td>8.409600e+07</td>\n",
       "      <td>100.0</td>\n",
       "      <td>2143-05-01</td>\n",
       "    </tr>\n",
       "    <tr>\n",
       "      <th>1580</th>\n",
       "      <td>LTC</td>\n",
       "      <td>27696385</td>\n",
       "      <td>8.409600e+07</td>\n",
       "      <td>100.0</td>\n",
       "      <td>2143-06-01</td>\n",
       "    </tr>\n",
       "    <tr>\n",
       "      <th>1581</th>\n",
       "      <td>LTC</td>\n",
       "      <td>27713665</td>\n",
       "      <td>8.409600e+07</td>\n",
       "      <td>100.0</td>\n",
       "      <td>2143-07-01</td>\n",
       "    </tr>\n",
       "    <tr>\n",
       "      <th>1582</th>\n",
       "      <td>LTC</td>\n",
       "      <td>27731521</td>\n",
       "      <td>8.409600e+07</td>\n",
       "      <td>100.0</td>\n",
       "      <td>2143-08-01</td>\n",
       "    </tr>\n",
       "    <tr>\n",
       "      <th>1583</th>\n",
       "      <td>LTC</td>\n",
       "      <td>27749377</td>\n",
       "      <td>8.409600e+07</td>\n",
       "      <td>100.0</td>\n",
       "      <td>2143-09-01</td>\n",
       "    </tr>\n",
       "  </tbody>\n",
       "</table>\n",
       "</div>"
      ],
      "text/plain": [
       "     coin     block  total_supply  total_supply_pct        date\n",
       "1579  LTC  27678529  8.409600e+07             100.0  2143-05-01\n",
       "1580  LTC  27696385  8.409600e+07             100.0  2143-06-01\n",
       "1581  LTC  27713665  8.409600e+07             100.0  2143-07-01\n",
       "1582  LTC  27731521  8.409600e+07             100.0  2143-08-01\n",
       "1583  LTC  27749377  8.409600e+07             100.0  2143-09-01"
      ]
     },
     "metadata": {},
     "output_type": "display_data"
    }
   ],
   "source": [
    "monthly_supply = cmb.transform_supply(supply, COIN_SYMBOL, freq='monthly')\n",
    "\n",
    "display(monthly_supply.head())\n",
    "display(monthly_supply.tail())"
   ]
  },
  {
   "cell_type": "code",
   "execution_count": 10,
   "metadata": {
    "execution": {
     "iopub.execute_input": "2021-01-10T18:41:26.055122Z",
     "iopub.status.busy": "2021-01-10T18:41:26.054539Z",
     "iopub.status.idle": "2021-01-10T18:41:27.148176Z",
     "shell.execute_reply": "2021-01-10T18:41:27.148502Z"
    }
   },
   "outputs": [
    {
     "name": "stdout",
     "output_type": "stream",
     "text": [
      "Wrote 133 lines to file ../output-data/LTC_yearly.csv\n"
     ]
    },
    {
     "data": {
      "text/html": [
       "<div>\n",
       "<style scoped>\n",
       "    .dataframe tbody tr th:only-of-type {\n",
       "        vertical-align: middle;\n",
       "    }\n",
       "\n",
       "    .dataframe tbody tr th {\n",
       "        vertical-align: top;\n",
       "    }\n",
       "\n",
       "    .dataframe thead th {\n",
       "        text-align: right;\n",
       "    }\n",
       "</style>\n",
       "<table border=\"1\" class=\"dataframe\">\n",
       "  <thead>\n",
       "    <tr style=\"text-align: right;\">\n",
       "      <th></th>\n",
       "      <th>coin</th>\n",
       "      <th>block</th>\n",
       "      <th>total_supply</th>\n",
       "      <th>total_supply_pct</th>\n",
       "      <th>date</th>\n",
       "    </tr>\n",
       "  </thead>\n",
       "  <tbody>\n",
       "    <tr>\n",
       "      <th>0</th>\n",
       "      <td>LTC</td>\n",
       "      <td>1</td>\n",
       "      <td>50.0</td>\n",
       "      <td>0.000059</td>\n",
       "      <td>2011-10-01</td>\n",
       "    </tr>\n",
       "    <tr>\n",
       "      <th>1</th>\n",
       "      <td>LTC</td>\n",
       "      <td>49537</td>\n",
       "      <td>2476850.0</td>\n",
       "      <td>2.945265</td>\n",
       "      <td>2012-01-01</td>\n",
       "    </tr>\n",
       "    <tr>\n",
       "      <th>2</th>\n",
       "      <td>LTC</td>\n",
       "      <td>260353</td>\n",
       "      <td>13017650.0</td>\n",
       "      <td>15.479512</td>\n",
       "      <td>2013-01-01</td>\n",
       "    </tr>\n",
       "    <tr>\n",
       "      <th>3</th>\n",
       "      <td>LTC</td>\n",
       "      <td>470593</td>\n",
       "      <td>23529650.0</td>\n",
       "      <td>27.979512</td>\n",
       "      <td>2014-01-01</td>\n",
       "    </tr>\n",
       "    <tr>\n",
       "      <th>4</th>\n",
       "      <td>LTC</td>\n",
       "      <td>680833</td>\n",
       "      <td>34041650.0</td>\n",
       "      <td>40.479512</td>\n",
       "      <td>2015-01-01</td>\n",
       "    </tr>\n",
       "  </tbody>\n",
       "</table>\n",
       "</div>"
      ],
      "text/plain": [
       "  coin   block  total_supply  total_supply_pct        date\n",
       "0  LTC       1          50.0          0.000059  2011-10-01\n",
       "1  LTC   49537     2476850.0          2.945265  2012-01-01\n",
       "2  LTC  260353    13017650.0         15.479512  2013-01-01\n",
       "3  LTC  470593    23529650.0         27.979512  2014-01-01\n",
       "4  LTC  680833    34041650.0         40.479512  2015-01-01"
      ]
     },
     "metadata": {},
     "output_type": "display_data"
    },
    {
     "data": {
      "text/html": [
       "<div>\n",
       "<style scoped>\n",
       "    .dataframe tbody tr th:only-of-type {\n",
       "        vertical-align: middle;\n",
       "    }\n",
       "\n",
       "    .dataframe tbody tr th {\n",
       "        vertical-align: top;\n",
       "    }\n",
       "\n",
       "    .dataframe thead th {\n",
       "        text-align: right;\n",
       "    }\n",
       "</style>\n",
       "<table border=\"1\" class=\"dataframe\">\n",
       "  <thead>\n",
       "    <tr style=\"text-align: right;\">\n",
       "      <th></th>\n",
       "      <th>coin</th>\n",
       "      <th>block</th>\n",
       "      <th>total_supply</th>\n",
       "      <th>total_supply_pct</th>\n",
       "      <th>date</th>\n",
       "    </tr>\n",
       "  </thead>\n",
       "  <tbody>\n",
       "    <tr>\n",
       "      <th>128</th>\n",
       "      <td>LTC</td>\n",
       "      <td>26767873</td>\n",
       "      <td>8.409600e+07</td>\n",
       "      <td>100.0</td>\n",
       "      <td>2139-01-01</td>\n",
       "    </tr>\n",
       "    <tr>\n",
       "      <th>129</th>\n",
       "      <td>LTC</td>\n",
       "      <td>26978113</td>\n",
       "      <td>8.409600e+07</td>\n",
       "      <td>100.0</td>\n",
       "      <td>2140-01-01</td>\n",
       "    </tr>\n",
       "    <tr>\n",
       "      <th>130</th>\n",
       "      <td>LTC</td>\n",
       "      <td>27188929</td>\n",
       "      <td>8.409600e+07</td>\n",
       "      <td>100.0</td>\n",
       "      <td>2141-01-01</td>\n",
       "    </tr>\n",
       "    <tr>\n",
       "      <th>131</th>\n",
       "      <td>LTC</td>\n",
       "      <td>27399169</td>\n",
       "      <td>8.409600e+07</td>\n",
       "      <td>100.0</td>\n",
       "      <td>2142-01-01</td>\n",
       "    </tr>\n",
       "    <tr>\n",
       "      <th>132</th>\n",
       "      <td>LTC</td>\n",
       "      <td>27609409</td>\n",
       "      <td>8.409600e+07</td>\n",
       "      <td>100.0</td>\n",
       "      <td>2143-01-01</td>\n",
       "    </tr>\n",
       "  </tbody>\n",
       "</table>\n",
       "</div>"
      ],
      "text/plain": [
       "    coin     block  total_supply  total_supply_pct        date\n",
       "128  LTC  26767873  8.409600e+07             100.0  2139-01-01\n",
       "129  LTC  26978113  8.409600e+07             100.0  2140-01-01\n",
       "130  LTC  27188929  8.409600e+07             100.0  2141-01-01\n",
       "131  LTC  27399169  8.409600e+07             100.0  2142-01-01\n",
       "132  LTC  27609409  8.409600e+07             100.0  2143-01-01"
      ]
     },
     "metadata": {},
     "output_type": "display_data"
    }
   ],
   "source": [
    "yearly_supply = cmb.transform_supply(supply, COIN_SYMBOL, freq='yearly')\n",
    "\n",
    "display(yearly_supply.head())\n",
    "display(yearly_supply.tail())"
   ]
  }
 ],
 "metadata": {
  "kernelspec": {
   "display_name": "Python [default]",
   "language": "python",
   "name": "python3"
  },
  "language_info": {
   "codemirror_mode": {
    "name": "ipython",
    "version": 3
   },
   "file_extension": ".py",
   "mimetype": "text/x-python",
   "name": "python",
   "nbconvert_exporter": "python",
   "pygments_lexer": "ipython3",
   "version": "3.9.1"
  },
  "toc": {
   "base_numbering": 1,
   "nav_menu": {},
   "number_sections": true,
   "sideBar": true,
   "skip_h1_title": false,
   "title_cell": "Table of Contents",
   "title_sidebar": "Contents",
   "toc_cell": false,
   "toc_position": {},
   "toc_section_display": true,
   "toc_window_display": false
  }
 },
 "nbformat": 4,
 "nbformat_minor": 2
}
