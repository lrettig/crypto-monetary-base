{
 "cells": [
  {
   "cell_type": "code",
   "execution_count": 1,
   "metadata": {
    "execution": {
     "iopub.execute_input": "2021-01-10T18:32:53.003471Z",
     "iopub.status.busy": "2021-01-10T18:32:53.002807Z",
     "iopub.status.idle": "2021-01-10T18:32:53.392068Z",
     "shell.execute_reply": "2021-01-10T18:32:53.392944Z"
    }
   },
   "outputs": [],
   "source": [
    "# Load project functions\n",
    "import crypto_monetary_base as cmb"
   ]
  },
  {
   "cell_type": "code",
   "execution_count": 2,
   "metadata": {
    "execution": {
     "iopub.execute_input": "2021-01-10T18:32:53.401794Z",
     "iopub.status.busy": "2021-01-10T18:32:53.401178Z",
     "iopub.status.idle": "2021-01-10T18:32:53.665367Z",
     "shell.execute_reply": "2021-01-10T18:32:53.665901Z"
    }
   },
   "outputs": [],
   "source": [
    "import pandas as pd\n",
    "import datetime\n",
    "from tqdm import tqdm_notebook\n",
    "\n",
    "import matplotlib.pyplot as plt\n",
    "import matplotlib as mpl\n",
    "import seaborn as sns\n",
    "%matplotlib inline\n",
    "%config InlineBackend.figure_format='retina'\n",
    "sns.set()\n",
    "plt.rcParams['figure.figsize'] = (6, 4)\n",
    "plt.rcParams['axes.labelpad'] = 10\n",
    "mpl.rc('text', usetex=True)\n",
    "plt.style.use('ggplot')\n",
    "\n",
    "from IPython.display import display"
   ]
  },
  {
   "cell_type": "code",
   "execution_count": 3,
   "metadata": {
    "execution": {
     "iopub.execute_input": "2021-01-10T18:32:53.671290Z",
     "iopub.status.busy": "2021-01-10T18:32:53.669415Z",
     "iopub.status.idle": "2021-01-10T18:32:53.748938Z",
     "shell.execute_reply": "2021-01-10T18:32:53.748527Z"
    }
   },
   "outputs": [
    {
     "ename": "AttributeError",
     "evalue": "module 'cgi' has no attribute 'escape'",
     "output_type": "error",
     "traceback": [
      "\u001b[0;31m---------------------------------------------------------------------------\u001b[0m",
      "\u001b[0;31mAttributeError\u001b[0m                            Traceback (most recent call last)",
      "\u001b[0;32m~/.local/share/virtualenvs/crypto-monetary-base-xxmj4jsc/lib/python3.9/site-packages/IPython/core/formatters.py\u001b[0m in \u001b[0;36m__call__\u001b[0;34m(self, obj)\u001b[0m\n\u001b[1;32m    343\u001b[0m             \u001b[0mmethod\u001b[0m \u001b[0;34m=\u001b[0m \u001b[0mget_real_method\u001b[0m\u001b[0;34m(\u001b[0m\u001b[0mobj\u001b[0m\u001b[0;34m,\u001b[0m \u001b[0mself\u001b[0m\u001b[0;34m.\u001b[0m\u001b[0mprint_method\u001b[0m\u001b[0;34m)\u001b[0m\u001b[0;34m\u001b[0m\u001b[0;34m\u001b[0m\u001b[0m\n\u001b[1;32m    344\u001b[0m             \u001b[0;32mif\u001b[0m \u001b[0mmethod\u001b[0m \u001b[0;32mis\u001b[0m \u001b[0;32mnot\u001b[0m \u001b[0;32mNone\u001b[0m\u001b[0;34m:\u001b[0m\u001b[0;34m\u001b[0m\u001b[0;34m\u001b[0m\u001b[0m\n\u001b[0;32m--> 345\u001b[0;31m                 \u001b[0;32mreturn\u001b[0m \u001b[0mmethod\u001b[0m\u001b[0;34m(\u001b[0m\u001b[0;34m)\u001b[0m\u001b[0;34m\u001b[0m\u001b[0;34m\u001b[0m\u001b[0m\n\u001b[0m\u001b[1;32m    346\u001b[0m             \u001b[0;32mreturn\u001b[0m \u001b[0;32mNone\u001b[0m\u001b[0;34m\u001b[0m\u001b[0;34m\u001b[0m\u001b[0m\n\u001b[1;32m    347\u001b[0m         \u001b[0;32melse\u001b[0m\u001b[0;34m:\u001b[0m\u001b[0;34m\u001b[0m\u001b[0;34m\u001b[0m\u001b[0m\n",
      "\u001b[0;32m~/.local/share/virtualenvs/crypto-monetary-base-xxmj4jsc/lib/python3.9/site-packages/version_information/version_information.py\u001b[0m in \u001b[0;36m_repr_html_\u001b[0;34m(self)\u001b[0m\n\u001b[1;32m    126\u001b[0m         \u001b[0mhtml\u001b[0m \u001b[0;34m+=\u001b[0m \u001b[0;34m\"<tr><th>Software</th><th>Version</th></tr>\"\u001b[0m\u001b[0;34m\u001b[0m\u001b[0;34m\u001b[0m\u001b[0m\n\u001b[1;32m    127\u001b[0m         \u001b[0;32mfor\u001b[0m \u001b[0mname\u001b[0m\u001b[0;34m,\u001b[0m \u001b[0mversion\u001b[0m \u001b[0;32min\u001b[0m \u001b[0mself\u001b[0m\u001b[0;34m.\u001b[0m\u001b[0mpackages\u001b[0m\u001b[0;34m:\u001b[0m\u001b[0;34m\u001b[0m\u001b[0;34m\u001b[0m\u001b[0m\n\u001b[0;32m--> 128\u001b[0;31m             \u001b[0m_version\u001b[0m \u001b[0;34m=\u001b[0m \u001b[0mcgi\u001b[0m\u001b[0;34m.\u001b[0m\u001b[0mescape\u001b[0m\u001b[0;34m(\u001b[0m\u001b[0mversion\u001b[0m\u001b[0;34m)\u001b[0m\u001b[0;34m\u001b[0m\u001b[0;34m\u001b[0m\u001b[0m\n\u001b[0m\u001b[1;32m    129\u001b[0m             \u001b[0mhtml\u001b[0m \u001b[0;34m+=\u001b[0m \u001b[0;34m\"<tr><td>%s</td><td>%s</td></tr>\"\u001b[0m \u001b[0;34m%\u001b[0m \u001b[0;34m(\u001b[0m\u001b[0mname\u001b[0m\u001b[0;34m,\u001b[0m \u001b[0m_version\u001b[0m\u001b[0;34m)\u001b[0m\u001b[0;34m\u001b[0m\u001b[0;34m\u001b[0m\u001b[0m\n\u001b[1;32m    130\u001b[0m \u001b[0;34m\u001b[0m\u001b[0m\n",
      "\u001b[0;31mAttributeError\u001b[0m: module 'cgi' has no attribute 'escape'"
     ]
    },
    {
     "data": {
      "application/json": {
       "Software versions": [
        {
         "module": "Python",
         "version": "3.9.1 64bit [GCC 5.4.0 20160609]"
        },
        {
         "module": "IPython",
         "version": "7.19.0"
        },
        {
         "module": "OS",
         "version": "Linux 5.8.0 0.bpo.2 amd64 x86_64 with glibc2.28"
        },
        {
         "module": "pandas",
         "version": "1.2.0"
        },
        {
         "module": "matplotlib",
         "version": "3.3.3"
        },
        {
         "module": "seaborn",
         "version": "0.11.1"
        }
       ]
      },
      "text/latex": [
       "\\begin{tabular}{|l|l|}\\hline\n",
       "{\\bf Software} & {\\bf Version} \\\\ \\hline\\hline\n",
       "Python & 3.9.1 64bit [GCC 5.4.0 20160609] \\\\ \\hline\n",
       "IPython & 7.19.0 \\\\ \\hline\n",
       "OS & Linux 5.8.0 0.bpo.2 amd64 x86\\_64 with glibc2.28 \\\\ \\hline\n",
       "pandas & 1.2.0 \\\\ \\hline\n",
       "matplotlib & 3.3.3 \\\\ \\hline\n",
       "seaborn & 0.11.1 \\\\ \\hline\n",
       "\\hline \\multicolumn{2}{|l|}{Sun Jan 10 13:32:53 2021 EST} \\\\ \\hline\n",
       "\\end{tabular}\n"
      ],
      "text/plain": [
       "Software versions\n",
       "Python 3.9.1 64bit [GCC 5.4.0 20160609]\n",
       "IPython 7.19.0\n",
       "OS Linux 5.8.0 0.bpo.2 amd64 x86_64 with glibc2.28\n",
       "pandas 1.2.0\n",
       "matplotlib 3.3.3\n",
       "seaborn 0.11.1\n",
       "Sun Jan 10 13:32:53 2021 EST"
      ]
     },
     "execution_count": 1,
     "metadata": {},
     "output_type": "execute_result"
    }
   ],
   "source": [
    "%load_ext version_information\n",
    "%version_information pandas, matplotlib, seaborn"
   ]
  },
  {
   "cell_type": "markdown",
   "metadata": {},
   "source": [
    "## Supply Curve Calculation"
   ]
  },
  {
   "cell_type": "code",
   "execution_count": 4,
   "metadata": {
    "execution": {
     "iopub.execute_input": "2021-01-10T18:32:53.752080Z",
     "iopub.status.busy": "2021-01-10T18:32:53.751700Z",
     "iopub.status.idle": "2021-01-10T18:32:53.752995Z",
     "shell.execute_reply": "2021-01-10T18:32:53.753360Z"
    }
   },
   "outputs": [],
   "source": [
    "COIN_SYMBOL = 'DASH'"
   ]
  },
  {
   "cell_type": "code",
   "execution_count": 5,
   "metadata": {
    "execution": {
     "iopub.execute_input": "2021-01-10T18:32:53.757363Z",
     "iopub.status.busy": "2021-01-10T18:32:53.756978Z",
     "iopub.status.idle": "2021-01-10T18:32:53.759145Z",
     "shell.execute_reply": "2021-01-10T18:32:53.759641Z"
    }
   },
   "outputs": [],
   "source": [
    "def dash_block_supply_curve():\n",
    "    out = [\n",
    "        # Block num,\n",
    "        # Total supply,\n",
    "    ]\n",
    "    inflation_change_blocks=210240\n",
    "    inflation_change_frac=(13/14)\n",
    "    y = 4.5 * 1e6\n",
    "    block = 0\n",
    "    while True:\n",
    "        block += 1\n",
    "        num_changes = int(\n",
    "            (block - 1) / inflation_change_blocks\n",
    "        )\n",
    "        if num_changes > 128:\n",
    "            break\n",
    "        block_reward = 5 * (\n",
    "            inflation_change_frac ** num_changes\n",
    "        )\n",
    "        if (block - 1) % inflation_change_blocks == 0:\n",
    "            print(\n",
    "                f'Inflation change #{num_changes}, '\n",
    "                f'block reward = {block_reward}'\n",
    "            )\n",
    "        y += block_reward\n",
    "        out.append([block, y])\n",
    "\n",
    "    return out"
   ]
  },
  {
   "cell_type": "code",
   "execution_count": 6,
   "metadata": {
    "execution": {
     "iopub.execute_input": "2021-01-10T18:32:53.856137Z",
     "iopub.status.busy": "2021-01-10T18:32:53.780707Z",
     "iopub.status.idle": "2021-01-10T18:33:33.275867Z",
     "shell.execute_reply": "2021-01-10T18:33:33.275209Z"
    }
   },
   "outputs": [
    {
     "name": "stdout",
     "output_type": "stream",
     "text": [
      "Inflation change #0, block reward = 5.0\n",
      "Inflation change #1, block reward = 4.642857142857143\n",
      "Inflation change #2, block reward = 4.311224489795919\n",
      "Inflation change #3, block reward = 4.003279883381924\n",
      "Inflation change #4, block reward = 3.7173313202832157\n",
      "Inflation change #5, block reward = 3.4518076545487\n",
      "Inflation change #6, block reward = 3.2052499649380795\n",
      "Inflation change #7, block reward = 2.9763035388710737\n",
      "Inflation change #8, block reward = 2.763710428951711\n",
      "Inflation change #9, block reward = 2.5663025411694464\n",
      "Inflation change #10, block reward = 2.3829952168002\n",
      "Inflation change #11, block reward = 2.2127812727430434\n",
      "Inflation change #12, block reward = 2.0547254675471116\n",
      "Inflation change #13, block reward = 1.907959362722318\n",
      "Inflation change #14, block reward = 1.7716765510992951\n",
      "Inflation change #15, block reward = 1.6451282260207742\n",
      "Inflation change #16, block reward = 1.5276190670192904\n",
      "Inflation change #17, block reward = 1.4185034193750554\n",
      "Inflation change #18, block reward = 1.3171817465625515\n",
      "Inflation change #19, block reward = 1.2230973360937978\n",
      "Inflation change #20, block reward = 1.1357332406585265\n",
      "Inflation change #21, block reward = 1.0546094377543462\n",
      "Inflation change #22, block reward = 0.9792801922004645\n",
      "Inflation change #23, block reward = 0.9093316070432884\n",
      "Inflation change #24, block reward = 0.8443793493973393\n",
      "Inflation change #25, block reward = 0.7840665387261008\n",
      "Inflation change #26, block reward = 0.7280617859599507\n",
      "Inflation change #27, block reward = 0.6760573726770971\n",
      "Inflation change #28, block reward = 0.6277675603430188\n",
      "Inflation change #29, block reward = 0.5829270203185175\n",
      "Inflation change #30, block reward = 0.5412893760100519\n",
      "Inflation change #31, block reward = 0.5026258491521911\n",
      "Inflation change #32, block reward = 0.46672400278417747\n",
      "Inflation change #33, block reward = 0.43338657401387914\n",
      "Inflation change #34, block reward = 0.4024303901557449\n",
      "Inflation change #35, block reward = 0.37368536228747745\n",
      "Inflation change #36, block reward = 0.34699355069551474\n",
      "Inflation change #37, block reward = 0.32220829707440657\n",
      "Inflation change #38, block reward = 0.29919341871194893\n",
      "Inflation change #39, block reward = 0.27782246023252405\n",
      "Inflation change #40, block reward = 0.2579779987873438\n",
      "Inflation change #41, block reward = 0.23955099887396208\n",
      "Inflation change #42, block reward = 0.22244021324010765\n",
      "Inflation change #43, block reward = 0.20655162658009998\n",
      "Inflation change #44, block reward = 0.19179793896723568\n",
      "Inflation change #45, block reward = 0.17809808618386172\n",
      "Inflation change #46, block reward = 0.16537679431358587\n",
      "Inflation change #47, block reward = 0.15356416614832977\n",
      "Inflation change #48, block reward = 0.14259529713773478\n",
      "Inflation change #49, block reward = 0.13240991877075373\n",
      "Inflation change #50, block reward = 0.12295206742998561\n",
      "Inflation change #51, block reward = 0.11416977689927235\n",
      "Inflation change #52, block reward = 0.10601479283503862\n",
      "Inflation change #53, block reward = 0.09844230763253586\n",
      "Inflation change #54, block reward = 0.09141071423021188\n",
      "Inflation change #55, block reward = 0.08488137749948246\n",
      "Inflation change #56, block reward = 0.07881842196380515\n",
      "Inflation change #57, block reward = 0.07318853468067621\n",
      "Inflation change #58, block reward = 0.06796078220348506\n",
      "Inflation change #59, block reward = 0.06310644061752184\n",
      "Inflation change #60, block reward = 0.05859883771627028\n",
      "Inflation change #61, block reward = 0.054413206450822406\n",
      "Inflation change #62, block reward = 0.05052654884719224\n",
      "Inflation change #63, block reward = 0.04691750964382137\n",
      "Inflation change #64, block reward = 0.04356625895497698\n",
      "Inflation change #65, block reward = 0.04045438331533577\n",
      "Inflation change #66, block reward = 0.0375647845070975\n",
      "Inflation change #67, block reward = 0.0348815856137334\n",
      "Inflation change #68, block reward = 0.032390043784181005\n",
      "Inflation change #69, block reward = 0.030076469228168083\n",
      "Inflation change #70, block reward = 0.02792814999758465\n",
      "Inflation change #71, block reward = 0.025933282140614314\n",
      "Inflation change #72, block reward = 0.02408090484485615\n",
      "Inflation change #73, block reward = 0.022360840213080713\n",
      "Inflation change #74, block reward = 0.020763637340717806\n",
      "Inflation change #75, block reward = 0.01928052038780939\n",
      "Inflation change #76, block reward = 0.01790334036010872\n",
      "Inflation change #77, block reward = 0.01662453033438667\n",
      "Inflation change #78, block reward = 0.015437063881930481\n",
      "Inflation change #79, block reward = 0.01433441646179259\n",
      "Inflation change #80, block reward = 0.013310529571664549\n",
      "Inflation change #81, block reward = 0.012359777459402794\n",
      "Inflation change #82, block reward = 0.011476936212302597\n",
      "Inflation change #83, block reward = 0.010657155054280984\n",
      "Inflation change #84, block reward = 0.009895929693260912\n",
      "Inflation change #85, block reward = 0.009189077572313704\n",
      "Inflation change #86, block reward = 0.008532714888577013\n",
      "Inflation change #87, block reward = 0.007923235253678653\n",
      "Inflation change #88, block reward = 0.007357289878415893\n",
      "Inflation change #89, block reward = 0.006831769172814758\n",
      "Inflation change #90, block reward = 0.0063437856604708475\n",
      "Inflation change #91, block reward = 0.005890658113294358\n",
      "Inflation change #92, block reward = 0.0054698968194876185\n",
      "Inflation change #93, block reward = 0.005079189903809931\n",
      "Inflation change #94, block reward = 0.004716390624966365\n",
      "Inflation change #95, block reward = 0.004379505580325911\n",
      "Inflation change #96, block reward = 0.004066683753159775\n",
      "Inflation change #97, block reward = 0.003776206342219791\n",
      "Inflation change #98, block reward = 0.0035064773177755203\n",
      "Inflation change #99, block reward = 0.003256014652220126\n",
      "Inflation change #100, block reward = 0.0030234421770615454\n",
      "Inflation change #101, block reward = 0.0028074820215571493\n",
      "Inflation change #102, block reward = 0.0026069475914459244\n",
      "Inflation change #103, block reward = 0.0024207370491997875\n",
      "Inflation change #104, block reward = 0.002247827259971231\n",
      "Inflation change #105, block reward = 0.002087268169973286\n",
      "Inflation change #106, block reward = 0.001938177586403766\n",
      "Inflation change #107, block reward = 0.0017997363302320682\n",
      "Inflation change #108, block reward = 0.001671183735215492\n",
      "Inflation change #109, block reward = 0.0015518134684143854\n",
      "Inflation change #110, block reward = 0.0014409696492419296\n",
      "Inflation change #111, block reward = 0.0013380432457246489\n",
      "Inflation change #112, block reward = 0.0012424687281728884\n",
      "Inflation change #113, block reward = 0.0011537209618748248\n",
      "Inflation change #114, block reward = 0.0010713123217409087\n",
      "Inflation change #115, block reward = 0.0009947900130451296\n",
      "Inflation change #116, block reward = 0.0009237335835419061\n",
      "Inflation change #117, block reward = 0.000857752613288913\n",
      "Inflation change #118, block reward = 0.0007964845694825619\n",
      "Inflation change #119, block reward = 0.0007395928145195219\n",
      "Inflation change #120, block reward = 0.0006867647563395561\n",
      "Inflation change #121, block reward = 0.0006377101308867306\n",
      "Inflation change #122, block reward = 0.0005921594072519642\n",
      "Inflation change #123, block reward = 0.0005498623067339667\n",
      "Inflation change #124, block reward = 0.0005105864276815405\n",
      "Inflation change #125, block reward = 0.0004741159685614305\n",
      "Inflation change #126, block reward = 0.0004402505422356141\n",
      "Inflation change #127, block reward = 0.00040880407493307024\n",
      "Inflation change #128, block reward = 0.0003796037838664224\n"
     ]
    }
   ],
   "source": [
    "start_date = datetime.date(2014, 7, 19)\n",
    "block_time = datetime.timedelta(seconds=60 * 2.625)\n",
    "\n",
    "block_supply = dash_block_supply_curve()\n",
    "\n",
    "supply = cmb.datetime_supply_curve(\n",
    "    start_date=start_date,\n",
    "    block_time=block_time,\n",
    "    block_supply=block_supply,\n",
    ")"
   ]
  },
  {
   "cell_type": "code",
   "execution_count": 7,
   "metadata": {
    "execution": {
     "iopub.execute_input": "2021-01-10T18:33:33.279353Z",
     "iopub.status.busy": "2021-01-10T18:33:33.278798Z",
     "iopub.status.idle": "2021-01-10T18:33:33.292891Z",
     "shell.execute_reply": "2021-01-10T18:33:33.293270Z"
    }
   },
   "outputs": [
    {
     "data": {
      "text/html": [
       "<div>\n",
       "<style scoped>\n",
       "    .dataframe tbody tr th:only-of-type {\n",
       "        vertical-align: middle;\n",
       "    }\n",
       "\n",
       "    .dataframe tbody tr th {\n",
       "        vertical-align: top;\n",
       "    }\n",
       "\n",
       "    .dataframe thead th {\n",
       "        text-align: right;\n",
       "    }\n",
       "</style>\n",
       "<table border=\"1\" class=\"dataframe\">\n",
       "  <thead>\n",
       "    <tr style=\"text-align: right;\">\n",
       "      <th></th>\n",
       "      <th>block</th>\n",
       "      <th>total_supply</th>\n",
       "      <th>total_supply_pct</th>\n",
       "      <th>date</th>\n",
       "    </tr>\n",
       "  </thead>\n",
       "  <tbody>\n",
       "    <tr>\n",
       "      <th>0</th>\n",
       "      <td>1</td>\n",
       "      <td>4500005.0</td>\n",
       "      <td>23.418300</td>\n",
       "      <td>2014-07-19 00:00:00.000</td>\n",
       "    </tr>\n",
       "    <tr>\n",
       "      <th>1</th>\n",
       "      <td>2</td>\n",
       "      <td>4500010.0</td>\n",
       "      <td>23.418326</td>\n",
       "      <td>2014-07-19 00:02:37.500</td>\n",
       "    </tr>\n",
       "    <tr>\n",
       "      <th>2</th>\n",
       "      <td>3</td>\n",
       "      <td>4500015.0</td>\n",
       "      <td>23.418353</td>\n",
       "      <td>2014-07-19 00:05:15.000</td>\n",
       "    </tr>\n",
       "    <tr>\n",
       "      <th>3</th>\n",
       "      <td>4</td>\n",
       "      <td>4500020.0</td>\n",
       "      <td>23.418379</td>\n",
       "      <td>2014-07-19 00:07:52.500</td>\n",
       "    </tr>\n",
       "    <tr>\n",
       "      <th>4</th>\n",
       "      <td>5</td>\n",
       "      <td>4500025.0</td>\n",
       "      <td>23.418405</td>\n",
       "      <td>2014-07-19 00:10:30.000</td>\n",
       "    </tr>\n",
       "  </tbody>\n",
       "</table>\n",
       "</div>"
      ],
      "text/plain": [
       "   block  total_supply  total_supply_pct                    date\n",
       "0      1     4500005.0         23.418300 2014-07-19 00:00:00.000\n",
       "1      2     4500010.0         23.418326 2014-07-19 00:02:37.500\n",
       "2      3     4500015.0         23.418353 2014-07-19 00:05:15.000\n",
       "3      4     4500020.0         23.418379 2014-07-19 00:07:52.500\n",
       "4      5     4500025.0         23.418405 2014-07-19 00:10:30.000"
      ]
     },
     "metadata": {},
     "output_type": "display_data"
    },
    {
     "data": {
      "text/html": [
       "<div>\n",
       "<style scoped>\n",
       "    .dataframe tbody tr th:only-of-type {\n",
       "        vertical-align: middle;\n",
       "    }\n",
       "\n",
       "    .dataframe tbody tr th {\n",
       "        vertical-align: top;\n",
       "    }\n",
       "\n",
       "    .dataframe thead th {\n",
       "        text-align: right;\n",
       "    }\n",
       "</style>\n",
       "<table border=\"1\" class=\"dataframe\">\n",
       "  <thead>\n",
       "    <tr style=\"text-align: right;\">\n",
       "      <th></th>\n",
       "      <th>block</th>\n",
       "      <th>total_supply</th>\n",
       "      <th>total_supply_pct</th>\n",
       "      <th>date</th>\n",
       "    </tr>\n",
       "  </thead>\n",
       "  <tbody>\n",
       "    <tr>\n",
       "      <th>27120955</th>\n",
       "      <td>27120956</td>\n",
       "      <td>1.921576e+07</td>\n",
       "      <td>100.0</td>\n",
       "      <td>2149-11-27 05:46:52.500</td>\n",
       "    </tr>\n",
       "    <tr>\n",
       "      <th>27120956</th>\n",
       "      <td>27120957</td>\n",
       "      <td>1.921576e+07</td>\n",
       "      <td>100.0</td>\n",
       "      <td>2149-11-27 05:49:30.000</td>\n",
       "    </tr>\n",
       "    <tr>\n",
       "      <th>27120957</th>\n",
       "      <td>27120958</td>\n",
       "      <td>1.921576e+07</td>\n",
       "      <td>100.0</td>\n",
       "      <td>2149-11-27 05:52:07.500</td>\n",
       "    </tr>\n",
       "    <tr>\n",
       "      <th>27120958</th>\n",
       "      <td>27120959</td>\n",
       "      <td>1.921576e+07</td>\n",
       "      <td>100.0</td>\n",
       "      <td>2149-11-27 05:54:45.000</td>\n",
       "    </tr>\n",
       "    <tr>\n",
       "      <th>27120959</th>\n",
       "      <td>27120960</td>\n",
       "      <td>1.921576e+07</td>\n",
       "      <td>100.0</td>\n",
       "      <td>2149-11-27 05:57:22.500</td>\n",
       "    </tr>\n",
       "  </tbody>\n",
       "</table>\n",
       "</div>"
      ],
      "text/plain": [
       "             block  total_supply  total_supply_pct                    date\n",
       "27120955  27120956  1.921576e+07             100.0 2149-11-27 05:46:52.500\n",
       "27120956  27120957  1.921576e+07             100.0 2149-11-27 05:49:30.000\n",
       "27120957  27120958  1.921576e+07             100.0 2149-11-27 05:52:07.500\n",
       "27120958  27120959  1.921576e+07             100.0 2149-11-27 05:54:45.000\n",
       "27120959  27120960  1.921576e+07             100.0 2149-11-27 05:57:22.500"
      ]
     },
     "metadata": {},
     "output_type": "display_data"
    }
   ],
   "source": [
    "display(supply.head())\n",
    "display(supply.tail())"
   ]
  },
  {
   "cell_type": "code",
   "execution_count": 8,
   "metadata": {
    "execution": {
     "iopub.execute_input": "2021-01-10T18:33:33.297377Z",
     "iopub.status.busy": "2021-01-10T18:33:33.296454Z",
     "iopub.status.idle": "2021-01-10T18:33:36.734232Z",
     "shell.execute_reply": "2021-01-10T18:33:36.734735Z"
    }
   },
   "outputs": [
    {
     "data": {
      "text/plain": [
       "<module 'matplotlib.pyplot' from '/home/lane/.local/share/virtualenvs/crypto-monetary-base-xxmj4jsc/lib/python3.9/site-packages/matplotlib/pyplot.py'>"
      ]
     },
     "execution_count": 1,
     "metadata": {},
     "output_type": "execute_result"
    },
    {
     "data": {
      "image/png": "[encoded data removed]",
      "text/plain": [
       "<Figure size 432x288 with 1 Axes>"
      ]
     },
     "metadata": {
      "image/png": {
       "height": 277,
       "width": 384
      }
     },
     "output_type": "display_data"
    }
   ],
   "source": [
    "cmb.plot_supply_curve(\n",
    "    supply,\n",
    "    'DASH',\n",
    "    ylim=(0, 110),\n",
    ");"
   ]
  },
  {
   "cell_type": "markdown",
   "metadata": {},
   "source": [
    "## Standardize Time Series"
   ]
  },
  {
   "cell_type": "code",
   "execution_count": 9,
   "metadata": {
    "execution": {
     "iopub.execute_input": "2021-01-10T18:33:36.738705Z",
     "iopub.status.busy": "2021-01-10T18:33:36.738047Z",
     "iopub.status.idle": "2021-01-10T18:33:39.681461Z",
     "shell.execute_reply": "2021-01-10T18:33:39.680737Z"
    }
   },
   "outputs": [
    {
     "name": "stdout",
     "output_type": "stream",
     "text": [
      "Wrote 7064 lines to file ../output-data/DASH_weekly.csv\n"
     ]
    },
    {
     "data": {
      "text/html": [
       "<div>\n",
       "<style scoped>\n",
       "    .dataframe tbody tr th:only-of-type {\n",
       "        vertical-align: middle;\n",
       "    }\n",
       "\n",
       "    .dataframe tbody tr th {\n",
       "        vertical-align: top;\n",
       "    }\n",
       "\n",
       "    .dataframe thead th {\n",
       "        text-align: right;\n",
       "    }\n",
       "</style>\n",
       "<table border=\"1\" class=\"dataframe\">\n",
       "  <thead>\n",
       "    <tr style=\"text-align: right;\">\n",
       "      <th></th>\n",
       "      <th>coin</th>\n",
       "      <th>block</th>\n",
       "      <th>total_supply</th>\n",
       "      <th>total_supply_pct</th>\n",
       "      <th>date</th>\n",
       "    </tr>\n",
       "  </thead>\n",
       "  <tbody>\n",
       "    <tr>\n",
       "      <th>0</th>\n",
       "      <td>DASH</td>\n",
       "      <td>1</td>\n",
       "      <td>4500005.0</td>\n",
       "      <td>23.418300</td>\n",
       "      <td>2014-07-01</td>\n",
       "    </tr>\n",
       "    <tr>\n",
       "      <th>1</th>\n",
       "      <td>DASH</td>\n",
       "      <td>1099</td>\n",
       "      <td>4505495.0</td>\n",
       "      <td>23.446871</td>\n",
       "      <td>2014-07-01</td>\n",
       "    </tr>\n",
       "    <tr>\n",
       "      <th>2</th>\n",
       "      <td>DASH</td>\n",
       "      <td>4939</td>\n",
       "      <td>4524695.0</td>\n",
       "      <td>23.546789</td>\n",
       "      <td>2014-07-01</td>\n",
       "    </tr>\n",
       "    <tr>\n",
       "      <th>3</th>\n",
       "      <td>DASH</td>\n",
       "      <td>8779</td>\n",
       "      <td>4543895.0</td>\n",
       "      <td>23.646707</td>\n",
       "      <td>2014-08-01</td>\n",
       "    </tr>\n",
       "    <tr>\n",
       "      <th>4</th>\n",
       "      <td>DASH</td>\n",
       "      <td>12619</td>\n",
       "      <td>4563095.0</td>\n",
       "      <td>23.746625</td>\n",
       "      <td>2014-08-01</td>\n",
       "    </tr>\n",
       "  </tbody>\n",
       "</table>\n",
       "</div>"
      ],
      "text/plain": [
       "   coin  block  total_supply  total_supply_pct        date\n",
       "0  DASH      1     4500005.0         23.418300  2014-07-01\n",
       "1  DASH   1099     4505495.0         23.446871  2014-07-01\n",
       "2  DASH   4939     4524695.0         23.546789  2014-07-01\n",
       "3  DASH   8779     4543895.0         23.646707  2014-08-01\n",
       "4  DASH  12619     4563095.0         23.746625  2014-08-01"
      ]
     },
     "metadata": {},
     "output_type": "display_data"
    },
    {
     "data": {
      "text/html": [
       "<div>\n",
       "<style scoped>\n",
       "    .dataframe tbody tr th:only-of-type {\n",
       "        vertical-align: middle;\n",
       "    }\n",
       "\n",
       "    .dataframe tbody tr th {\n",
       "        vertical-align: top;\n",
       "    }\n",
       "\n",
       "    .dataframe thead th {\n",
       "        text-align: right;\n",
       "    }\n",
       "</style>\n",
       "<table border=\"1\" class=\"dataframe\">\n",
       "  <thead>\n",
       "    <tr style=\"text-align: right;\">\n",
       "      <th></th>\n",
       "      <th>coin</th>\n",
       "      <th>block</th>\n",
       "      <th>total_supply</th>\n",
       "      <th>total_supply_pct</th>\n",
       "      <th>date</th>\n",
       "    </tr>\n",
       "  </thead>\n",
       "  <tbody>\n",
       "    <tr>\n",
       "      <th>7059</th>\n",
       "      <td>DASH</td>\n",
       "      <td>27103819</td>\n",
       "      <td>1.921576e+07</td>\n",
       "      <td>99.999966</td>\n",
       "      <td>2149-10-01</td>\n",
       "    </tr>\n",
       "    <tr>\n",
       "      <th>7060</th>\n",
       "      <td>DASH</td>\n",
       "      <td>27107659</td>\n",
       "      <td>1.921576e+07</td>\n",
       "      <td>99.999974</td>\n",
       "      <td>2149-11-01</td>\n",
       "    </tr>\n",
       "    <tr>\n",
       "      <th>7061</th>\n",
       "      <td>DASH</td>\n",
       "      <td>27111499</td>\n",
       "      <td>1.921576e+07</td>\n",
       "      <td>99.999981</td>\n",
       "      <td>2149-11-01</td>\n",
       "    </tr>\n",
       "    <tr>\n",
       "      <th>7062</th>\n",
       "      <td>DASH</td>\n",
       "      <td>27115339</td>\n",
       "      <td>1.921576e+07</td>\n",
       "      <td>99.999989</td>\n",
       "      <td>2149-11-01</td>\n",
       "    </tr>\n",
       "    <tr>\n",
       "      <th>7063</th>\n",
       "      <td>DASH</td>\n",
       "      <td>27119179</td>\n",
       "      <td>1.921576e+07</td>\n",
       "      <td>99.999996</td>\n",
       "      <td>2149-11-01</td>\n",
       "    </tr>\n",
       "  </tbody>\n",
       "</table>\n",
       "</div>"
      ],
      "text/plain": [
       "      coin     block  total_supply  total_supply_pct        date\n",
       "7059  DASH  27103819  1.921576e+07         99.999966  2149-10-01\n",
       "7060  DASH  27107659  1.921576e+07         99.999974  2149-11-01\n",
       "7061  DASH  27111499  1.921576e+07         99.999981  2149-11-01\n",
       "7062  DASH  27115339  1.921576e+07         99.999989  2149-11-01\n",
       "7063  DASH  27119179  1.921576e+07         99.999996  2149-11-01"
      ]
     },
     "metadata": {},
     "output_type": "display_data"
    }
   ],
   "source": [
    "weekly_supply = cmb.transform_supply(supply, COIN_SYMBOL, freq='weekly')\n",
    "\n",
    "display(weekly_supply.head())\n",
    "display(weekly_supply.tail())"
   ]
  },
  {
   "cell_type": "code",
   "execution_count": 10,
   "metadata": {
    "execution": {
     "iopub.execute_input": "2021-01-10T18:33:39.685016Z",
     "iopub.status.busy": "2021-01-10T18:33:39.684278Z",
     "iopub.status.idle": "2021-01-10T18:33:41.454092Z",
     "shell.execute_reply": "2021-01-10T18:33:41.453379Z"
    }
   },
   "outputs": [
    {
     "name": "stdout",
     "output_type": "stream",
     "text": [
      "Wrote 1625 lines to file ../output-data/DASH_monthly.csv\n"
     ]
    },
    {
     "data": {
      "text/html": [
       "<div>\n",
       "<style scoped>\n",
       "    .dataframe tbody tr th:only-of-type {\n",
       "        vertical-align: middle;\n",
       "    }\n",
       "\n",
       "    .dataframe tbody tr th {\n",
       "        vertical-align: top;\n",
       "    }\n",
       "\n",
       "    .dataframe thead th {\n",
       "        text-align: right;\n",
       "    }\n",
       "</style>\n",
       "<table border=\"1\" class=\"dataframe\">\n",
       "  <thead>\n",
       "    <tr style=\"text-align: right;\">\n",
       "      <th></th>\n",
       "      <th>coin</th>\n",
       "      <th>block</th>\n",
       "      <th>total_supply</th>\n",
       "      <th>total_supply_pct</th>\n",
       "      <th>date</th>\n",
       "    </tr>\n",
       "  </thead>\n",
       "  <tbody>\n",
       "    <tr>\n",
       "      <th>0</th>\n",
       "      <td>DASH</td>\n",
       "      <td>1</td>\n",
       "      <td>4500005.0</td>\n",
       "      <td>23.418300</td>\n",
       "      <td>2014-07-01</td>\n",
       "    </tr>\n",
       "    <tr>\n",
       "      <th>1</th>\n",
       "      <td>DASH</td>\n",
       "      <td>7133</td>\n",
       "      <td>4535665.0</td>\n",
       "      <td>23.603877</td>\n",
       "      <td>2014-08-01</td>\n",
       "    </tr>\n",
       "    <tr>\n",
       "      <th>2</th>\n",
       "      <td>DASH</td>\n",
       "      <td>24139</td>\n",
       "      <td>4620695.0</td>\n",
       "      <td>24.046379</td>\n",
       "      <td>2014-09-01</td>\n",
       "    </tr>\n",
       "    <tr>\n",
       "      <th>3</th>\n",
       "      <td>DASH</td>\n",
       "      <td>40596</td>\n",
       "      <td>4702980.0</td>\n",
       "      <td>24.474595</td>\n",
       "      <td>2014-10-01</td>\n",
       "    </tr>\n",
       "    <tr>\n",
       "      <th>4</th>\n",
       "      <td>DASH</td>\n",
       "      <td>57601</td>\n",
       "      <td>4788005.0</td>\n",
       "      <td>24.917070</td>\n",
       "      <td>2014-11-01</td>\n",
       "    </tr>\n",
       "  </tbody>\n",
       "</table>\n",
       "</div>"
      ],
      "text/plain": [
       "   coin  block  total_supply  total_supply_pct        date\n",
       "0  DASH      1     4500005.0         23.418300  2014-07-01\n",
       "1  DASH   7133     4535665.0         23.603877  2014-08-01\n",
       "2  DASH  24139     4620695.0         24.046379  2014-09-01\n",
       "3  DASH  40596     4702980.0         24.474595  2014-10-01\n",
       "4  DASH  57601     4788005.0         24.917070  2014-11-01"
      ]
     },
     "metadata": {},
     "output_type": "display_data"
    },
    {
     "data": {
      "text/html": [
       "<div>\n",
       "<style scoped>\n",
       "    .dataframe tbody tr th:only-of-type {\n",
       "        vertical-align: middle;\n",
       "    }\n",
       "\n",
       "    .dataframe tbody tr th {\n",
       "        vertical-align: top;\n",
       "    }\n",
       "\n",
       "    .dataframe thead th {\n",
       "        text-align: right;\n",
       "    }\n",
       "</style>\n",
       "<table border=\"1\" class=\"dataframe\">\n",
       "  <thead>\n",
       "    <tr style=\"text-align: right;\">\n",
       "      <th></th>\n",
       "      <th>coin</th>\n",
       "      <th>block</th>\n",
       "      <th>total_supply</th>\n",
       "      <th>total_supply_pct</th>\n",
       "      <th>date</th>\n",
       "    </tr>\n",
       "  </thead>\n",
       "  <tbody>\n",
       "    <tr>\n",
       "      <th>1620</th>\n",
       "      <td>DASH</td>\n",
       "      <td>27039087</td>\n",
       "      <td>1.921573e+07</td>\n",
       "      <td>99.999838</td>\n",
       "      <td>2149-07-01</td>\n",
       "    </tr>\n",
       "    <tr>\n",
       "      <th>1621</th>\n",
       "      <td>DASH</td>\n",
       "      <td>27056093</td>\n",
       "      <td>1.921574e+07</td>\n",
       "      <td>99.999872</td>\n",
       "      <td>2149-08-01</td>\n",
       "    </tr>\n",
       "    <tr>\n",
       "      <th>1622</th>\n",
       "      <td>DASH</td>\n",
       "      <td>27073099</td>\n",
       "      <td>1.921574e+07</td>\n",
       "      <td>99.999905</td>\n",
       "      <td>2149-09-01</td>\n",
       "    </tr>\n",
       "    <tr>\n",
       "      <th>1623</th>\n",
       "      <td>DASH</td>\n",
       "      <td>27089556</td>\n",
       "      <td>1.921575e+07</td>\n",
       "      <td>99.999938</td>\n",
       "      <td>2149-10-01</td>\n",
       "    </tr>\n",
       "    <tr>\n",
       "      <th>1624</th>\n",
       "      <td>DASH</td>\n",
       "      <td>27106561</td>\n",
       "      <td>1.921576e+07</td>\n",
       "      <td>99.999972</td>\n",
       "      <td>2149-11-01</td>\n",
       "    </tr>\n",
       "  </tbody>\n",
       "</table>\n",
       "</div>"
      ],
      "text/plain": [
       "      coin     block  total_supply  total_supply_pct        date\n",
       "1620  DASH  27039087  1.921573e+07         99.999838  2149-07-01\n",
       "1621  DASH  27056093  1.921574e+07         99.999872  2149-08-01\n",
       "1622  DASH  27073099  1.921574e+07         99.999905  2149-09-01\n",
       "1623  DASH  27089556  1.921575e+07         99.999938  2149-10-01\n",
       "1624  DASH  27106561  1.921576e+07         99.999972  2149-11-01"
      ]
     },
     "metadata": {},
     "output_type": "display_data"
    }
   ],
   "source": [
    "monthly_supply = cmb.transform_supply(supply, COIN_SYMBOL, freq='monthly')\n",
    "\n",
    "display(monthly_supply.head())\n",
    "display(monthly_supply.tail())"
   ]
  },
  {
   "cell_type": "code",
   "execution_count": 11,
   "metadata": {
    "execution": {
     "iopub.execute_input": "2021-01-10T18:33:41.459533Z",
     "iopub.status.busy": "2021-01-10T18:33:41.458809Z",
     "iopub.status.idle": "2021-01-10T18:33:42.557482Z",
     "shell.execute_reply": "2021-01-10T18:33:42.558109Z"
    }
   },
   "outputs": [
    {
     "name": "stdout",
     "output_type": "stream",
     "text": [
      "Wrote 136 lines to file ../output-data/DASH_yearly.csv\n"
     ]
    },
    {
     "data": {
      "text/html": [
       "<div>\n",
       "<style scoped>\n",
       "    .dataframe tbody tr th:only-of-type {\n",
       "        vertical-align: middle;\n",
       "    }\n",
       "\n",
       "    .dataframe tbody tr th {\n",
       "        vertical-align: top;\n",
       "    }\n",
       "\n",
       "    .dataframe thead th {\n",
       "        text-align: right;\n",
       "    }\n",
       "</style>\n",
       "<table border=\"1\" class=\"dataframe\">\n",
       "  <thead>\n",
       "    <tr style=\"text-align: right;\">\n",
       "      <th></th>\n",
       "      <th>coin</th>\n",
       "      <th>block</th>\n",
       "      <th>total_supply</th>\n",
       "      <th>total_supply_pct</th>\n",
       "      <th>date</th>\n",
       "    </tr>\n",
       "  </thead>\n",
       "  <tbody>\n",
       "    <tr>\n",
       "      <th>0</th>\n",
       "      <td>DASH</td>\n",
       "      <td>1</td>\n",
       "      <td>4.500005e+06</td>\n",
       "      <td>23.418300</td>\n",
       "      <td>2014-07-01</td>\n",
       "    </tr>\n",
       "    <tr>\n",
       "      <th>1</th>\n",
       "      <td>DASH</td>\n",
       "      <td>91064</td>\n",
       "      <td>4.955320e+06</td>\n",
       "      <td>25.787787</td>\n",
       "      <td>2015-01-01</td>\n",
       "    </tr>\n",
       "    <tr>\n",
       "      <th>2</th>\n",
       "      <td>DASH</td>\n",
       "      <td>291293</td>\n",
       "      <td>5.927517e+06</td>\n",
       "      <td>30.847163</td>\n",
       "      <td>2016-01-01</td>\n",
       "    </tr>\n",
       "    <tr>\n",
       "      <th>3</th>\n",
       "      <td>DASH</td>\n",
       "      <td>492070</td>\n",
       "      <td>6.835955e+06</td>\n",
       "      <td>35.574726</td>\n",
       "      <td>2017-01-01</td>\n",
       "    </tr>\n",
       "    <tr>\n",
       "      <th>4</th>\n",
       "      <td>DASH</td>\n",
       "      <td>692299</td>\n",
       "      <td>7.680224e+06</td>\n",
       "      <td>39.968355</td>\n",
       "      <td>2018-01-01</td>\n",
       "    </tr>\n",
       "  </tbody>\n",
       "</table>\n",
       "</div>"
      ],
      "text/plain": [
       "   coin   block  total_supply  total_supply_pct        date\n",
       "0  DASH       1  4.500005e+06         23.418300  2014-07-01\n",
       "1  DASH   91064  4.955320e+06         25.787787  2015-01-01\n",
       "2  DASH  291293  5.927517e+06         30.847163  2016-01-01\n",
       "3  DASH  492070  6.835955e+06         35.574726  2017-01-01\n",
       "4  DASH  692299  7.680224e+06         39.968355  2018-01-01"
      ]
     },
     "metadata": {},
     "output_type": "display_data"
    },
    {
     "data": {
      "text/html": [
       "<div>\n",
       "<style scoped>\n",
       "    .dataframe tbody tr th:only-of-type {\n",
       "        vertical-align: middle;\n",
       "    }\n",
       "\n",
       "    .dataframe tbody tr th {\n",
       "        vertical-align: top;\n",
       "    }\n",
       "\n",
       "    .dataframe thead th {\n",
       "        text-align: right;\n",
       "    }\n",
       "</style>\n",
       "<table border=\"1\" class=\"dataframe\">\n",
       "  <thead>\n",
       "    <tr style=\"text-align: right;\">\n",
       "      <th></th>\n",
       "      <th>coin</th>\n",
       "      <th>block</th>\n",
       "      <th>total_supply</th>\n",
       "      <th>total_supply_pct</th>\n",
       "      <th>date</th>\n",
       "    </tr>\n",
       "  </thead>\n",
       "  <tbody>\n",
       "    <tr>\n",
       "      <th>131</th>\n",
       "      <td>DASH</td>\n",
       "      <td>26138333</td>\n",
       "      <td>1.921533e+07</td>\n",
       "      <td>99.997761</td>\n",
       "      <td>2145-01-01</td>\n",
       "    </tr>\n",
       "    <tr>\n",
       "      <th>132</th>\n",
       "      <td>DASH</td>\n",
       "      <td>26338561</td>\n",
       "      <td>1.921543e+07</td>\n",
       "      <td>99.998281</td>\n",
       "      <td>2146-01-01</td>\n",
       "    </tr>\n",
       "    <tr>\n",
       "      <th>133</th>\n",
       "      <td>DASH</td>\n",
       "      <td>26538790</td>\n",
       "      <td>1.921553e+07</td>\n",
       "      <td>99.998767</td>\n",
       "      <td>2147-01-01</td>\n",
       "    </tr>\n",
       "    <tr>\n",
       "      <th>134</th>\n",
       "      <td>DASH</td>\n",
       "      <td>26739019</td>\n",
       "      <td>1.921561e+07</td>\n",
       "      <td>99.999219</td>\n",
       "      <td>2148-01-01</td>\n",
       "    </tr>\n",
       "    <tr>\n",
       "      <th>135</th>\n",
       "      <td>DASH</td>\n",
       "      <td>26939796</td>\n",
       "      <td>1.921569e+07</td>\n",
       "      <td>99.999642</td>\n",
       "      <td>2149-01-01</td>\n",
       "    </tr>\n",
       "  </tbody>\n",
       "</table>\n",
       "</div>"
      ],
      "text/plain": [
       "     coin     block  total_supply  total_supply_pct        date\n",
       "131  DASH  26138333  1.921533e+07         99.997761  2145-01-01\n",
       "132  DASH  26338561  1.921543e+07         99.998281  2146-01-01\n",
       "133  DASH  26538790  1.921553e+07         99.998767  2147-01-01\n",
       "134  DASH  26739019  1.921561e+07         99.999219  2148-01-01\n",
       "135  DASH  26939796  1.921569e+07         99.999642  2149-01-01"
      ]
     },
     "metadata": {},
     "output_type": "display_data"
    }
   ],
   "source": [
    "yearly_supply = cmb.transform_supply(supply, COIN_SYMBOL, freq='yearly')\n",
    "\n",
    "display(yearly_supply.head())\n",
    "display(yearly_supply.tail())"
   ]
  }
 ],
 "metadata": {
  "kernelspec": {
   "display_name": "Python [default]",
   "language": "python",
   "name": "python3"
  },
  "language_info": {
   "codemirror_mode": {
    "name": "ipython",
    "version": 3
   },
   "file_extension": ".py",
   "mimetype": "text/x-python",
   "name": "python",
   "nbconvert_exporter": "python",
   "pygments_lexer": "ipython3",
   "version": "3.9.1"
  },
  "toc": {
   "base_numbering": 1,
   "nav_menu": {},
   "number_sections": true,
   "sideBar": true,
   "skip_h1_title": false,
   "title_cell": "Table of Contents",
   "title_sidebar": "Contents",
   "toc_cell": false,
   "toc_position": {},
   "toc_section_display": true,
   "toc_window_display": false
  }
 },
 "nbformat": 4,
 "nbformat_minor": 2
}
