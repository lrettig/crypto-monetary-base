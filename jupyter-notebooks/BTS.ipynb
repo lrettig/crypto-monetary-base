{
 "cells": [
  {
   "cell_type": "code",
   "execution_count": 1,
   "metadata": {
    "execution": {
     "iopub.execute_input": "2021-01-10T18:32:48.439570Z",
     "iopub.status.busy": "2021-01-10T18:32:48.438803Z",
     "iopub.status.idle": "2021-01-10T18:32:48.832676Z",
     "shell.execute_reply": "2021-01-10T18:32:48.831922Z"
    }
   },
   "outputs": [],
   "source": [
    "# Load project functions\n",
    "import crypto_monetary_base as cmb"
   ]
  },
  {
   "cell_type": "code",
   "execution_count": 2,
   "metadata": {
    "execution": {
     "iopub.execute_input": "2021-01-10T18:32:48.840215Z",
     "iopub.status.busy": "2021-01-10T18:32:48.838968Z",
     "iopub.status.idle": "2021-01-10T18:32:49.093094Z",
     "shell.execute_reply": "2021-01-10T18:32:49.093769Z"
    }
   },
   "outputs": [],
   "source": [
    "import pandas as pd\n",
    "import datetime\n",
    "from tqdm import tqdm_notebook\n",
    "\n",
    "import matplotlib.pyplot as plt\n",
    "import matplotlib as mpl\n",
    "import seaborn as sns\n",
    "%matplotlib inline\n",
    "%config InlineBackend.figure_format='retina'\n",
    "sns.set()\n",
    "plt.rcParams['figure.figsize'] = (6, 4)\n",
    "plt.rcParams['axes.labelpad'] = 10\n",
    "mpl.rc('text', usetex=True)\n",
    "plt.style.use('ggplot')\n",
    "\n",
    "from IPython.display import display"
   ]
  },
  {
   "cell_type": "code",
   "execution_count": 3,
   "metadata": {
    "execution": {
     "iopub.execute_input": "2021-01-10T18:32:49.097444Z",
     "iopub.status.busy": "2021-01-10T18:32:49.096697Z",
     "iopub.status.idle": "2021-01-10T18:32:49.180709Z",
     "shell.execute_reply": "2021-01-10T18:32:49.181327Z"
    }
   },
   "outputs": [
    {
     "ename": "AttributeError",
     "evalue": "module 'cgi' has no attribute 'escape'",
     "output_type": "error",
     "traceback": [
      "\u001b[0;31m---------------------------------------------------------------------------\u001b[0m",
      "\u001b[0;31mAttributeError\u001b[0m                            Traceback (most recent call last)",
      "\u001b[0;32m~/.local/share/virtualenvs/crypto-monetary-base-xxmj4jsc/lib/python3.9/site-packages/IPython/core/formatters.py\u001b[0m in \u001b[0;36m__call__\u001b[0;34m(self, obj)\u001b[0m\n\u001b[1;32m    343\u001b[0m             \u001b[0mmethod\u001b[0m \u001b[0;34m=\u001b[0m \u001b[0mget_real_method\u001b[0m\u001b[0;34m(\u001b[0m\u001b[0mobj\u001b[0m\u001b[0;34m,\u001b[0m \u001b[0mself\u001b[0m\u001b[0;34m.\u001b[0m\u001b[0mprint_method\u001b[0m\u001b[0;34m)\u001b[0m\u001b[0;34m\u001b[0m\u001b[0;34m\u001b[0m\u001b[0m\n\u001b[1;32m    344\u001b[0m             \u001b[0;32mif\u001b[0m \u001b[0mmethod\u001b[0m \u001b[0;32mis\u001b[0m \u001b[0;32mnot\u001b[0m \u001b[0;32mNone\u001b[0m\u001b[0;34m:\u001b[0m\u001b[0;34m\u001b[0m\u001b[0;34m\u001b[0m\u001b[0m\n\u001b[0;32m--> 345\u001b[0;31m                 \u001b[0;32mreturn\u001b[0m \u001b[0mmethod\u001b[0m\u001b[0;34m(\u001b[0m\u001b[0;34m)\u001b[0m\u001b[0;34m\u001b[0m\u001b[0;34m\u001b[0m\u001b[0m\n\u001b[0m\u001b[1;32m    346\u001b[0m             \u001b[0;32mreturn\u001b[0m \u001b[0;32mNone\u001b[0m\u001b[0;34m\u001b[0m\u001b[0;34m\u001b[0m\u001b[0m\n\u001b[1;32m    347\u001b[0m         \u001b[0;32melse\u001b[0m\u001b[0;34m:\u001b[0m\u001b[0;34m\u001b[0m\u001b[0;34m\u001b[0m\u001b[0m\n",
      "\u001b[0;32m~/.local/share/virtualenvs/crypto-monetary-base-xxmj4jsc/lib/python3.9/site-packages/version_information/version_information.py\u001b[0m in \u001b[0;36m_repr_html_\u001b[0;34m(self)\u001b[0m\n\u001b[1;32m    126\u001b[0m         \u001b[0mhtml\u001b[0m \u001b[0;34m+=\u001b[0m \u001b[0;34m\"<tr><th>Software</th><th>Version</th></tr>\"\u001b[0m\u001b[0;34m\u001b[0m\u001b[0;34m\u001b[0m\u001b[0m\n\u001b[1;32m    127\u001b[0m         \u001b[0;32mfor\u001b[0m \u001b[0mname\u001b[0m\u001b[0;34m,\u001b[0m \u001b[0mversion\u001b[0m \u001b[0;32min\u001b[0m \u001b[0mself\u001b[0m\u001b[0;34m.\u001b[0m\u001b[0mpackages\u001b[0m\u001b[0;34m:\u001b[0m\u001b[0;34m\u001b[0m\u001b[0;34m\u001b[0m\u001b[0m\n\u001b[0;32m--> 128\u001b[0;31m             \u001b[0m_version\u001b[0m \u001b[0;34m=\u001b[0m \u001b[0mcgi\u001b[0m\u001b[0;34m.\u001b[0m\u001b[0mescape\u001b[0m\u001b[0;34m(\u001b[0m\u001b[0mversion\u001b[0m\u001b[0;34m)\u001b[0m\u001b[0;34m\u001b[0m\u001b[0;34m\u001b[0m\u001b[0m\n\u001b[0m\u001b[1;32m    129\u001b[0m             \u001b[0mhtml\u001b[0m \u001b[0;34m+=\u001b[0m \u001b[0;34m\"<tr><td>%s</td><td>%s</td></tr>\"\u001b[0m \u001b[0;34m%\u001b[0m \u001b[0;34m(\u001b[0m\u001b[0mname\u001b[0m\u001b[0;34m,\u001b[0m \u001b[0m_version\u001b[0m\u001b[0;34m)\u001b[0m\u001b[0;34m\u001b[0m\u001b[0;34m\u001b[0m\u001b[0m\n\u001b[1;32m    130\u001b[0m \u001b[0;34m\u001b[0m\u001b[0m\n",
      "\u001b[0;31mAttributeError\u001b[0m: module 'cgi' has no attribute 'escape'"
     ]
    },
    {
     "data": {
      "application/json": {
       "Software versions": [
        {
         "module": "Python",
         "version": "3.9.1 64bit [GCC 5.4.0 20160609]"
        },
        {
         "module": "IPython",
         "version": "7.19.0"
        },
        {
         "module": "OS",
         "version": "Linux 5.8.0 0.bpo.2 amd64 x86_64 with glibc2.28"
        },
        {
         "module": "pandas",
         "version": "1.2.0"
        },
        {
         "module": "matplotlib",
         "version": "3.3.3"
        },
        {
         "module": "seaborn",
         "version": "0.11.1"
        }
       ]
      },
      "text/latex": [
       "\\begin{tabular}{|l|l|}\\hline\n",
       "{\\bf Software} & {\\bf Version} \\\\ \\hline\\hline\n",
       "Python & 3.9.1 64bit [GCC 5.4.0 20160609] \\\\ \\hline\n",
       "IPython & 7.19.0 \\\\ \\hline\n",
       "OS & Linux 5.8.0 0.bpo.2 amd64 x86\\_64 with glibc2.28 \\\\ \\hline\n",
       "pandas & 1.2.0 \\\\ \\hline\n",
       "matplotlib & 3.3.3 \\\\ \\hline\n",
       "seaborn & 0.11.1 \\\\ \\hline\n",
       "\\hline \\multicolumn{2}{|l|}{Sun Jan 10 13:32:49 2021 EST} \\\\ \\hline\n",
       "\\end{tabular}\n"
      ],
      "text/plain": [
       "Software versions\n",
       "Python 3.9.1 64bit [GCC 5.4.0 20160609]\n",
       "IPython 7.19.0\n",
       "OS Linux 5.8.0 0.bpo.2 amd64 x86_64 with glibc2.28\n",
       "pandas 1.2.0\n",
       "matplotlib 3.3.3\n",
       "seaborn 0.11.1\n",
       "Sun Jan 10 13:32:49 2021 EST"
      ]
     },
     "execution_count": 1,
     "metadata": {},
     "output_type": "execute_result"
    }
   ],
   "source": [
    "%load_ext version_information\n",
    "%version_information pandas, matplotlib, seaborn"
   ]
  },
  {
   "cell_type": "markdown",
   "metadata": {},
   "source": [
    "## Supply Curve Calculation"
   ]
  },
  {
   "cell_type": "code",
   "execution_count": 4,
   "metadata": {
    "execution": {
     "iopub.execute_input": "2021-01-10T18:32:49.185799Z",
     "iopub.status.busy": "2021-01-10T18:32:49.185223Z",
     "iopub.status.idle": "2021-01-10T18:32:49.186978Z",
     "shell.execute_reply": "2021-01-10T18:32:49.187463Z"
    }
   },
   "outputs": [],
   "source": [
    "COIN_SYMBOL = 'BTS'"
   ]
  },
  {
   "cell_type": "code",
   "execution_count": 5,
   "metadata": {
    "execution": {
     "iopub.execute_input": "2021-01-10T18:32:49.193563Z",
     "iopub.status.busy": "2021-01-10T18:32:49.192967Z",
     "iopub.status.idle": "2021-01-10T18:32:49.194600Z",
     "shell.execute_reply": "2021-01-10T18:32:49.195082Z"
    }
   },
   "outputs": [],
   "source": [
    "def datetime_bts_supply_curve(num_weeks):\n",
    "    supply = [\n",
    "        # Total distribution,\n",
    "    ]\n",
    "    start_date = datetime.date(2015, 10, 13)\n",
    "    max_supply = 3600570502\n",
    "    y = 2412 * 1e6\n",
    "    supply.append([y])\n",
    "    for week in range(num_weeks):\n",
    "        weekly_distribution = 7 * (max_supply - y) / 2924\n",
    "        y += weekly_distribution \n",
    "        supply.append([min((y, max_supply))])\n",
    "    \n",
    "    df = pd.DataFrame(\n",
    "        supply, columns=['total_supply']\n",
    "    )\n",
    "    df['total_supply_pct'] = (\n",
    "        df['total_supply'] / df['total_supply'].values[-1]\n",
    "        * 100\n",
    "    )\n",
    "    df['date'] = pd.date_range(\n",
    "        start=start_date,\n",
    "        freq='W',\n",
    "        periods=len(df)\n",
    "    )\n",
    "    return df"
   ]
  },
  {
   "cell_type": "code",
   "execution_count": 6,
   "metadata": {
    "execution": {
     "iopub.execute_input": "2021-01-10T18:32:49.208711Z",
     "iopub.status.busy": "2021-01-10T18:32:49.207979Z",
     "iopub.status.idle": "2021-01-10T18:32:49.301743Z",
     "shell.execute_reply": "2021-01-10T18:32:49.302462Z"
    }
   },
   "outputs": [
    {
     "data": {
      "text/html": [
       "<div>\n",
       "<style scoped>\n",
       "    .dataframe tbody tr th:only-of-type {\n",
       "        vertical-align: middle;\n",
       "    }\n",
       "\n",
       "    .dataframe tbody tr th {\n",
       "        vertical-align: top;\n",
       "    }\n",
       "\n",
       "    .dataframe thead th {\n",
       "        text-align: right;\n",
       "    }\n",
       "</style>\n",
       "<table border=\"1\" class=\"dataframe\">\n",
       "  <thead>\n",
       "    <tr style=\"text-align: right;\">\n",
       "      <th></th>\n",
       "      <th>total_supply</th>\n",
       "      <th>total_supply_pct</th>\n",
       "      <th>date</th>\n",
       "    </tr>\n",
       "  </thead>\n",
       "  <tbody>\n",
       "    <tr>\n",
       "      <th>0</th>\n",
       "      <td>2.412000e+09</td>\n",
       "      <td>66.989389</td>\n",
       "      <td>2015-10-18</td>\n",
       "    </tr>\n",
       "    <tr>\n",
       "      <th>1</th>\n",
       "      <td>2.414845e+09</td>\n",
       "      <td>67.068416</td>\n",
       "      <td>2015-10-25</td>\n",
       "    </tr>\n",
       "    <tr>\n",
       "      <th>2</th>\n",
       "      <td>2.417684e+09</td>\n",
       "      <td>67.147254</td>\n",
       "      <td>2015-11-01</td>\n",
       "    </tr>\n",
       "    <tr>\n",
       "      <th>3</th>\n",
       "      <td>2.420516e+09</td>\n",
       "      <td>67.225903</td>\n",
       "      <td>2015-11-08</td>\n",
       "    </tr>\n",
       "    <tr>\n",
       "      <th>4</th>\n",
       "      <td>2.423341e+09</td>\n",
       "      <td>67.304363</td>\n",
       "      <td>2015-11-15</td>\n",
       "    </tr>\n",
       "  </tbody>\n",
       "</table>\n",
       "</div>"
      ],
      "text/plain": [
       "   total_supply  total_supply_pct       date\n",
       "0  2.412000e+09         66.989389 2015-10-18\n",
       "1  2.414845e+09         67.068416 2015-10-25\n",
       "2  2.417684e+09         67.147254 2015-11-01\n",
       "3  2.420516e+09         67.225903 2015-11-08\n",
       "4  2.423341e+09         67.304363 2015-11-15"
      ]
     },
     "metadata": {},
     "output_type": "display_data"
    },
    {
     "data": {
      "text/html": [
       "<div>\n",
       "<style scoped>\n",
       "    .dataframe tbody tr th:only-of-type {\n",
       "        vertical-align: middle;\n",
       "    }\n",
       "\n",
       "    .dataframe tbody tr th {\n",
       "        vertical-align: top;\n",
       "    }\n",
       "\n",
       "    .dataframe thead th {\n",
       "        text-align: right;\n",
       "    }\n",
       "</style>\n",
       "<table border=\"1\" class=\"dataframe\">\n",
       "  <thead>\n",
       "    <tr style=\"text-align: right;\">\n",
       "      <th></th>\n",
       "      <th>total_supply</th>\n",
       "      <th>total_supply_pct</th>\n",
       "      <th>date</th>\n",
       "    </tr>\n",
       "  </thead>\n",
       "  <tbody>\n",
       "    <tr>\n",
       "      <th>6346</th>\n",
       "      <td>3.600570e+09</td>\n",
       "      <td>100.0</td>\n",
       "      <td>2137-06-02</td>\n",
       "    </tr>\n",
       "    <tr>\n",
       "      <th>6347</th>\n",
       "      <td>3.600570e+09</td>\n",
       "      <td>100.0</td>\n",
       "      <td>2137-06-09</td>\n",
       "    </tr>\n",
       "    <tr>\n",
       "      <th>6348</th>\n",
       "      <td>3.600570e+09</td>\n",
       "      <td>100.0</td>\n",
       "      <td>2137-06-16</td>\n",
       "    </tr>\n",
       "    <tr>\n",
       "      <th>6349</th>\n",
       "      <td>3.600570e+09</td>\n",
       "      <td>100.0</td>\n",
       "      <td>2137-06-23</td>\n",
       "    </tr>\n",
       "    <tr>\n",
       "      <th>6350</th>\n",
       "      <td>3.600570e+09</td>\n",
       "      <td>100.0</td>\n",
       "      <td>2137-06-30</td>\n",
       "    </tr>\n",
       "  </tbody>\n",
       "</table>\n",
       "</div>"
      ],
      "text/plain": [
       "      total_supply  total_supply_pct       date\n",
       "6346  3.600570e+09             100.0 2137-06-02\n",
       "6347  3.600570e+09             100.0 2137-06-09\n",
       "6348  3.600570e+09             100.0 2137-06-16\n",
       "6349  3.600570e+09             100.0 2137-06-23\n",
       "6350  3.600570e+09             100.0 2137-06-30"
      ]
     },
     "metadata": {},
     "output_type": "display_data"
    }
   ],
   "source": [
    "supply = datetime_bts_supply_curve(6350)\n",
    "\n",
    "display(supply.head())\n",
    "display(supply.tail())"
   ]
  },
  {
   "cell_type": "code",
   "execution_count": 7,
   "metadata": {
    "execution": {
     "iopub.execute_input": "2021-01-10T18:32:49.305679Z",
     "iopub.status.busy": "2021-01-10T18:32:49.305076Z",
     "iopub.status.idle": "2021-01-10T18:32:50.555899Z",
     "shell.execute_reply": "2021-01-10T18:32:50.556707Z"
    }
   },
   "outputs": [
    {
     "data": {
      "text/plain": [
       "<module 'matplotlib.pyplot' from '/home/lane/.local/share/virtualenvs/crypto-monetary-base-xxmj4jsc/lib/python3.9/site-packages/matplotlib/pyplot.py'>"
      ]
     },
     "execution_count": 1,
     "metadata": {},
     "output_type": "execute_result"
    },
    {
     "data": {
      "image/png": "[encoded data removed]",
      "text/plain": [
       "<Figure size 432x288 with 1 Axes>"
      ]
     },
     "metadata": {
      "image/png": {
       "height": 277,
       "width": 394
      }
     },
     "output_type": "display_data"
    }
   ],
   "source": [
    "cmb.plot_supply_curve(\n",
    "    supply,\n",
    "    'BTS',\n",
    "    fmt='--'\n",
    ");"
   ]
  },
  {
   "cell_type": "markdown",
   "metadata": {},
   "source": [
    "## Standardize Time Series"
   ]
  },
  {
   "cell_type": "code",
   "execution_count": 8,
   "metadata": {
    "execution": {
     "iopub.execute_input": "2021-01-10T18:32:50.560794Z",
     "iopub.status.busy": "2021-01-10T18:32:50.560198Z",
     "iopub.status.idle": "2021-01-10T18:32:50.733120Z",
     "shell.execute_reply": "2021-01-10T18:32:50.733521Z"
    }
   },
   "outputs": [
    {
     "name": "stdout",
     "output_type": "stream",
     "text": [
      "Wrote 6351 lines to file ../output-data/BTS_weekly.csv\n"
     ]
    },
    {
     "data": {
      "text/html": [
       "<div>\n",
       "<style scoped>\n",
       "    .dataframe tbody tr th:only-of-type {\n",
       "        vertical-align: middle;\n",
       "    }\n",
       "\n",
       "    .dataframe tbody tr th {\n",
       "        vertical-align: top;\n",
       "    }\n",
       "\n",
       "    .dataframe thead th {\n",
       "        text-align: right;\n",
       "    }\n",
       "</style>\n",
       "<table border=\"1\" class=\"dataframe\">\n",
       "  <thead>\n",
       "    <tr style=\"text-align: right;\">\n",
       "      <th></th>\n",
       "      <th>coin</th>\n",
       "      <th>total_supply</th>\n",
       "      <th>total_supply_pct</th>\n",
       "      <th>date</th>\n",
       "    </tr>\n",
       "  </thead>\n",
       "  <tbody>\n",
       "    <tr>\n",
       "      <th>0</th>\n",
       "      <td>BTS</td>\n",
       "      <td>2.412000e+09</td>\n",
       "      <td>66.989389</td>\n",
       "      <td>2015-10-01</td>\n",
       "    </tr>\n",
       "    <tr>\n",
       "      <th>1</th>\n",
       "      <td>BTS</td>\n",
       "      <td>2.414845e+09</td>\n",
       "      <td>67.068416</td>\n",
       "      <td>2015-10-01</td>\n",
       "    </tr>\n",
       "    <tr>\n",
       "      <th>2</th>\n",
       "      <td>BTS</td>\n",
       "      <td>2.417684e+09</td>\n",
       "      <td>67.147254</td>\n",
       "      <td>2015-11-01</td>\n",
       "    </tr>\n",
       "    <tr>\n",
       "      <th>3</th>\n",
       "      <td>BTS</td>\n",
       "      <td>2.420516e+09</td>\n",
       "      <td>67.225903</td>\n",
       "      <td>2015-11-01</td>\n",
       "    </tr>\n",
       "    <tr>\n",
       "      <th>4</th>\n",
       "      <td>BTS</td>\n",
       "      <td>2.423341e+09</td>\n",
       "      <td>67.304363</td>\n",
       "      <td>2015-11-01</td>\n",
       "    </tr>\n",
       "  </tbody>\n",
       "</table>\n",
       "</div>"
      ],
      "text/plain": [
       "  coin  total_supply  total_supply_pct        date\n",
       "0  BTS  2.412000e+09         66.989389  2015-10-01\n",
       "1  BTS  2.414845e+09         67.068416  2015-10-01\n",
       "2  BTS  2.417684e+09         67.147254  2015-11-01\n",
       "3  BTS  2.420516e+09         67.225903  2015-11-01\n",
       "4  BTS  2.423341e+09         67.304363  2015-11-01"
      ]
     },
     "metadata": {},
     "output_type": "display_data"
    },
    {
     "data": {
      "text/html": [
       "<div>\n",
       "<style scoped>\n",
       "    .dataframe tbody tr th:only-of-type {\n",
       "        vertical-align: middle;\n",
       "    }\n",
       "\n",
       "    .dataframe tbody tr th {\n",
       "        vertical-align: top;\n",
       "    }\n",
       "\n",
       "    .dataframe thead th {\n",
       "        text-align: right;\n",
       "    }\n",
       "</style>\n",
       "<table border=\"1\" class=\"dataframe\">\n",
       "  <thead>\n",
       "    <tr style=\"text-align: right;\">\n",
       "      <th></th>\n",
       "      <th>coin</th>\n",
       "      <th>total_supply</th>\n",
       "      <th>total_supply_pct</th>\n",
       "      <th>date</th>\n",
       "    </tr>\n",
       "  </thead>\n",
       "  <tbody>\n",
       "    <tr>\n",
       "      <th>6346</th>\n",
       "      <td>BTS</td>\n",
       "      <td>3.600570e+09</td>\n",
       "      <td>100.0</td>\n",
       "      <td>2137-06-01</td>\n",
       "    </tr>\n",
       "    <tr>\n",
       "      <th>6347</th>\n",
       "      <td>BTS</td>\n",
       "      <td>3.600570e+09</td>\n",
       "      <td>100.0</td>\n",
       "      <td>2137-06-01</td>\n",
       "    </tr>\n",
       "    <tr>\n",
       "      <th>6348</th>\n",
       "      <td>BTS</td>\n",
       "      <td>3.600570e+09</td>\n",
       "      <td>100.0</td>\n",
       "      <td>2137-06-01</td>\n",
       "    </tr>\n",
       "    <tr>\n",
       "      <th>6349</th>\n",
       "      <td>BTS</td>\n",
       "      <td>3.600570e+09</td>\n",
       "      <td>100.0</td>\n",
       "      <td>2137-06-01</td>\n",
       "    </tr>\n",
       "    <tr>\n",
       "      <th>6350</th>\n",
       "      <td>BTS</td>\n",
       "      <td>3.600570e+09</td>\n",
       "      <td>100.0</td>\n",
       "      <td>2137-06-01</td>\n",
       "    </tr>\n",
       "  </tbody>\n",
       "</table>\n",
       "</div>"
      ],
      "text/plain": [
       "     coin  total_supply  total_supply_pct        date\n",
       "6346  BTS  3.600570e+09             100.0  2137-06-01\n",
       "6347  BTS  3.600570e+09             100.0  2137-06-01\n",
       "6348  BTS  3.600570e+09             100.0  2137-06-01\n",
       "6349  BTS  3.600570e+09             100.0  2137-06-01\n",
       "6350  BTS  3.600570e+09             100.0  2137-06-01"
      ]
     },
     "metadata": {},
     "output_type": "display_data"
    }
   ],
   "source": [
    "weekly_supply = cmb.transform_supply(supply, COIN_SYMBOL, freq='weekly')\n",
    "\n",
    "display(weekly_supply.head())\n",
    "display(weekly_supply.tail())"
   ]
  },
  {
   "cell_type": "code",
   "execution_count": 9,
   "metadata": {
    "execution": {
     "iopub.execute_input": "2021-01-10T18:32:50.737947Z",
     "iopub.status.busy": "2021-01-10T18:32:50.737336Z",
     "iopub.status.idle": "2021-01-10T18:32:50.799929Z",
     "shell.execute_reply": "2021-01-10T18:32:50.799539Z"
    }
   },
   "outputs": [
    {
     "name": "stdout",
     "output_type": "stream",
     "text": [
      "Wrote 1461 lines to file ../output-data/BTS_monthly.csv\n"
     ]
    },
    {
     "data": {
      "text/html": [
       "<div>\n",
       "<style scoped>\n",
       "    .dataframe tbody tr th:only-of-type {\n",
       "        vertical-align: middle;\n",
       "    }\n",
       "\n",
       "    .dataframe tbody tr th {\n",
       "        vertical-align: top;\n",
       "    }\n",
       "\n",
       "    .dataframe thead th {\n",
       "        text-align: right;\n",
       "    }\n",
       "</style>\n",
       "<table border=\"1\" class=\"dataframe\">\n",
       "  <thead>\n",
       "    <tr style=\"text-align: right;\">\n",
       "      <th></th>\n",
       "      <th>coin</th>\n",
       "      <th>total_supply</th>\n",
       "      <th>total_supply_pct</th>\n",
       "      <th>date</th>\n",
       "    </tr>\n",
       "  </thead>\n",
       "  <tbody>\n",
       "    <tr>\n",
       "      <th>0</th>\n",
       "      <td>BTS</td>\n",
       "      <td>2.412000e+09</td>\n",
       "      <td>66.989389</td>\n",
       "      <td>2015-10-01</td>\n",
       "    </tr>\n",
       "    <tr>\n",
       "      <th>1</th>\n",
       "      <td>BTS</td>\n",
       "      <td>2.417684e+09</td>\n",
       "      <td>67.147254</td>\n",
       "      <td>2015-11-01</td>\n",
       "    </tr>\n",
       "    <tr>\n",
       "      <th>2</th>\n",
       "      <td>BTS</td>\n",
       "      <td>2.431775e+09</td>\n",
       "      <td>67.538620</td>\n",
       "      <td>2015-12-01</td>\n",
       "    </tr>\n",
       "    <tr>\n",
       "      <th>3</th>\n",
       "      <td>BTS</td>\n",
       "      <td>2.442928e+09</td>\n",
       "      <td>67.848353</td>\n",
       "      <td>2016-01-01</td>\n",
       "    </tr>\n",
       "    <tr>\n",
       "      <th>4</th>\n",
       "      <td>BTS</td>\n",
       "      <td>2.456718e+09</td>\n",
       "      <td>68.231367</td>\n",
       "      <td>2016-02-01</td>\n",
       "    </tr>\n",
       "  </tbody>\n",
       "</table>\n",
       "</div>"
      ],
      "text/plain": [
       "  coin  total_supply  total_supply_pct        date\n",
       "0  BTS  2.412000e+09         66.989389  2015-10-01\n",
       "1  BTS  2.417684e+09         67.147254  2015-11-01\n",
       "2  BTS  2.431775e+09         67.538620  2015-12-01\n",
       "3  BTS  2.442928e+09         67.848353  2016-01-01\n",
       "4  BTS  2.456718e+09         68.231367  2016-02-01"
      ]
     },
     "metadata": {},
     "output_type": "display_data"
    },
    {
     "data": {
      "text/html": [
       "<div>\n",
       "<style scoped>\n",
       "    .dataframe tbody tr th:only-of-type {\n",
       "        vertical-align: middle;\n",
       "    }\n",
       "\n",
       "    .dataframe tbody tr th {\n",
       "        vertical-align: top;\n",
       "    }\n",
       "\n",
       "    .dataframe thead th {\n",
       "        text-align: right;\n",
       "    }\n",
       "</style>\n",
       "<table border=\"1\" class=\"dataframe\">\n",
       "  <thead>\n",
       "    <tr style=\"text-align: right;\">\n",
       "      <th></th>\n",
       "      <th>coin</th>\n",
       "      <th>total_supply</th>\n",
       "      <th>total_supply_pct</th>\n",
       "      <th>date</th>\n",
       "    </tr>\n",
       "  </thead>\n",
       "  <tbody>\n",
       "    <tr>\n",
       "      <th>1456</th>\n",
       "      <td>BTS</td>\n",
       "      <td>3.600570e+09</td>\n",
       "      <td>100.0</td>\n",
       "      <td>2137-02-01</td>\n",
       "    </tr>\n",
       "    <tr>\n",
       "      <th>1457</th>\n",
       "      <td>BTS</td>\n",
       "      <td>3.600570e+09</td>\n",
       "      <td>100.0</td>\n",
       "      <td>2137-03-01</td>\n",
       "    </tr>\n",
       "    <tr>\n",
       "      <th>1458</th>\n",
       "      <td>BTS</td>\n",
       "      <td>3.600570e+09</td>\n",
       "      <td>100.0</td>\n",
       "      <td>2137-04-01</td>\n",
       "    </tr>\n",
       "    <tr>\n",
       "      <th>1459</th>\n",
       "      <td>BTS</td>\n",
       "      <td>3.600570e+09</td>\n",
       "      <td>100.0</td>\n",
       "      <td>2137-05-01</td>\n",
       "    </tr>\n",
       "    <tr>\n",
       "      <th>1460</th>\n",
       "      <td>BTS</td>\n",
       "      <td>3.600570e+09</td>\n",
       "      <td>100.0</td>\n",
       "      <td>2137-06-01</td>\n",
       "    </tr>\n",
       "  </tbody>\n",
       "</table>\n",
       "</div>"
      ],
      "text/plain": [
       "     coin  total_supply  total_supply_pct        date\n",
       "1456  BTS  3.600570e+09             100.0  2137-02-01\n",
       "1457  BTS  3.600570e+09             100.0  2137-03-01\n",
       "1458  BTS  3.600570e+09             100.0  2137-04-01\n",
       "1459  BTS  3.600570e+09             100.0  2137-05-01\n",
       "1460  BTS  3.600570e+09             100.0  2137-06-01"
      ]
     },
     "metadata": {},
     "output_type": "display_data"
    }
   ],
   "source": [
    "monthly_supply = cmb.transform_supply(supply, COIN_SYMBOL, freq='monthly')\n",
    "\n",
    "display(monthly_supply.head())\n",
    "display(monthly_supply.tail())"
   ]
  },
  {
   "cell_type": "code",
   "execution_count": 10,
   "metadata": {
    "execution": {
     "iopub.execute_input": "2021-01-10T18:32:50.806148Z",
     "iopub.status.busy": "2021-01-10T18:32:50.805484Z",
     "iopub.status.idle": "2021-01-10T18:32:50.829302Z",
     "shell.execute_reply": "2021-01-10T18:32:50.829914Z"
    }
   },
   "outputs": [
    {
     "name": "stdout",
     "output_type": "stream",
     "text": [
      "Wrote 123 lines to file ../output-data/BTS_yearly.csv\n"
     ]
    },
    {
     "data": {
      "text/html": [
       "<div>\n",
       "<style scoped>\n",
       "    .dataframe tbody tr th:only-of-type {\n",
       "        vertical-align: middle;\n",
       "    }\n",
       "\n",
       "    .dataframe tbody tr th {\n",
       "        vertical-align: top;\n",
       "    }\n",
       "\n",
       "    .dataframe thead th {\n",
       "        text-align: right;\n",
       "    }\n",
       "</style>\n",
       "<table border=\"1\" class=\"dataframe\">\n",
       "  <thead>\n",
       "    <tr style=\"text-align: right;\">\n",
       "      <th></th>\n",
       "      <th>coin</th>\n",
       "      <th>total_supply</th>\n",
       "      <th>total_supply_pct</th>\n",
       "      <th>date</th>\n",
       "    </tr>\n",
       "  </thead>\n",
       "  <tbody>\n",
       "    <tr>\n",
       "      <th>0</th>\n",
       "      <td>BTS</td>\n",
       "      <td>2.412000e+09</td>\n",
       "      <td>66.989389</td>\n",
       "      <td>2015-10-01</td>\n",
       "    </tr>\n",
       "    <tr>\n",
       "      <th>1</th>\n",
       "      <td>BTS</td>\n",
       "      <td>2.442928e+09</td>\n",
       "      <td>67.848353</td>\n",
       "      <td>2016-01-01</td>\n",
       "    </tr>\n",
       "    <tr>\n",
       "      <th>2</th>\n",
       "      <td>BTS</td>\n",
       "      <td>2.578583e+09</td>\n",
       "      <td>71.615949</td>\n",
       "      <td>2017-01-01</td>\n",
       "    </tr>\n",
       "    <tr>\n",
       "      <th>3</th>\n",
       "      <td>BTS</td>\n",
       "      <td>2.700501e+09</td>\n",
       "      <td>75.002039</td>\n",
       "      <td>2018-01-01</td>\n",
       "    </tr>\n",
       "    <tr>\n",
       "      <th>4</th>\n",
       "      <td>BTS</td>\n",
       "      <td>2.805973e+09</td>\n",
       "      <td>77.931352</td>\n",
       "      <td>2019-01-01</td>\n",
       "    </tr>\n",
       "  </tbody>\n",
       "</table>\n",
       "</div>"
      ],
      "text/plain": [
       "  coin  total_supply  total_supply_pct        date\n",
       "0  BTS  2.412000e+09         66.989389  2015-10-01\n",
       "1  BTS  2.442928e+09         67.848353  2016-01-01\n",
       "2  BTS  2.578583e+09         71.615949  2017-01-01\n",
       "3  BTS  2.700501e+09         75.002039  2018-01-01\n",
       "4  BTS  2.805973e+09         77.931352  2019-01-01"
      ]
     },
     "metadata": {},
     "output_type": "display_data"
    },
    {
     "data": {
      "text/html": [
       "<div>\n",
       "<style scoped>\n",
       "    .dataframe tbody tr th:only-of-type {\n",
       "        vertical-align: middle;\n",
       "    }\n",
       "\n",
       "    .dataframe tbody tr th {\n",
       "        vertical-align: top;\n",
       "    }\n",
       "\n",
       "    .dataframe thead th {\n",
       "        text-align: right;\n",
       "    }\n",
       "</style>\n",
       "<table border=\"1\" class=\"dataframe\">\n",
       "  <thead>\n",
       "    <tr style=\"text-align: right;\">\n",
       "      <th></th>\n",
       "      <th>coin</th>\n",
       "      <th>total_supply</th>\n",
       "      <th>total_supply_pct</th>\n",
       "      <th>date</th>\n",
       "    </tr>\n",
       "  </thead>\n",
       "  <tbody>\n",
       "    <tr>\n",
       "      <th>118</th>\n",
       "      <td>BTS</td>\n",
       "      <td>3.600570e+09</td>\n",
       "      <td>99.999994</td>\n",
       "      <td>2133-01-01</td>\n",
       "    </tr>\n",
       "    <tr>\n",
       "      <th>119</th>\n",
       "      <td>BTS</td>\n",
       "      <td>3.600570e+09</td>\n",
       "      <td>99.999996</td>\n",
       "      <td>2134-01-01</td>\n",
       "    </tr>\n",
       "    <tr>\n",
       "      <th>120</th>\n",
       "      <td>BTS</td>\n",
       "      <td>3.600570e+09</td>\n",
       "      <td>99.999997</td>\n",
       "      <td>2135-01-01</td>\n",
       "    </tr>\n",
       "    <tr>\n",
       "      <th>121</th>\n",
       "      <td>BTS</td>\n",
       "      <td>3.600570e+09</td>\n",
       "      <td>99.999998</td>\n",
       "      <td>2136-01-01</td>\n",
       "    </tr>\n",
       "    <tr>\n",
       "      <th>122</th>\n",
       "      <td>BTS</td>\n",
       "      <td>3.600570e+09</td>\n",
       "      <td>99.999999</td>\n",
       "      <td>2137-01-01</td>\n",
       "    </tr>\n",
       "  </tbody>\n",
       "</table>\n",
       "</div>"
      ],
      "text/plain": [
       "    coin  total_supply  total_supply_pct        date\n",
       "118  BTS  3.600570e+09         99.999994  2133-01-01\n",
       "119  BTS  3.600570e+09         99.999996  2134-01-01\n",
       "120  BTS  3.600570e+09         99.999997  2135-01-01\n",
       "121  BTS  3.600570e+09         99.999998  2136-01-01\n",
       "122  BTS  3.600570e+09         99.999999  2137-01-01"
      ]
     },
     "metadata": {},
     "output_type": "display_data"
    }
   ],
   "source": [
    "yearly_supply = cmb.transform_supply(supply, COIN_SYMBOL, freq='yearly')\n",
    "\n",
    "display(yearly_supply.head())\n",
    "display(yearly_supply.tail())"
   ]
  },
  {
   "cell_type": "code",
   "execution_count": 11,
   "metadata": {},
   "outputs": [],
   "source": []
  }
 ],
 "metadata": {
  "kernelspec": {
   "display_name": "Python [default]",
   "language": "python",
   "name": "python3"
  },
  "language_info": {
   "codemirror_mode": {
    "name": "ipython",
    "version": 3
   },
   "file_extension": ".py",
   "mimetype": "text/x-python",
   "name": "python",
   "nbconvert_exporter": "python",
   "pygments_lexer": "ipython3",
   "version": "3.9.1"
  },
  "toc": {
   "base_numbering": 1,
   "nav_menu": {},
   "number_sections": true,
   "sideBar": true,
   "skip_h1_title": false,
   "title_cell": "Table of Contents",
   "title_sidebar": "Contents",
   "toc_cell": false,
   "toc_position": {},
   "toc_section_display": true,
   "toc_window_display": false
  }
 },
 "nbformat": 4,
 "nbformat_minor": 2
}
