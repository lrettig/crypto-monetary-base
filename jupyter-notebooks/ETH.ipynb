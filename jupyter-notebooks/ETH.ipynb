{
 "cells": [
  {
   "cell_type": "code",
   "execution_count": 1,
   "metadata": {
    "execution": {
     "iopub.execute_input": "2021-01-10T18:37:38.432013Z",
     "iopub.status.busy": "2021-01-10T18:37:38.430152Z",
     "iopub.status.idle": "2021-01-10T18:37:38.888099Z",
     "shell.execute_reply": "2021-01-10T18:37:38.887326Z"
    }
   },
   "outputs": [],
   "source": [
    "# Load project functions\n",
    "import crypto_monetary_base as cmb"
   ]
  },
  {
   "cell_type": "code",
   "execution_count": 2,
   "metadata": {
    "execution": {
     "iopub.execute_input": "2021-01-10T18:37:38.895220Z",
     "iopub.status.busy": "2021-01-10T18:37:38.894609Z",
     "iopub.status.idle": "2021-01-10T18:37:39.169656Z",
     "shell.execute_reply": "2021-01-10T18:37:39.170198Z"
    }
   },
   "outputs": [],
   "source": [
    "import pandas as pd\n",
    "import datetime\n",
    "from tqdm import tqdm_notebook\n",
    "\n",
    "import matplotlib.pyplot as plt\n",
    "import matplotlib as mpl\n",
    "import seaborn as sns\n",
    "%matplotlib inline\n",
    "%config InlineBackend.figure_format='retina'\n",
    "sns.set()\n",
    "plt.rcParams['figure.figsize'] = (6, 4)\n",
    "plt.rcParams['axes.labelpad'] = 10\n",
    "mpl.rc('text', usetex=True)\n",
    "plt.style.use('ggplot')\n",
    "\n",
    "from IPython.display import display"
   ]
  },
  {
   "cell_type": "code",
   "execution_count": 3,
   "metadata": {
    "execution": {
     "iopub.execute_input": "2021-01-10T18:37:39.173612Z",
     "iopub.status.busy": "2021-01-10T18:37:39.173183Z",
     "iopub.status.idle": "2021-01-10T18:37:39.266547Z",
     "shell.execute_reply": "2021-01-10T18:37:39.267167Z"
    }
   },
   "outputs": [
    {
     "ename": "AttributeError",
     "evalue": "module 'cgi' has no attribute 'escape'",
     "output_type": "error",
     "traceback": [
      "\u001b[0;31m---------------------------------------------------------------------------\u001b[0m",
      "\u001b[0;31mAttributeError\u001b[0m                            Traceback (most recent call last)",
      "\u001b[0;32m~/.local/share/virtualenvs/crypto-monetary-base-xxmj4jsc/lib/python3.9/site-packages/IPython/core/formatters.py\u001b[0m in \u001b[0;36m__call__\u001b[0;34m(self, obj)\u001b[0m\n\u001b[1;32m    343\u001b[0m             \u001b[0mmethod\u001b[0m \u001b[0;34m=\u001b[0m \u001b[0mget_real_method\u001b[0m\u001b[0;34m(\u001b[0m\u001b[0mobj\u001b[0m\u001b[0;34m,\u001b[0m \u001b[0mself\u001b[0m\u001b[0;34m.\u001b[0m\u001b[0mprint_method\u001b[0m\u001b[0;34m)\u001b[0m\u001b[0;34m\u001b[0m\u001b[0;34m\u001b[0m\u001b[0m\n\u001b[1;32m    344\u001b[0m             \u001b[0;32mif\u001b[0m \u001b[0mmethod\u001b[0m \u001b[0;32mis\u001b[0m \u001b[0;32mnot\u001b[0m \u001b[0;32mNone\u001b[0m\u001b[0;34m:\u001b[0m\u001b[0;34m\u001b[0m\u001b[0;34m\u001b[0m\u001b[0m\n\u001b[0;32m--> 345\u001b[0;31m                 \u001b[0;32mreturn\u001b[0m \u001b[0mmethod\u001b[0m\u001b[0;34m(\u001b[0m\u001b[0;34m)\u001b[0m\u001b[0;34m\u001b[0m\u001b[0;34m\u001b[0m\u001b[0m\n\u001b[0m\u001b[1;32m    346\u001b[0m             \u001b[0;32mreturn\u001b[0m \u001b[0;32mNone\u001b[0m\u001b[0;34m\u001b[0m\u001b[0;34m\u001b[0m\u001b[0m\n\u001b[1;32m    347\u001b[0m         \u001b[0;32melse\u001b[0m\u001b[0;34m:\u001b[0m\u001b[0;34m\u001b[0m\u001b[0;34m\u001b[0m\u001b[0m\n",
      "\u001b[0;32m~/.local/share/virtualenvs/crypto-monetary-base-xxmj4jsc/lib/python3.9/site-packages/version_information/version_information.py\u001b[0m in \u001b[0;36m_repr_html_\u001b[0;34m(self)\u001b[0m\n\u001b[1;32m    126\u001b[0m         \u001b[0mhtml\u001b[0m \u001b[0;34m+=\u001b[0m \u001b[0;34m\"<tr><th>Software</th><th>Version</th></tr>\"\u001b[0m\u001b[0;34m\u001b[0m\u001b[0;34m\u001b[0m\u001b[0m\n\u001b[1;32m    127\u001b[0m         \u001b[0;32mfor\u001b[0m \u001b[0mname\u001b[0m\u001b[0;34m,\u001b[0m \u001b[0mversion\u001b[0m \u001b[0;32min\u001b[0m \u001b[0mself\u001b[0m\u001b[0;34m.\u001b[0m\u001b[0mpackages\u001b[0m\u001b[0;34m:\u001b[0m\u001b[0;34m\u001b[0m\u001b[0;34m\u001b[0m\u001b[0m\n\u001b[0;32m--> 128\u001b[0;31m             \u001b[0m_version\u001b[0m \u001b[0;34m=\u001b[0m \u001b[0mcgi\u001b[0m\u001b[0;34m.\u001b[0m\u001b[0mescape\u001b[0m\u001b[0;34m(\u001b[0m\u001b[0mversion\u001b[0m\u001b[0;34m)\u001b[0m\u001b[0;34m\u001b[0m\u001b[0;34m\u001b[0m\u001b[0m\n\u001b[0m\u001b[1;32m    129\u001b[0m             \u001b[0mhtml\u001b[0m \u001b[0;34m+=\u001b[0m \u001b[0;34m\"<tr><td>%s</td><td>%s</td></tr>\"\u001b[0m \u001b[0;34m%\u001b[0m \u001b[0;34m(\u001b[0m\u001b[0mname\u001b[0m\u001b[0;34m,\u001b[0m \u001b[0m_version\u001b[0m\u001b[0;34m)\u001b[0m\u001b[0;34m\u001b[0m\u001b[0;34m\u001b[0m\u001b[0m\n\u001b[1;32m    130\u001b[0m \u001b[0;34m\u001b[0m\u001b[0m\n",
      "\u001b[0;31mAttributeError\u001b[0m: module 'cgi' has no attribute 'escape'"
     ]
    },
    {
     "data": {
      "application/json": {
       "Software versions": [
        {
         "module": "Python",
         "version": "3.9.1 64bit [GCC 5.4.0 20160609]"
        },
        {
         "module": "IPython",
         "version": "7.19.0"
        },
        {
         "module": "OS",
         "version": "Linux 5.8.0 0.bpo.2 amd64 x86_64 with glibc2.28"
        },
        {
         "module": "pandas",
         "version": "1.2.0"
        },
        {
         "module": "matplotlib",
         "version": "3.3.3"
        },
        {
         "module": "seaborn",
         "version": "0.11.1"
        }
       ]
      },
      "text/latex": [
       "\\begin{tabular}{|l|l|}\\hline\n",
       "{\\bf Software} & {\\bf Version} \\\\ \\hline\\hline\n",
       "Python & 3.9.1 64bit [GCC 5.4.0 20160609] \\\\ \\hline\n",
       "IPython & 7.19.0 \\\\ \\hline\n",
       "OS & Linux 5.8.0 0.bpo.2 amd64 x86\\_64 with glibc2.28 \\\\ \\hline\n",
       "pandas & 1.2.0 \\\\ \\hline\n",
       "matplotlib & 3.3.3 \\\\ \\hline\n",
       "seaborn & 0.11.1 \\\\ \\hline\n",
       "\\hline \\multicolumn{2}{|l|}{Sun Jan 10 13:37:39 2021 EST} \\\\ \\hline\n",
       "\\end{tabular}\n"
      ],
      "text/plain": [
       "Software versions\n",
       "Python 3.9.1 64bit [GCC 5.4.0 20160609]\n",
       "IPython 7.19.0\n",
       "OS Linux 5.8.0 0.bpo.2 amd64 x86_64 with glibc2.28\n",
       "pandas 1.2.0\n",
       "matplotlib 3.3.3\n",
       "seaborn 0.11.1\n",
       "Sun Jan 10 13:37:39 2021 EST"
      ]
     },
     "execution_count": 1,
     "metadata": {},
     "output_type": "execute_result"
    }
   ],
   "source": [
    "%load_ext version_information\n",
    "%version_information pandas, matplotlib, seaborn"
   ]
  },
  {
   "cell_type": "markdown",
   "metadata": {},
   "source": [
    "## Supply Curve Calculation"
   ]
  },
  {
   "cell_type": "code",
   "execution_count": 4,
   "metadata": {
    "execution": {
     "iopub.execute_input": "2021-01-10T18:37:39.271513Z",
     "iopub.status.busy": "2021-01-10T18:37:39.271125Z",
     "iopub.status.idle": "2021-01-10T18:37:39.273009Z",
     "shell.execute_reply": "2021-01-10T18:37:39.272643Z"
    }
   },
   "outputs": [],
   "source": [
    "COIN_SYMBOL = 'ETH'"
   ]
  },
  {
   "cell_type": "code",
   "execution_count": 5,
   "metadata": {
    "execution": {
     "iopub.execute_input": "2021-01-10T18:37:39.279492Z",
     "iopub.status.busy": "2021-01-10T18:37:39.279078Z",
     "iopub.status.idle": "2021-01-10T18:37:39.281304Z",
     "shell.execute_reply": "2021-01-10T18:37:39.280742Z"
    }
   },
   "outputs": [],
   "source": [
    "def eth_block_supply_curve(\n",
    "    num_blocks,\n",
    "    premine_amount=(72 * 1e6),\n",
    "    output_granularity=10000,\n",
    "    ):\n",
    "    out = [\n",
    "        # Block num,\n",
    "        # Total supply - Original whitepaper,\n",
    "        # Total supply - Current plan,\n",
    "    ]\n",
    "    \n",
    "    # Get original block reward by \n",
    "    # taking 26% of 60M premine, and\n",
    "    # dividing by 2102400 blocks per\n",
    "    # year (assuming 15 second blocks)\n",
    "    whitepaper_block_reward = 7.42\n",
    "    \n",
    "    # Start \"current plan\" block reward\n",
    "    # as original\n",
    "    current_block_reward = whitepaper_block_reward\n",
    "    \n",
    "    y_1 = premine_amount\n",
    "    y_2 = premine_amount\n",
    "    for block in tqdm_notebook(range(1, num_blocks+1)):\n",
    "        if block == 2700000:\n",
    "            # Adjust to 5 ETH block reward\n",
    "            # quoted in EIP-186\n",
    "            current_block_reward = 5\n",
    "        elif block == 3700000:\n",
    "            # Adjust to 4 ETH block reward\n",
    "            # as per EIP-186\n",
    "            current_block_reward = 4\n",
    "        elif block == 5000000:\n",
    "            # Adjust to 3 ETH block reward\n",
    "            # as per EIP-186\n",
    "            current_block_reward = 3\n",
    "        elif block == 7000000:\n",
    "            # Adjust to 2 ETH block reward\n",
    "            # as per EIP-186\n",
    "            current_block_reward = 2\n",
    "        elif block > 8000000:\n",
    "            # Adjust to 1.5% annual\n",
    "            # ETH block reward for PoS\n",
    "            current_block_reward = (\n",
    "                (y_2 * 0.015) / 2102400\n",
    "            )\n",
    "        \n",
    "        y_1 += whitepaper_block_reward\n",
    "        y_2 += current_block_reward\n",
    "        \n",
    "        if (block-1) % output_granularity == 0:\n",
    "            out.append([block, y_1, y_2])\n",
    "\n",
    "    return out"
   ]
  },
  {
   "cell_type": "code",
   "execution_count": 6,
   "metadata": {
    "execution": {
     "iopub.execute_input": "2021-01-10T18:37:39.289484Z",
     "iopub.status.busy": "2021-01-10T18:37:39.288921Z",
     "iopub.status.idle": "2021-01-10T18:37:39.290919Z",
     "shell.execute_reply": "2021-01-10T18:37:39.291542Z"
    }
   },
   "outputs": [],
   "source": [
    "def datetime_eth_supply_curve(\n",
    "    start_date,\n",
    "    block_time,\n",
    "    block_supply,\n",
    "    output_granularity=10000,\n",
    "    ):\n",
    "    df = pd.DataFrame(\n",
    "        block_supply, columns=['block', 'original_whitepaper', 'current_plan']\n",
    "    )\n",
    "    df['original_whitepaper_pct'] = (\n",
    "        df['original_whitepaper'] / df['original_whitepaper'].values[-1]\n",
    "        * 100\n",
    "    )\n",
    "    df['current_plan_pct'] = (\n",
    "        df['current_plan'] / df['current_plan'].values[-1]\n",
    "        * 100\n",
    "    )\n",
    "    df['date'] = pd.date_range(\n",
    "        start=start_date,\n",
    "        freq=block_time * output_granularity,\n",
    "        periods=len(df)\n",
    "    )\n",
    "    return df"
   ]
  },
  {
   "cell_type": "code",
   "execution_count": 7,
   "metadata": {
    "execution": {
     "iopub.execute_input": "2021-01-10T18:37:39.302023Z",
     "iopub.status.busy": "2021-01-10T18:37:39.301360Z",
     "iopub.status.idle": "2021-01-10T18:37:39.302718Z",
     "shell.execute_reply": "2021-01-10T18:37:39.303276Z"
    }
   },
   "outputs": [],
   "source": [
    "def plot_eth_supply_curve(\n",
    "    supply,\n",
    "    coin_name='ETH',\n",
    "    plot_pct=False,\n",
    "    max_size=10000,\n",
    "    out_name='',\n",
    "    ):\n",
    "    max_size = min((max_size, len(supply)))\n",
    "    step_size = int(len(supply) / max_size)\n",
    "    dates = mpl.dates.date2num(supply.date.values[::step_size])\n",
    "    \n",
    "    # Current plan\n",
    "    if plot_pct:\n",
    "        values = supply.current_plan_pct.values[::step_size]\n",
    "    else:\n",
    "        values = supply.current_plan.values[::step_size]\n",
    "    plt.plot_date(\n",
    "        dates,\n",
    "        values,\n",
    "        fmt='--',\n",
    "        lw=4,\n",
    "        label='current plan',\n",
    "    )\n",
    "    \n",
    "    # Original whitepaper\n",
    "    if plot_pct:\n",
    "        values = supply.original_whitepaper_pct.values[::step_size]\n",
    "    else:\n",
    "        values = supply.original_whitepaper.values[::step_size]\n",
    "    plt.plot_date(\n",
    "        dates,\n",
    "        values,\n",
    "        fmt='-',\n",
    "        lw=4,\n",
    "        label='original whitepaper',\n",
    "        color='orange',\n",
    "    )\n",
    "    \n",
    "    # Plot current date\n",
    "    mask = supply.date > datetime.datetime.now()\n",
    "    current_supply = supply[mask].iloc[0]\n",
    "    dates = mpl.dates.date2num([current_supply.date])\n",
    "    if plot_pct:\n",
    "        values = [current_supply.current_plan_pct]\n",
    "    else:\n",
    "        values = [current_supply.current_plan]\n",
    "    plt.plot(\n",
    "        dates,\n",
    "        values,\n",
    "        'o',\n",
    "        color='black',\n",
    "        ms=6,\n",
    "        label=current_supply.date.strftime('%Y'),\n",
    "    )\n",
    "    \n",
    "    plt.title(\n",
    "        fr'$\\textbf{{{coin_name}}}$ Monetary Base',\n",
    "        y=1.05\n",
    "    )\n",
    "    plt.legend()\n",
    "    \n",
    "    ax = plt.gca()\n",
    "    if plot_pct:\n",
    "        ax.yaxis.set_major_formatter(mpl.ticker.PercentFormatter())\n",
    "    \n",
    "    if not out_name:\n",
    "        out_name = coin_name\n",
    "    plt.savefig(\n",
    "        f'../charts/{out_name}.png',\n",
    "        bbox_inches='tight',\n",
    "        dpi=300\n",
    "    )\n",
    "    return plt"
   ]
  },
  {
   "cell_type": "code",
   "execution_count": 8,
   "metadata": {
    "execution": {
     "iopub.execute_input": "2021-01-10T18:37:39.308037Z",
     "iopub.status.busy": "2021-01-10T18:37:39.307312Z",
     "iopub.status.idle": "2021-01-10T18:40:30.292730Z",
     "shell.execute_reply": "2021-01-10T18:40:30.292021Z"
    }
   },
   "outputs": [
    {
     "name": "stderr",
     "output_type": "stream",
     "text": [
      "<ipython-input-1-609a3550d27d>:24: TqdmDeprecationWarning: This function will be removed in tqdm==5.0.0\n",
      "Please use `tqdm.notebook.tqdm` instead of `tqdm.tqdm_notebook`\n",
      "  for block in tqdm_notebook(range(1, num_blocks+1)):\n"
     ]
    },
    {
     "data": {
      "application/vnd.jupyter.widget-view+json": {
       "model_id": "c93914ccd9aa45eba01b1e03c6f815c6",
       "version_major": 2,
       "version_minor": 0
      },
      "text/plain": [
       "  0%|          | 0/263376000 [00:00<?, ?it/s]"
      ]
     },
     "metadata": {},
     "output_type": "display_data"
    }
   ],
   "source": [
    "start_date = datetime.date(2015, 7, 30)\n",
    "end_date = datetime.date(2140, 10, 7)\n",
    "block_time = datetime.timedelta(seconds=15)\n",
    "\n",
    "num_blocks = int(\n",
    "    ((end_date - start_date).days * 24 * 3600)\n",
    "    / block_time.seconds\n",
    ")\n",
    "\n",
    "block_supply = eth_block_supply_curve(\n",
    "    num_blocks=num_blocks,\n",
    ")\n",
    "\n",
    "supply = datetime_eth_supply_curve(\n",
    "    start_date=start_date,\n",
    "    block_time=block_time,\n",
    "    block_supply=block_supply,\n",
    ")"
   ]
  },
  {
   "cell_type": "code",
   "execution_count": 9,
   "metadata": {
    "execution": {
     "iopub.execute_input": "2021-01-10T18:40:30.296297Z",
     "iopub.status.busy": "2021-01-10T18:40:30.295629Z",
     "iopub.status.idle": "2021-01-10T18:40:30.309833Z",
     "shell.execute_reply": "2021-01-10T18:40:30.310434Z"
    }
   },
   "outputs": [
    {
     "data": {
      "text/html": [
       "<div>\n",
       "<style scoped>\n",
       "    .dataframe tbody tr th:only-of-type {\n",
       "        vertical-align: middle;\n",
       "    }\n",
       "\n",
       "    .dataframe tbody tr th {\n",
       "        vertical-align: top;\n",
       "    }\n",
       "\n",
       "    .dataframe thead th {\n",
       "        text-align: right;\n",
       "    }\n",
       "</style>\n",
       "<table border=\"1\" class=\"dataframe\">\n",
       "  <thead>\n",
       "    <tr style=\"text-align: right;\">\n",
       "      <th></th>\n",
       "      <th>block</th>\n",
       "      <th>original_whitepaper</th>\n",
       "      <th>current_plan</th>\n",
       "      <th>original_whitepaper_pct</th>\n",
       "      <th>current_plan_pct</th>\n",
       "      <th>date</th>\n",
       "    </tr>\n",
       "  </thead>\n",
       "  <tbody>\n",
       "    <tr>\n",
       "      <th>0</th>\n",
       "      <td>1</td>\n",
       "      <td>7.200001e+07</td>\n",
       "      <td>7.200001e+07</td>\n",
       "      <td>3.553441</td>\n",
       "      <td>10.561781</td>\n",
       "      <td>2015-07-30 00:00:00</td>\n",
       "    </tr>\n",
       "    <tr>\n",
       "      <th>1</th>\n",
       "      <td>10001</td>\n",
       "      <td>7.207421e+07</td>\n",
       "      <td>7.207421e+07</td>\n",
       "      <td>3.557103</td>\n",
       "      <td>10.572666</td>\n",
       "      <td>2015-07-31 17:40:00</td>\n",
       "    </tr>\n",
       "    <tr>\n",
       "      <th>2</th>\n",
       "      <td>20001</td>\n",
       "      <td>7.214841e+07</td>\n",
       "      <td>7.214841e+07</td>\n",
       "      <td>3.560765</td>\n",
       "      <td>10.583550</td>\n",
       "      <td>2015-08-02 11:20:00</td>\n",
       "    </tr>\n",
       "    <tr>\n",
       "      <th>3</th>\n",
       "      <td>30001</td>\n",
       "      <td>7.222261e+07</td>\n",
       "      <td>7.222261e+07</td>\n",
       "      <td>3.564427</td>\n",
       "      <td>10.594435</td>\n",
       "      <td>2015-08-04 05:00:00</td>\n",
       "    </tr>\n",
       "    <tr>\n",
       "      <th>4</th>\n",
       "      <td>40001</td>\n",
       "      <td>7.229681e+07</td>\n",
       "      <td>7.229681e+07</td>\n",
       "      <td>3.568089</td>\n",
       "      <td>10.605319</td>\n",
       "      <td>2015-08-05 22:40:00</td>\n",
       "    </tr>\n",
       "  </tbody>\n",
       "</table>\n",
       "</div>"
      ],
      "text/plain": [
       "   block  original_whitepaper  current_plan  original_whitepaper_pct  \\\n",
       "0      1         7.200001e+07  7.200001e+07                 3.553441   \n",
       "1  10001         7.207421e+07  7.207421e+07                 3.557103   \n",
       "2  20001         7.214841e+07  7.214841e+07                 3.560765   \n",
       "3  30001         7.222261e+07  7.222261e+07                 3.564427   \n",
       "4  40001         7.229681e+07  7.229681e+07                 3.568089   \n",
       "\n",
       "   current_plan_pct                date  \n",
       "0         10.561781 2015-07-30 00:00:00  \n",
       "1         10.572666 2015-07-31 17:40:00  \n",
       "2         10.583550 2015-08-02 11:20:00  \n",
       "3         10.594435 2015-08-04 05:00:00  \n",
       "4         10.605319 2015-08-05 22:40:00  "
      ]
     },
     "metadata": {},
     "output_type": "display_data"
    },
    {
     "data": {
      "text/html": [
       "<div>\n",
       "<style scoped>\n",
       "    .dataframe tbody tr th:only-of-type {\n",
       "        vertical-align: middle;\n",
       "    }\n",
       "\n",
       "    .dataframe tbody tr th {\n",
       "        vertical-align: top;\n",
       "    }\n",
       "\n",
       "    .dataframe thead th {\n",
       "        text-align: right;\n",
       "    }\n",
       "</style>\n",
       "<table border=\"1\" class=\"dataframe\">\n",
       "  <thead>\n",
       "    <tr style=\"text-align: right;\">\n",
       "      <th></th>\n",
       "      <th>block</th>\n",
       "      <th>original_whitepaper</th>\n",
       "      <th>current_plan</th>\n",
       "      <th>original_whitepaper_pct</th>\n",
       "      <th>current_plan_pct</th>\n",
       "      <th>date</th>\n",
       "    </tr>\n",
       "  </thead>\n",
       "  <tbody>\n",
       "    <tr>\n",
       "      <th>26333</th>\n",
       "      <td>263330001</td>\n",
       "      <td>2.025909e+09</td>\n",
       "      <td>6.815088e+08</td>\n",
       "      <td>99.985352</td>\n",
       "      <td>99.971465</td>\n",
       "      <td>2140-09-29 00:20:00</td>\n",
       "    </tr>\n",
       "    <tr>\n",
       "      <th>26334</th>\n",
       "      <td>263340001</td>\n",
       "      <td>2.025983e+09</td>\n",
       "      <td>6.815574e+08</td>\n",
       "      <td>99.989014</td>\n",
       "      <td>99.978598</td>\n",
       "      <td>2140-09-30 18:00:00</td>\n",
       "    </tr>\n",
       "    <tr>\n",
       "      <th>26335</th>\n",
       "      <td>263350001</td>\n",
       "      <td>2.026057e+09</td>\n",
       "      <td>6.816060e+08</td>\n",
       "      <td>99.992676</td>\n",
       "      <td>99.985732</td>\n",
       "      <td>2140-10-02 11:40:00</td>\n",
       "    </tr>\n",
       "    <tr>\n",
       "      <th>26336</th>\n",
       "      <td>263360001</td>\n",
       "      <td>2.026131e+09</td>\n",
       "      <td>6.816546e+08</td>\n",
       "      <td>99.996338</td>\n",
       "      <td>99.992866</td>\n",
       "      <td>2140-10-04 05:20:00</td>\n",
       "    </tr>\n",
       "    <tr>\n",
       "      <th>26337</th>\n",
       "      <td>263370001</td>\n",
       "      <td>2.026205e+09</td>\n",
       "      <td>6.817033e+08</td>\n",
       "      <td>100.000000</td>\n",
       "      <td>100.000000</td>\n",
       "      <td>2140-10-05 23:00:00</td>\n",
       "    </tr>\n",
       "  </tbody>\n",
       "</table>\n",
       "</div>"
      ],
      "text/plain": [
       "           block  original_whitepaper  current_plan  original_whitepaper_pct  \\\n",
       "26333  263330001         2.025909e+09  6.815088e+08                99.985352   \n",
       "26334  263340001         2.025983e+09  6.815574e+08                99.989014   \n",
       "26335  263350001         2.026057e+09  6.816060e+08                99.992676   \n",
       "26336  263360001         2.026131e+09  6.816546e+08                99.996338   \n",
       "26337  263370001         2.026205e+09  6.817033e+08               100.000000   \n",
       "\n",
       "       current_plan_pct                date  \n",
       "26333         99.971465 2140-09-29 00:20:00  \n",
       "26334         99.978598 2140-09-30 18:00:00  \n",
       "26335         99.985732 2140-10-02 11:40:00  \n",
       "26336         99.992866 2140-10-04 05:20:00  \n",
       "26337        100.000000 2140-10-05 23:00:00  "
      ]
     },
     "metadata": {},
     "output_type": "display_data"
    }
   ],
   "source": [
    "display(supply.head())\n",
    "display(supply.tail())"
   ]
  },
  {
   "cell_type": "code",
   "execution_count": 10,
   "metadata": {
    "execution": {
     "iopub.execute_input": "2021-01-10T18:40:30.314350Z",
     "iopub.status.busy": "2021-01-10T18:40:30.313512Z",
     "iopub.status.idle": "2021-01-10T18:40:32.341599Z",
     "shell.execute_reply": "2021-01-10T18:40:32.340993Z"
    }
   },
   "outputs": [
    {
     "data": {
      "text/plain": [
       "<module 'matplotlib.pyplot' from '/home/lane/.local/share/virtualenvs/crypto-monetary-base-xxmj4jsc/lib/python3.9/site-packages/matplotlib/pyplot.py'>"
      ]
     },
     "execution_count": 1,
     "metadata": {},
     "output_type": "execute_result"
    },
    {
     "data": {
      "image/png": "[encoded data removed]",
      "text/plain": [
       "<Figure size 432x288 with 1 Axes>"
      ]
     },
     "metadata": {
      "image/png": {
       "height": 277,
       "width": 378
      }
     },
     "output_type": "display_data"
    }
   ],
   "source": [
    "plot_eth_supply_curve(supply);"
   ]
  },
  {
   "cell_type": "code",
   "execution_count": 11,
   "metadata": {
    "execution": {
     "iopub.execute_input": "2021-01-10T18:40:32.345134Z",
     "iopub.status.busy": "2021-01-10T18:40:32.344572Z",
     "iopub.status.idle": "2021-01-10T18:40:32.755765Z",
     "shell.execute_reply": "2021-01-10T18:40:32.755405Z"
    }
   },
   "outputs": [
    {
     "data": {
      "text/plain": [
       "<module 'matplotlib.pyplot' from '/home/lane/.local/share/virtualenvs/crypto-monetary-base-xxmj4jsc/lib/python3.9/site-packages/matplotlib/pyplot.py'>"
      ]
     },
     "execution_count": 1,
     "metadata": {},
     "output_type": "execute_result"
    },
    {
     "data": {
      "image/png": "[encoded data removed]",
      "text/plain": [
       "<Figure size 432x288 with 1 Axes>"
      ]
     },
     "metadata": {
      "image/png": {
       "height": 277,
       "width": 384
      }
     },
     "output_type": "display_data"
    }
   ],
   "source": [
    "plot_eth_supply_curve(supply, plot_pct=True, out_name='ETH_pct');"
   ]
  },
  {
   "cell_type": "code",
   "execution_count": 12,
   "metadata": {
    "execution": {
     "iopub.execute_input": "2021-01-10T18:40:32.758899Z",
     "iopub.status.busy": "2021-01-10T18:40:32.758317Z",
     "iopub.status.idle": "2021-01-10T18:40:33.599109Z",
     "shell.execute_reply": "2021-01-10T18:40:33.599527Z"
    }
   },
   "outputs": [
    {
     "data": {
      "text/plain": [
       "<module 'matplotlib.pyplot' from '/home/lane/.local/share/virtualenvs/crypto-monetary-base-xxmj4jsc/lib/python3.9/site-packages/matplotlib/pyplot.py'>"
      ]
     },
     "execution_count": 1,
     "metadata": {},
     "output_type": "execute_result"
    },
    {
     "data": {
      "image/png": "[encoded data removed]",
      "text/plain": [
       "<Figure size 432x288 with 1 Axes>"
      ]
     },
     "metadata": {
      "image/png": {
       "height": 277,
       "width": 372
      }
     },
     "output_type": "display_data"
    }
   ],
   "source": [
    "mask = supply.date < datetime.datetime(2030, 1, 1)\n",
    "plot_eth_supply_curve(supply[mask], out_name='ETH_zoom');"
   ]
  },
  {
   "cell_type": "markdown",
   "metadata": {},
   "source": [
    "## Standardize Time Series"
   ]
  },
  {
   "cell_type": "code",
   "execution_count": 13,
   "metadata": {
    "execution": {
     "iopub.execute_input": "2021-01-10T18:40:33.603827Z",
     "iopub.status.busy": "2021-01-10T18:40:33.603436Z",
     "iopub.status.idle": "2021-01-10T18:40:33.887608Z",
     "shell.execute_reply": "2021-01-10T18:40:33.888100Z"
    }
   },
   "outputs": [
    {
     "name": "stdout",
     "output_type": "stream",
     "text": [
      "Wrote 6533 lines to file ../output-data/ETH_weekly.csv\n"
     ]
    },
    {
     "data": {
      "text/html": [
       "<div>\n",
       "<style scoped>\n",
       "    .dataframe tbody tr th:only-of-type {\n",
       "        vertical-align: middle;\n",
       "    }\n",
       "\n",
       "    .dataframe tbody tr th {\n",
       "        vertical-align: top;\n",
       "    }\n",
       "\n",
       "    .dataframe thead th {\n",
       "        text-align: right;\n",
       "    }\n",
       "</style>\n",
       "<table border=\"1\" class=\"dataframe\">\n",
       "  <thead>\n",
       "    <tr style=\"text-align: right;\">\n",
       "      <th></th>\n",
       "      <th>coin</th>\n",
       "      <th>block</th>\n",
       "      <th>original_whitepaper</th>\n",
       "      <th>current_plan</th>\n",
       "      <th>original_whitepaper_pct</th>\n",
       "      <th>current_plan_pct</th>\n",
       "      <th>date</th>\n",
       "    </tr>\n",
       "  </thead>\n",
       "  <tbody>\n",
       "    <tr>\n",
       "      <th>0</th>\n",
       "      <td>ETH</td>\n",
       "      <td>1</td>\n",
       "      <td>7.200001e+07</td>\n",
       "      <td>7.200001e+07</td>\n",
       "      <td>3.553441</td>\n",
       "      <td>10.561781</td>\n",
       "      <td>2015-07-01</td>\n",
       "    </tr>\n",
       "    <tr>\n",
       "      <th>1</th>\n",
       "      <td>ETH</td>\n",
       "      <td>30001</td>\n",
       "      <td>7.222261e+07</td>\n",
       "      <td>7.222261e+07</td>\n",
       "      <td>3.564427</td>\n",
       "      <td>10.594435</td>\n",
       "      <td>2015-08-01</td>\n",
       "    </tr>\n",
       "    <tr>\n",
       "      <th>2</th>\n",
       "      <td>ETH</td>\n",
       "      <td>70001</td>\n",
       "      <td>7.251941e+07</td>\n",
       "      <td>7.251941e+07</td>\n",
       "      <td>3.579075</td>\n",
       "      <td>10.637973</td>\n",
       "      <td>2015-08-01</td>\n",
       "    </tr>\n",
       "    <tr>\n",
       "      <th>3</th>\n",
       "      <td>ETH</td>\n",
       "      <td>110001</td>\n",
       "      <td>7.281621e+07</td>\n",
       "      <td>7.281621e+07</td>\n",
       "      <td>3.593723</td>\n",
       "      <td>10.681511</td>\n",
       "      <td>2015-08-01</td>\n",
       "    </tr>\n",
       "    <tr>\n",
       "      <th>4</th>\n",
       "      <td>ETH</td>\n",
       "      <td>150001</td>\n",
       "      <td>7.311301e+07</td>\n",
       "      <td>7.311301e+07</td>\n",
       "      <td>3.608371</td>\n",
       "      <td>10.725049</td>\n",
       "      <td>2015-08-01</td>\n",
       "    </tr>\n",
       "  </tbody>\n",
       "</table>\n",
       "</div>"
      ],
      "text/plain": [
       "  coin   block  original_whitepaper  current_plan  original_whitepaper_pct  \\\n",
       "0  ETH       1         7.200001e+07  7.200001e+07                 3.553441   \n",
       "1  ETH   30001         7.222261e+07  7.222261e+07                 3.564427   \n",
       "2  ETH   70001         7.251941e+07  7.251941e+07                 3.579075   \n",
       "3  ETH  110001         7.281621e+07  7.281621e+07                 3.593723   \n",
       "4  ETH  150001         7.311301e+07  7.311301e+07                 3.608371   \n",
       "\n",
       "   current_plan_pct        date  \n",
       "0         10.561781  2015-07-01  \n",
       "1         10.594435  2015-08-01  \n",
       "2         10.637973  2015-08-01  \n",
       "3         10.681511  2015-08-01  \n",
       "4         10.725049  2015-08-01  "
      ]
     },
     "metadata": {},
     "output_type": "display_data"
    },
    {
     "data": {
      "text/html": [
       "<div>\n",
       "<style scoped>\n",
       "    .dataframe tbody tr th:only-of-type {\n",
       "        vertical-align: middle;\n",
       "    }\n",
       "\n",
       "    .dataframe tbody tr th {\n",
       "        vertical-align: top;\n",
       "    }\n",
       "\n",
       "    .dataframe thead th {\n",
       "        text-align: right;\n",
       "    }\n",
       "</style>\n",
       "<table border=\"1\" class=\"dataframe\">\n",
       "  <thead>\n",
       "    <tr style=\"text-align: right;\">\n",
       "      <th></th>\n",
       "      <th>coin</th>\n",
       "      <th>block</th>\n",
       "      <th>original_whitepaper</th>\n",
       "      <th>current_plan</th>\n",
       "      <th>original_whitepaper_pct</th>\n",
       "      <th>current_plan_pct</th>\n",
       "      <th>date</th>\n",
       "    </tr>\n",
       "  </thead>\n",
       "  <tbody>\n",
       "    <tr>\n",
       "      <th>6528</th>\n",
       "      <td>ETH</td>\n",
       "      <td>263200001</td>\n",
       "      <td>2.024944e+09</td>\n",
       "      <td>6.808769e+08</td>\n",
       "      <td>99.937746</td>\n",
       "      <td>99.878784</td>\n",
       "      <td>2140-09-01</td>\n",
       "    </tr>\n",
       "    <tr>\n",
       "      <th>6529</th>\n",
       "      <td>ETH</td>\n",
       "      <td>263240001</td>\n",
       "      <td>2.025241e+09</td>\n",
       "      <td>6.810713e+08</td>\n",
       "      <td>99.952394</td>\n",
       "      <td>99.907292</td>\n",
       "      <td>2140-09-01</td>\n",
       "    </tr>\n",
       "    <tr>\n",
       "      <th>6530</th>\n",
       "      <td>ETH</td>\n",
       "      <td>263280001</td>\n",
       "      <td>2.025538e+09</td>\n",
       "      <td>6.812657e+08</td>\n",
       "      <td>99.967042</td>\n",
       "      <td>99.935808</td>\n",
       "      <td>2140-09-01</td>\n",
       "    </tr>\n",
       "    <tr>\n",
       "      <th>6531</th>\n",
       "      <td>ETH</td>\n",
       "      <td>263320001</td>\n",
       "      <td>2.025834e+09</td>\n",
       "      <td>6.814601e+08</td>\n",
       "      <td>99.981690</td>\n",
       "      <td>99.964333</td>\n",
       "      <td>2140-09-01</td>\n",
       "    </tr>\n",
       "    <tr>\n",
       "      <th>6532</th>\n",
       "      <td>ETH</td>\n",
       "      <td>263360001</td>\n",
       "      <td>2.026131e+09</td>\n",
       "      <td>6.816546e+08</td>\n",
       "      <td>99.996338</td>\n",
       "      <td>99.992866</td>\n",
       "      <td>2140-10-01</td>\n",
       "    </tr>\n",
       "  </tbody>\n",
       "</table>\n",
       "</div>"
      ],
      "text/plain": [
       "     coin      block  original_whitepaper  current_plan  \\\n",
       "6528  ETH  263200001         2.024944e+09  6.808769e+08   \n",
       "6529  ETH  263240001         2.025241e+09  6.810713e+08   \n",
       "6530  ETH  263280001         2.025538e+09  6.812657e+08   \n",
       "6531  ETH  263320001         2.025834e+09  6.814601e+08   \n",
       "6532  ETH  263360001         2.026131e+09  6.816546e+08   \n",
       "\n",
       "      original_whitepaper_pct  current_plan_pct        date  \n",
       "6528                99.937746         99.878784  2140-09-01  \n",
       "6529                99.952394         99.907292  2140-09-01  \n",
       "6530                99.967042         99.935808  2140-09-01  \n",
       "6531                99.981690         99.964333  2140-09-01  \n",
       "6532                99.996338         99.992866  2140-10-01  "
      ]
     },
     "metadata": {},
     "output_type": "display_data"
    }
   ],
   "source": [
    "weekly_supply = cmb.transform_supply(supply, COIN_SYMBOL, freq='weekly')\n",
    "\n",
    "display(weekly_supply.head())\n",
    "display(weekly_supply.tail())"
   ]
  },
  {
   "cell_type": "code",
   "execution_count": 14,
   "metadata": {
    "execution": {
     "iopub.execute_input": "2021-01-10T18:40:33.891502Z",
     "iopub.status.busy": "2021-01-10T18:40:33.890816Z",
     "iopub.status.idle": "2021-01-10T18:40:33.961073Z",
     "shell.execute_reply": "2021-01-10T18:40:33.961444Z"
    }
   },
   "outputs": [
    {
     "name": "stdout",
     "output_type": "stream",
     "text": [
      "Wrote 1504 lines to file ../output-data/ETH_monthly.csv\n"
     ]
    },
    {
     "data": {
      "text/html": [
       "<div>\n",
       "<style scoped>\n",
       "    .dataframe tbody tr th:only-of-type {\n",
       "        vertical-align: middle;\n",
       "    }\n",
       "\n",
       "    .dataframe tbody tr th {\n",
       "        vertical-align: top;\n",
       "    }\n",
       "\n",
       "    .dataframe thead th {\n",
       "        text-align: right;\n",
       "    }\n",
       "</style>\n",
       "<table border=\"1\" class=\"dataframe\">\n",
       "  <thead>\n",
       "    <tr style=\"text-align: right;\">\n",
       "      <th></th>\n",
       "      <th>coin</th>\n",
       "      <th>block</th>\n",
       "      <th>original_whitepaper</th>\n",
       "      <th>current_plan</th>\n",
       "      <th>original_whitepaper_pct</th>\n",
       "      <th>current_plan_pct</th>\n",
       "      <th>date</th>\n",
       "    </tr>\n",
       "  </thead>\n",
       "  <tbody>\n",
       "    <tr>\n",
       "      <th>0</th>\n",
       "      <td>ETH</td>\n",
       "      <td>1</td>\n",
       "      <td>7.200001e+07</td>\n",
       "      <td>7.200001e+07</td>\n",
       "      <td>3.553441</td>\n",
       "      <td>10.561781</td>\n",
       "      <td>2015-07-01</td>\n",
       "    </tr>\n",
       "    <tr>\n",
       "      <th>1</th>\n",
       "      <td>ETH</td>\n",
       "      <td>20001</td>\n",
       "      <td>7.214841e+07</td>\n",
       "      <td>7.214841e+07</td>\n",
       "      <td>3.560765</td>\n",
       "      <td>10.583550</td>\n",
       "      <td>2015-08-01</td>\n",
       "    </tr>\n",
       "    <tr>\n",
       "      <th>2</th>\n",
       "      <td>ETH</td>\n",
       "      <td>200001</td>\n",
       "      <td>7.348401e+07</td>\n",
       "      <td>7.348401e+07</td>\n",
       "      <td>3.626681</td>\n",
       "      <td>10.779471</td>\n",
       "      <td>2015-09-01</td>\n",
       "    </tr>\n",
       "    <tr>\n",
       "      <th>3</th>\n",
       "      <td>ETH</td>\n",
       "      <td>370001</td>\n",
       "      <td>7.474541e+07</td>\n",
       "      <td>7.474541e+07</td>\n",
       "      <td>3.688935</td>\n",
       "      <td>10.964508</td>\n",
       "      <td>2015-10-01</td>\n",
       "    </tr>\n",
       "    <tr>\n",
       "      <th>4</th>\n",
       "      <td>ETH</td>\n",
       "      <td>550001</td>\n",
       "      <td>7.608101e+07</td>\n",
       "      <td>7.608101e+07</td>\n",
       "      <td>3.754852</td>\n",
       "      <td>11.160429</td>\n",
       "      <td>2015-11-01</td>\n",
       "    </tr>\n",
       "  </tbody>\n",
       "</table>\n",
       "</div>"
      ],
      "text/plain": [
       "  coin   block  original_whitepaper  current_plan  original_whitepaper_pct  \\\n",
       "0  ETH       1         7.200001e+07  7.200001e+07                 3.553441   \n",
       "1  ETH   20001         7.214841e+07  7.214841e+07                 3.560765   \n",
       "2  ETH  200001         7.348401e+07  7.348401e+07                 3.626681   \n",
       "3  ETH  370001         7.474541e+07  7.474541e+07                 3.688935   \n",
       "4  ETH  550001         7.608101e+07  7.608101e+07                 3.754852   \n",
       "\n",
       "   current_plan_pct        date  \n",
       "0         10.561781  2015-07-01  \n",
       "1         10.583550  2015-08-01  \n",
       "2         10.779471  2015-09-01  \n",
       "3         10.964508  2015-10-01  \n",
       "4         11.160429  2015-11-01  "
      ]
     },
     "metadata": {},
     "output_type": "display_data"
    },
    {
     "data": {
      "text/html": [
       "<div>\n",
       "<style scoped>\n",
       "    .dataframe tbody tr th:only-of-type {\n",
       "        vertical-align: middle;\n",
       "    }\n",
       "\n",
       "    .dataframe tbody tr th {\n",
       "        vertical-align: top;\n",
       "    }\n",
       "\n",
       "    .dataframe thead th {\n",
       "        text-align: right;\n",
       "    }\n",
       "</style>\n",
       "<table border=\"1\" class=\"dataframe\">\n",
       "  <thead>\n",
       "    <tr style=\"text-align: right;\">\n",
       "      <th></th>\n",
       "      <th>coin</th>\n",
       "      <th>block</th>\n",
       "      <th>original_whitepaper</th>\n",
       "      <th>current_plan</th>\n",
       "      <th>original_whitepaper_pct</th>\n",
       "      <th>current_plan_pct</th>\n",
       "      <th>date</th>\n",
       "    </tr>\n",
       "  </thead>\n",
       "  <tbody>\n",
       "    <tr>\n",
       "      <th>1499</th>\n",
       "      <td>ETH</td>\n",
       "      <td>262640001</td>\n",
       "      <td>2.020789e+09</td>\n",
       "      <td>6.781620e+08</td>\n",
       "      <td>99.732673</td>\n",
       "      <td>99.480521</td>\n",
       "      <td>2140-06-01</td>\n",
       "    </tr>\n",
       "    <tr>\n",
       "      <th>1500</th>\n",
       "      <td>ETH</td>\n",
       "      <td>262820001</td>\n",
       "      <td>2.022124e+09</td>\n",
       "      <td>6.790335e+08</td>\n",
       "      <td>99.798589</td>\n",
       "      <td>99.608360</td>\n",
       "      <td>2140-07-01</td>\n",
       "    </tr>\n",
       "    <tr>\n",
       "      <th>1501</th>\n",
       "      <td>ETH</td>\n",
       "      <td>263000001</td>\n",
       "      <td>2.023460e+09</td>\n",
       "      <td>6.799061e+08</td>\n",
       "      <td>99.864505</td>\n",
       "      <td>99.736364</td>\n",
       "      <td>2140-08-01</td>\n",
       "    </tr>\n",
       "    <tr>\n",
       "      <th>1502</th>\n",
       "      <td>ETH</td>\n",
       "      <td>263170001</td>\n",
       "      <td>2.024721e+09</td>\n",
       "      <td>6.807312e+08</td>\n",
       "      <td>99.926760</td>\n",
       "      <td>99.857408</td>\n",
       "      <td>2140-09-01</td>\n",
       "    </tr>\n",
       "    <tr>\n",
       "      <th>1503</th>\n",
       "      <td>ETH</td>\n",
       "      <td>263350001</td>\n",
       "      <td>2.026057e+09</td>\n",
       "      <td>6.816060e+08</td>\n",
       "      <td>99.992676</td>\n",
       "      <td>99.985732</td>\n",
       "      <td>2140-10-01</td>\n",
       "    </tr>\n",
       "  </tbody>\n",
       "</table>\n",
       "</div>"
      ],
      "text/plain": [
       "     coin      block  original_whitepaper  current_plan  \\\n",
       "1499  ETH  262640001         2.020789e+09  6.781620e+08   \n",
       "1500  ETH  262820001         2.022124e+09  6.790335e+08   \n",
       "1501  ETH  263000001         2.023460e+09  6.799061e+08   \n",
       "1502  ETH  263170001         2.024721e+09  6.807312e+08   \n",
       "1503  ETH  263350001         2.026057e+09  6.816060e+08   \n",
       "\n",
       "      original_whitepaper_pct  current_plan_pct        date  \n",
       "1499                99.732673         99.480521  2140-06-01  \n",
       "1500                99.798589         99.608360  2140-07-01  \n",
       "1501                99.864505         99.736364  2140-08-01  \n",
       "1502                99.926760         99.857408  2140-09-01  \n",
       "1503                99.992676         99.985732  2140-10-01  "
      ]
     },
     "metadata": {},
     "output_type": "display_data"
    }
   ],
   "source": [
    "monthly_supply = cmb.transform_supply(supply, COIN_SYMBOL, freq='monthly')\n",
    "\n",
    "display(monthly_supply.head())\n",
    "display(monthly_supply.tail())"
   ]
  },
  {
   "cell_type": "code",
   "execution_count": 15,
   "metadata": {
    "execution": {
     "iopub.execute_input": "2021-01-10T18:40:33.965047Z",
     "iopub.status.busy": "2021-01-10T18:40:33.964670Z",
     "iopub.status.idle": "2021-01-10T18:40:33.993631Z",
     "shell.execute_reply": "2021-01-10T18:40:33.994117Z"
    }
   },
   "outputs": [
    {
     "name": "stdout",
     "output_type": "stream",
     "text": [
      "Wrote 126 lines to file ../output-data/ETH_yearly.csv\n"
     ]
    },
    {
     "data": {
      "text/html": [
       "<div>\n",
       "<style scoped>\n",
       "    .dataframe tbody tr th:only-of-type {\n",
       "        vertical-align: middle;\n",
       "    }\n",
       "\n",
       "    .dataframe tbody tr th {\n",
       "        vertical-align: top;\n",
       "    }\n",
       "\n",
       "    .dataframe thead th {\n",
       "        text-align: right;\n",
       "    }\n",
       "</style>\n",
       "<table border=\"1\" class=\"dataframe\">\n",
       "  <thead>\n",
       "    <tr style=\"text-align: right;\">\n",
       "      <th></th>\n",
       "      <th>coin</th>\n",
       "      <th>block</th>\n",
       "      <th>original_whitepaper</th>\n",
       "      <th>current_plan</th>\n",
       "      <th>original_whitepaper_pct</th>\n",
       "      <th>current_plan_pct</th>\n",
       "      <th>date</th>\n",
       "    </tr>\n",
       "  </thead>\n",
       "  <tbody>\n",
       "    <tr>\n",
       "      <th>0</th>\n",
       "      <td>ETH</td>\n",
       "      <td>1</td>\n",
       "      <td>7.200001e+07</td>\n",
       "      <td>7.200001e+07</td>\n",
       "      <td>3.553441</td>\n",
       "      <td>10.561781</td>\n",
       "      <td>2015-07-01</td>\n",
       "    </tr>\n",
       "    <tr>\n",
       "      <th>1</th>\n",
       "      <td>ETH</td>\n",
       "      <td>900001</td>\n",
       "      <td>7.867801e+07</td>\n",
       "      <td>7.867801e+07</td>\n",
       "      <td>3.883022</td>\n",
       "      <td>11.541386</td>\n",
       "      <td>2016-01-01</td>\n",
       "    </tr>\n",
       "    <tr>\n",
       "      <th>2</th>\n",
       "      <td>ETH</td>\n",
       "      <td>3010001</td>\n",
       "      <td>9.433421e+07</td>\n",
       "      <td>9.358400e+07</td>\n",
       "      <td>4.655708</td>\n",
       "      <td>13.727967</td>\n",
       "      <td>2017-01-01</td>\n",
       "    </tr>\n",
       "    <tr>\n",
       "      <th>3</th>\n",
       "      <td>ETH</td>\n",
       "      <td>5110001</td>\n",
       "      <td>1.099162e+08</td>\n",
       "      <td>1.025640e+08</td>\n",
       "      <td>5.424732</td>\n",
       "      <td>15.045255</td>\n",
       "      <td>2018-01-01</td>\n",
       "    </tr>\n",
       "    <tr>\n",
       "      <th>4</th>\n",
       "      <td>ETH</td>\n",
       "      <td>7210001</td>\n",
       "      <td>1.254982e+08</td>\n",
       "      <td>1.086540e+08</td>\n",
       "      <td>6.193755</td>\n",
       "      <td>15.938606</td>\n",
       "      <td>2019-01-01</td>\n",
       "    </tr>\n",
       "  </tbody>\n",
       "</table>\n",
       "</div>"
      ],
      "text/plain": [
       "  coin    block  original_whitepaper  current_plan  original_whitepaper_pct  \\\n",
       "0  ETH        1         7.200001e+07  7.200001e+07                 3.553441   \n",
       "1  ETH   900001         7.867801e+07  7.867801e+07                 3.883022   \n",
       "2  ETH  3010001         9.433421e+07  9.358400e+07                 4.655708   \n",
       "3  ETH  5110001         1.099162e+08  1.025640e+08                 5.424732   \n",
       "4  ETH  7210001         1.254982e+08  1.086540e+08                 6.193755   \n",
       "\n",
       "   current_plan_pct        date  \n",
       "0         10.561781  2015-07-01  \n",
       "1         11.541386  2016-01-01  \n",
       "2         13.727967  2017-01-01  \n",
       "3         15.045255  2018-01-01  \n",
       "4         15.938606  2019-01-01  "
      ]
     },
     "metadata": {},
     "output_type": "display_data"
    },
    {
     "data": {
      "text/html": [
       "<div>\n",
       "<style scoped>\n",
       "    .dataframe tbody tr th:only-of-type {\n",
       "        vertical-align: middle;\n",
       "    }\n",
       "\n",
       "    .dataframe tbody tr th {\n",
       "        vertical-align: top;\n",
       "    }\n",
       "\n",
       "    .dataframe thead th {\n",
       "        text-align: right;\n",
       "    }\n",
       "</style>\n",
       "<table border=\"1\" class=\"dataframe\">\n",
       "  <thead>\n",
       "    <tr style=\"text-align: right;\">\n",
       "      <th></th>\n",
       "      <th>coin</th>\n",
       "      <th>block</th>\n",
       "      <th>original_whitepaper</th>\n",
       "      <th>current_plan</th>\n",
       "      <th>original_whitepaper_pct</th>\n",
       "      <th>current_plan_pct</th>\n",
       "      <th>date</th>\n",
       "    </tr>\n",
       "  </thead>\n",
       "  <tbody>\n",
       "    <tr>\n",
       "      <th>121</th>\n",
       "      <td>ETH</td>\n",
       "      <td>253350001</td>\n",
       "      <td>1.951857e+09</td>\n",
       "      <td>6.346697e+08</td>\n",
       "      <td>96.330658</td>\n",
       "      <td>93.100584</td>\n",
       "      <td>2136-01-01</td>\n",
       "    </tr>\n",
       "    <tr>\n",
       "      <th>122</th>\n",
       "      <td>ETH</td>\n",
       "      <td>255460001</td>\n",
       "      <td>1.967513e+09</td>\n",
       "      <td>6.442965e+08</td>\n",
       "      <td>97.103344</td>\n",
       "      <td>94.512744</td>\n",
       "      <td>2137-01-01</td>\n",
       "    </tr>\n",
       "    <tr>\n",
       "      <th>123</th>\n",
       "      <td>ETH</td>\n",
       "      <td>257560001</td>\n",
       "      <td>1.983095e+09</td>\n",
       "      <td>6.540226e+08</td>\n",
       "      <td>97.872368</td>\n",
       "      <td>95.939479</td>\n",
       "      <td>2138-01-01</td>\n",
       "    </tr>\n",
       "    <tr>\n",
       "      <th>124</th>\n",
       "      <td>ETH</td>\n",
       "      <td>259670001</td>\n",
       "      <td>1.998751e+09</td>\n",
       "      <td>6.639429e+08</td>\n",
       "      <td>98.645053</td>\n",
       "      <td>97.394699</td>\n",
       "      <td>2139-01-01</td>\n",
       "    </tr>\n",
       "    <tr>\n",
       "      <th>125</th>\n",
       "      <td>ETH</td>\n",
       "      <td>261770001</td>\n",
       "      <td>2.014333e+09</td>\n",
       "      <td>6.739655e+08</td>\n",
       "      <td>99.414077</td>\n",
       "      <td>98.864938</td>\n",
       "      <td>2140-01-01</td>\n",
       "    </tr>\n",
       "  </tbody>\n",
       "</table>\n",
       "</div>"
      ],
      "text/plain": [
       "    coin      block  original_whitepaper  current_plan  \\\n",
       "121  ETH  253350001         1.951857e+09  6.346697e+08   \n",
       "122  ETH  255460001         1.967513e+09  6.442965e+08   \n",
       "123  ETH  257560001         1.983095e+09  6.540226e+08   \n",
       "124  ETH  259670001         1.998751e+09  6.639429e+08   \n",
       "125  ETH  261770001         2.014333e+09  6.739655e+08   \n",
       "\n",
       "     original_whitepaper_pct  current_plan_pct        date  \n",
       "121                96.330658         93.100584  2136-01-01  \n",
       "122                97.103344         94.512744  2137-01-01  \n",
       "123                97.872368         95.939479  2138-01-01  \n",
       "124                98.645053         97.394699  2139-01-01  \n",
       "125                99.414077         98.864938  2140-01-01  "
      ]
     },
     "metadata": {},
     "output_type": "display_data"
    }
   ],
   "source": [
    "yearly_supply = cmb.transform_supply(supply, COIN_SYMBOL, freq='yearly')\n",
    "\n",
    "display(yearly_supply.head())\n",
    "display(yearly_supply.tail())"
   ]
  },
  {
   "cell_type": "code",
   "execution_count": null,
   "metadata": {},
   "outputs": [],
   "source": []
  }
 ],
 "metadata": {
  "kernelspec": {
   "display_name": "Python 3",
   "language": "python",
   "name": "python3"
  },
  "language_info": {
   "codemirror_mode": {
    "name": "ipython",
    "version": 3
   },
   "file_extension": ".py",
   "mimetype": "text/x-python",
   "name": "python",
   "nbconvert_exporter": "python",
   "pygments_lexer": "ipython3",
   "version": "3.8.6"
  },
  "toc": {
   "base_numbering": 1,
   "nav_menu": {},
   "number_sections": true,
   "sideBar": true,
   "skip_h1_title": false,
   "title_cell": "Table of Contents",
   "title_sidebar": "Contents",
   "toc_cell": false,
   "toc_position": {},
   "toc_section_display": true,
   "toc_window_display": false
  },
  "widgets": {
   "application/vnd.jupyter.widget-state+json": {
    "state": {
     "1a1d2c3fc45f4875bedac7d2b7aa98b2": {
      "model_module": "@jupyter-widgets/controls",
      "model_module_version": "1.5.0",
      "model_name": "ProgressStyleModel",
      "state": {
       "_model_module": "@jupyter-widgets/controls",
       "_model_module_version": "1.5.0",
       "_model_name": "ProgressStyleModel",
       "_view_count": null,
       "_view_module": "@jupyter-widgets/base",
       "_view_module_version": "1.2.0",
       "_view_name": "StyleView",
       "bar_color": null,
       "description_width": ""
      }
     },
     "4b4cb8d9010742f7b5d0c7f016c104d0": {
      "model_module": "@jupyter-widgets/controls",
      "model_module_version": "1.5.0",
      "model_name": "DescriptionStyleModel",
      "state": {
       "_model_module": "@jupyter-widgets/controls",
       "_model_module_version": "1.5.0",
       "_model_name": "DescriptionStyleModel",
       "_view_count": null,
       "_view_module": "@jupyter-widgets/base",
       "_view_module_version": "1.2.0",
       "_view_name": "StyleView",
       "description_width": ""
      }
     },
     "5fba29a448674d03b581e45c0caa2ac6": {
      "model_module": "@jupyter-widgets/base",
      "model_module_version": "1.2.0",
      "model_name": "LayoutModel",
      "state": {
       "_model_module": "@jupyter-widgets/base",
       "_model_module_version": "1.2.0",
       "_model_name": "LayoutModel",
       "_view_count": null,
       "_view_module": "@jupyter-widgets/base",
       "_view_module_version": "1.2.0",
       "_view_name": "LayoutView",
       "align_content": null,
       "align_items": null,
       "align_self": null,
       "border": null,
       "bottom": null,
       "display": null,
       "flex": null,
       "flex_flow": null,
       "grid_area": null,
       "grid_auto_columns": null,
       "grid_auto_flow": null,
       "grid_auto_rows": null,
       "grid_column": null,
       "grid_gap": null,
       "grid_row": null,
       "grid_template_areas": null,
       "grid_template_columns": null,
       "grid_template_rows": null,
       "height": null,
       "justify_content": null,
       "justify_items": null,
       "left": null,
       "margin": null,
       "max_height": null,
       "max_width": null,
       "min_height": null,
       "min_width": null,
       "object_fit": null,
       "object_position": null,
       "order": null,
       "overflow": null,
       "overflow_x": null,
       "overflow_y": null,
       "padding": null,
       "right": null,
       "top": null,
       "visibility": null,
       "width": null
      }
     },
     "6ee2b683bcbd4567a1597ec069627367": {
      "model_module": "@jupyter-widgets/controls",
      "model_module_version": "1.5.0",
      "model_name": "FloatProgressModel",
      "state": {
       "_dom_classes": [],
       "_model_module": "@jupyter-widgets/controls",
       "_model_module_version": "1.5.0",
       "_model_name": "FloatProgressModel",
       "_view_count": null,
       "_view_module": "@jupyter-widgets/controls",
       "_view_module_version": "1.5.0",
       "_view_name": "ProgressView",
       "bar_style": "success",
       "description": "",
       "description_tooltip": null,
       "layout": "IPY_MODEL_5fba29a448674d03b581e45c0caa2ac6",
       "max": 263376000,
       "min": 0,
       "orientation": "horizontal",
       "style": "IPY_MODEL_1a1d2c3fc45f4875bedac7d2b7aa98b2",
       "value": 263376000
      }
     },
     "8980146717c24edc85a082c5aa76664e": {
      "model_module": "@jupyter-widgets/controls",
      "model_module_version": "1.5.0",
      "model_name": "HTMLModel",
      "state": {
       "_dom_classes": [],
       "_model_module": "@jupyter-widgets/controls",
       "_model_module_version": "1.5.0",
       "_model_name": "HTMLModel",
       "_view_count": null,
       "_view_module": "@jupyter-widgets/controls",
       "_view_module_version": "1.5.0",
       "_view_name": "HTMLView",
       "description": "",
       "description_tooltip": null,
       "layout": "IPY_MODEL_8ca8868b4df542279985091bb72c49e6",
       "placeholder": "​",
       "style": "IPY_MODEL_9240646e3c48415a9ab4a94e0f6af65f",
       "value": " 263376000/263376000 [02:50&lt;00:00, 1579222.44it/s]"
      }
     },
     "8ca8868b4df542279985091bb72c49e6": {
      "model_module": "@jupyter-widgets/base",
      "model_module_version": "1.2.0",
      "model_name": "LayoutModel",
      "state": {
       "_model_module": "@jupyter-widgets/base",
       "_model_module_version": "1.2.0",
       "_model_name": "LayoutModel",
       "_view_count": null,
       "_view_module": "@jupyter-widgets/base",
       "_view_module_version": "1.2.0",
       "_view_name": "LayoutView",
       "align_content": null,
       "align_items": null,
       "align_self": null,
       "border": null,
       "bottom": null,
       "display": null,
       "flex": null,
       "flex_flow": null,
       "grid_area": null,
       "grid_auto_columns": null,
       "grid_auto_flow": null,
       "grid_auto_rows": null,
       "grid_column": null,
       "grid_gap": null,
       "grid_row": null,
       "grid_template_areas": null,
       "grid_template_columns": null,
       "grid_template_rows": null,
       "height": null,
       "justify_content": null,
       "justify_items": null,
       "left": null,
       "margin": null,
       "max_height": null,
       "max_width": null,
       "min_height": null,
       "min_width": null,
       "object_fit": null,
       "object_position": null,
       "order": null,
       "overflow": null,
       "overflow_x": null,
       "overflow_y": null,
       "padding": null,
       "right": null,
       "top": null,
       "visibility": null,
       "width": null
      }
     },
     "9240646e3c48415a9ab4a94e0f6af65f": {
      "model_module": "@jupyter-widgets/controls",
      "model_module_version": "1.5.0",
      "model_name": "DescriptionStyleModel",
      "state": {
       "_model_module": "@jupyter-widgets/controls",
       "_model_module_version": "1.5.0",
       "_model_name": "DescriptionStyleModel",
       "_view_count": null,
       "_view_module": "@jupyter-widgets/base",
       "_view_module_version": "1.2.0",
       "_view_name": "StyleView",
       "description_width": ""
      }
     },
     "b51d7ad233bf4b32aab1da693c3a6fec": {
      "model_module": "@jupyter-widgets/controls",
      "model_module_version": "1.5.0",
      "model_name": "HTMLModel",
      "state": {
       "_dom_classes": [],
       "_model_module": "@jupyter-widgets/controls",
       "_model_module_version": "1.5.0",
       "_model_name": "HTMLModel",
       "_view_count": null,
       "_view_module": "@jupyter-widgets/controls",
       "_view_module_version": "1.5.0",
       "_view_name": "HTMLView",
       "description": "",
       "description_tooltip": null,
       "layout": "IPY_MODEL_fb3bce31e5904f63913fcc3368678591",
       "placeholder": "​",
       "style": "IPY_MODEL_4b4cb8d9010742f7b5d0c7f016c104d0",
       "value": "100%"
      }
     },
     "c93914ccd9aa45eba01b1e03c6f815c6": {
      "model_module": "@jupyter-widgets/controls",
      "model_module_version": "1.5.0",
      "model_name": "HBoxModel",
      "state": {
       "_dom_classes": [],
       "_model_module": "@jupyter-widgets/controls",
       "_model_module_version": "1.5.0",
       "_model_name": "HBoxModel",
       "_view_count": null,
       "_view_module": "@jupyter-widgets/controls",
       "_view_module_version": "1.5.0",
       "_view_name": "HBoxView",
       "box_style": "",
       "children": [
        "IPY_MODEL_b51d7ad233bf4b32aab1da693c3a6fec",
        "IPY_MODEL_6ee2b683bcbd4567a1597ec069627367",
        "IPY_MODEL_8980146717c24edc85a082c5aa76664e"
       ],
       "layout": "IPY_MODEL_fc90f310a00c4542ae1376935d9bb94e"
      }
     },
     "fb3bce31e5904f63913fcc3368678591": {
      "model_module": "@jupyter-widgets/base",
      "model_module_version": "1.2.0",
      "model_name": "LayoutModel",
      "state": {
       "_model_module": "@jupyter-widgets/base",
       "_model_module_version": "1.2.0",
       "_model_name": "LayoutModel",
       "_view_count": null,
       "_view_module": "@jupyter-widgets/base",
       "_view_module_version": "1.2.0",
       "_view_name": "LayoutView",
       "align_content": null,
       "align_items": null,
       "align_self": null,
       "border": null,
       "bottom": null,
       "display": null,
       "flex": null,
       "flex_flow": null,
       "grid_area": null,
       "grid_auto_columns": null,
       "grid_auto_flow": null,
       "grid_auto_rows": null,
       "grid_column": null,
       "grid_gap": null,
       "grid_row": null,
       "grid_template_areas": null,
       "grid_template_columns": null,
       "grid_template_rows": null,
       "height": null,
       "justify_content": null,
       "justify_items": null,
       "left": null,
       "margin": null,
       "max_height": null,
       "max_width": null,
       "min_height": null,
       "min_width": null,
       "object_fit": null,
       "object_position": null,
       "order": null,
       "overflow": null,
       "overflow_x": null,
       "overflow_y": null,
       "padding": null,
       "right": null,
       "top": null,
       "visibility": null,
       "width": null
      }
     },
     "fc90f310a00c4542ae1376935d9bb94e": {
      "model_module": "@jupyter-widgets/base",
      "model_module_version": "1.2.0",
      "model_name": "LayoutModel",
      "state": {
       "_model_module": "@jupyter-widgets/base",
       "_model_module_version": "1.2.0",
       "_model_name": "LayoutModel",
       "_view_count": null,
       "_view_module": "@jupyter-widgets/base",
       "_view_module_version": "1.2.0",
       "_view_name": "LayoutView",
       "align_content": null,
       "align_items": null,
       "align_self": null,
       "border": null,
       "bottom": null,
       "display": null,
       "flex": null,
       "flex_flow": null,
       "grid_area": null,
       "grid_auto_columns": null,
       "grid_auto_flow": null,
       "grid_auto_rows": null,
       "grid_column": null,
       "grid_gap": null,
       "grid_row": null,
       "grid_template_areas": null,
       "grid_template_columns": null,
       "grid_template_rows": null,
       "height": null,
       "justify_content": null,
       "justify_items": null,
       "left": null,
       "margin": null,
       "max_height": null,
       "max_width": null,
       "min_height": null,
       "min_width": null,
       "object_fit": null,
       "object_position": null,
       "order": null,
       "overflow": null,
       "overflow_x": null,
       "overflow_y": null,
       "padding": null,
       "right": null,
       "top": null,
       "visibility": null,
       "width": null
      }
     }
    },
    "version_major": 2,
    "version_minor": 0
   }
  }
 },
 "nbformat": 4,
 "nbformat_minor": 2
}
