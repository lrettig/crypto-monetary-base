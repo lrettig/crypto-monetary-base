{
 "cells": [
  {
   "cell_type": "code",
   "execution_count": 1,
   "metadata": {
    "execution": {
     "iopub.execute_input": "2021-01-10T18:42:46.982191Z",
     "iopub.status.busy": "2021-01-10T18:42:46.981400Z",
     "iopub.status.idle": "2021-01-10T18:42:47.348057Z",
     "shell.execute_reply": "2021-01-10T18:42:47.348750Z"
    }
   },
   "outputs": [],
   "source": [
    "# Load project functions\n",
    "import crypto_monetary_base as cmb"
   ]
  },
  {
   "cell_type": "code",
   "execution_count": 2,
   "metadata": {
    "execution": {
     "iopub.execute_input": "2021-01-10T18:42:47.356083Z",
     "iopub.status.busy": "2021-01-10T18:42:47.355189Z",
     "iopub.status.idle": "2021-01-10T18:42:47.616943Z",
     "shell.execute_reply": "2021-01-10T18:42:47.617642Z"
    }
   },
   "outputs": [],
   "source": [
    "import pandas as pd\n",
    "import datetime\n",
    "from tqdm import tqdm_notebook\n",
    "\n",
    "import matplotlib.pyplot as plt\n",
    "import matplotlib as mpl\n",
    "import seaborn as sns\n",
    "%matplotlib inline\n",
    "%config InlineBackend.figure_format='retina'\n",
    "sns.set()\n",
    "plt.rcParams['figure.figsize'] = (6, 4)\n",
    "plt.rcParams['axes.labelpad'] = 10\n",
    "mpl.rc('text', usetex=True)\n",
    "plt.style.use('ggplot')\n",
    "\n",
    "from IPython.display import display"
   ]
  },
  {
   "cell_type": "code",
   "execution_count": 3,
   "metadata": {
    "execution": {
     "iopub.execute_input": "2021-01-10T18:42:47.623359Z",
     "iopub.status.busy": "2021-01-10T18:42:47.622584Z",
     "iopub.status.idle": "2021-01-10T18:42:47.701040Z",
     "shell.execute_reply": "2021-01-10T18:42:47.701605Z"
    }
   },
   "outputs": [
    {
     "ename": "AttributeError",
     "evalue": "module 'cgi' has no attribute 'escape'",
     "output_type": "error",
     "traceback": [
      "\u001b[0;31m---------------------------------------------------------------------------\u001b[0m",
      "\u001b[0;31mAttributeError\u001b[0m                            Traceback (most recent call last)",
      "\u001b[0;32m~/.local/share/virtualenvs/crypto-monetary-base-xxmj4jsc/lib/python3.9/site-packages/IPython/core/formatters.py\u001b[0m in \u001b[0;36m__call__\u001b[0;34m(self, obj)\u001b[0m\n\u001b[1;32m    343\u001b[0m             \u001b[0mmethod\u001b[0m \u001b[0;34m=\u001b[0m \u001b[0mget_real_method\u001b[0m\u001b[0;34m(\u001b[0m\u001b[0mobj\u001b[0m\u001b[0;34m,\u001b[0m \u001b[0mself\u001b[0m\u001b[0;34m.\u001b[0m\u001b[0mprint_method\u001b[0m\u001b[0;34m)\u001b[0m\u001b[0;34m\u001b[0m\u001b[0;34m\u001b[0m\u001b[0m\n\u001b[1;32m    344\u001b[0m             \u001b[0;32mif\u001b[0m \u001b[0mmethod\u001b[0m \u001b[0;32mis\u001b[0m \u001b[0;32mnot\u001b[0m \u001b[0;32mNone\u001b[0m\u001b[0;34m:\u001b[0m\u001b[0;34m\u001b[0m\u001b[0;34m\u001b[0m\u001b[0m\n\u001b[0;32m--> 345\u001b[0;31m                 \u001b[0;32mreturn\u001b[0m \u001b[0mmethod\u001b[0m\u001b[0;34m(\u001b[0m\u001b[0;34m)\u001b[0m\u001b[0;34m\u001b[0m\u001b[0;34m\u001b[0m\u001b[0m\n\u001b[0m\u001b[1;32m    346\u001b[0m             \u001b[0;32mreturn\u001b[0m \u001b[0;32mNone\u001b[0m\u001b[0;34m\u001b[0m\u001b[0;34m\u001b[0m\u001b[0m\n\u001b[1;32m    347\u001b[0m         \u001b[0;32melse\u001b[0m\u001b[0;34m:\u001b[0m\u001b[0;34m\u001b[0m\u001b[0;34m\u001b[0m\u001b[0m\n",
      "\u001b[0;32m~/.local/share/virtualenvs/crypto-monetary-base-xxmj4jsc/lib/python3.9/site-packages/version_information/version_information.py\u001b[0m in \u001b[0;36m_repr_html_\u001b[0;34m(self)\u001b[0m\n\u001b[1;32m    126\u001b[0m         \u001b[0mhtml\u001b[0m \u001b[0;34m+=\u001b[0m \u001b[0;34m\"<tr><th>Software</th><th>Version</th></tr>\"\u001b[0m\u001b[0;34m\u001b[0m\u001b[0;34m\u001b[0m\u001b[0m\n\u001b[1;32m    127\u001b[0m         \u001b[0;32mfor\u001b[0m \u001b[0mname\u001b[0m\u001b[0;34m,\u001b[0m \u001b[0mversion\u001b[0m \u001b[0;32min\u001b[0m \u001b[0mself\u001b[0m\u001b[0;34m.\u001b[0m\u001b[0mpackages\u001b[0m\u001b[0;34m:\u001b[0m\u001b[0;34m\u001b[0m\u001b[0;34m\u001b[0m\u001b[0m\n\u001b[0;32m--> 128\u001b[0;31m             \u001b[0m_version\u001b[0m \u001b[0;34m=\u001b[0m \u001b[0mcgi\u001b[0m\u001b[0;34m.\u001b[0m\u001b[0mescape\u001b[0m\u001b[0;34m(\u001b[0m\u001b[0mversion\u001b[0m\u001b[0;34m)\u001b[0m\u001b[0;34m\u001b[0m\u001b[0;34m\u001b[0m\u001b[0m\n\u001b[0m\u001b[1;32m    129\u001b[0m             \u001b[0mhtml\u001b[0m \u001b[0;34m+=\u001b[0m \u001b[0;34m\"<tr><td>%s</td><td>%s</td></tr>\"\u001b[0m \u001b[0;34m%\u001b[0m \u001b[0;34m(\u001b[0m\u001b[0mname\u001b[0m\u001b[0;34m,\u001b[0m \u001b[0m_version\u001b[0m\u001b[0;34m)\u001b[0m\u001b[0;34m\u001b[0m\u001b[0;34m\u001b[0m\u001b[0m\n\u001b[1;32m    130\u001b[0m \u001b[0;34m\u001b[0m\u001b[0m\n",
      "\u001b[0;31mAttributeError\u001b[0m: module 'cgi' has no attribute 'escape'"
     ]
    },
    {
     "data": {
      "application/json": {
       "Software versions": [
        {
         "module": "Python",
         "version": "3.9.1 64bit [GCC 5.4.0 20160609]"
        },
        {
         "module": "IPython",
         "version": "7.19.0"
        },
        {
         "module": "OS",
         "version": "Linux 5.8.0 0.bpo.2 amd64 x86_64 with glibc2.28"
        },
        {
         "module": "pandas",
         "version": "1.2.0"
        },
        {
         "module": "matplotlib",
         "version": "3.3.3"
        },
        {
         "module": "seaborn",
         "version": "0.11.1"
        }
       ]
      },
      "text/latex": [
       "\\begin{tabular}{|l|l|}\\hline\n",
       "{\\bf Software} & {\\bf Version} \\\\ \\hline\\hline\n",
       "Python & 3.9.1 64bit [GCC 5.4.0 20160609] \\\\ \\hline\n",
       "IPython & 7.19.0 \\\\ \\hline\n",
       "OS & Linux 5.8.0 0.bpo.2 amd64 x86\\_64 with glibc2.28 \\\\ \\hline\n",
       "pandas & 1.2.0 \\\\ \\hline\n",
       "matplotlib & 3.3.3 \\\\ \\hline\n",
       "seaborn & 0.11.1 \\\\ \\hline\n",
       "\\hline \\multicolumn{2}{|l|}{Sun Jan 10 13:42:47 2021 EST} \\\\ \\hline\n",
       "\\end{tabular}\n"
      ],
      "text/plain": [
       "Software versions\n",
       "Python 3.9.1 64bit [GCC 5.4.0 20160609]\n",
       "IPython 7.19.0\n",
       "OS Linux 5.8.0 0.bpo.2 amd64 x86_64 with glibc2.28\n",
       "pandas 1.2.0\n",
       "matplotlib 3.3.3\n",
       "seaborn 0.11.1\n",
       "Sun Jan 10 13:42:47 2021 EST"
      ]
     },
     "execution_count": 1,
     "metadata": {},
     "output_type": "execute_result"
    }
   ],
   "source": [
    "%load_ext version_information\n",
    "%version_information pandas, matplotlib, seaborn"
   ]
  },
  {
   "cell_type": "markdown",
   "metadata": {},
   "source": [
    "## Supply Curve Calculation"
   ]
  },
  {
   "cell_type": "code",
   "execution_count": 4,
   "metadata": {
    "execution": {
     "iopub.execute_input": "2021-01-10T18:42:47.705334Z",
     "iopub.status.busy": "2021-01-10T18:42:47.704685Z",
     "iopub.status.idle": "2021-01-10T18:42:47.706937Z",
     "shell.execute_reply": "2021-01-10T18:42:47.706396Z"
    }
   },
   "outputs": [],
   "source": [
    "COIN_SYMBOL = 'XRP'"
   ]
  },
  {
   "cell_type": "code",
   "execution_count": 5,
   "metadata": {
    "execution": {
     "iopub.execute_input": "2021-01-10T18:42:47.714182Z",
     "iopub.status.busy": "2021-01-10T18:42:47.713522Z",
     "iopub.status.idle": "2021-01-10T18:42:47.715648Z",
     "shell.execute_reply": "2021-01-10T18:42:47.715081Z"
    }
   },
   "outputs": [],
   "source": [
    "def datetime_xrp_supply_curve():\n",
    "    supply = [\n",
    "        # Total distribution,\n",
    "    ]\n",
    "    start_date = datetime.datetime(2018, 12, 1)\n",
    "    escrow_cue = [1e9] * 52\n",
    "    y = 40 * 1e9\n",
    "    supply.append([y])\n",
    "    for _ in range(400):\n",
    "        xrp = escrow_cue.pop(0)\n",
    "        y += (xrp / 2)\n",
    "        escrow_cue.append(xrp / 2)\n",
    "        supply.append([y])\n",
    "    \n",
    "    df = pd.DataFrame(\n",
    "        supply, columns=['total_supply']\n",
    "    )\n",
    "    df['total_supply_pct'] = (\n",
    "        df['total_supply'] / df['total_supply'].values[-1]\n",
    "        * 100\n",
    "    )\n",
    "    df['date'] = pd.date_range(\n",
    "        start=start_date,\n",
    "        freq='MS',\n",
    "        periods=len(df)\n",
    "    )\n",
    "    return df"
   ]
  },
  {
   "cell_type": "code",
   "execution_count": 6,
   "metadata": {
    "execution": {
     "iopub.execute_input": "2021-01-10T18:42:47.720502Z",
     "iopub.status.busy": "2021-01-10T18:42:47.719871Z",
     "iopub.status.idle": "2021-01-10T18:42:48.684065Z",
     "shell.execute_reply": "2021-01-10T18:42:48.684744Z"
    }
   },
   "outputs": [
    {
     "data": {
      "text/html": [
       "<div>\n",
       "<style scoped>\n",
       "    .dataframe tbody tr th:only-of-type {\n",
       "        vertical-align: middle;\n",
       "    }\n",
       "\n",
       "    .dataframe tbody tr th {\n",
       "        vertical-align: top;\n",
       "    }\n",
       "\n",
       "    .dataframe thead th {\n",
       "        text-align: right;\n",
       "    }\n",
       "</style>\n",
       "<table border=\"1\" class=\"dataframe\">\n",
       "  <thead>\n",
       "    <tr style=\"text-align: right;\">\n",
       "      <th></th>\n",
       "      <th>total_supply</th>\n",
       "      <th>total_supply_pct</th>\n",
       "      <th>date</th>\n",
       "    </tr>\n",
       "  </thead>\n",
       "  <tbody>\n",
       "    <tr>\n",
       "      <th>0</th>\n",
       "      <td>4.000000e+10</td>\n",
       "      <td>43.604156</td>\n",
       "      <td>2018-12-01</td>\n",
       "    </tr>\n",
       "    <tr>\n",
       "      <th>1</th>\n",
       "      <td>4.050000e+10</td>\n",
       "      <td>44.149208</td>\n",
       "      <td>2019-01-01</td>\n",
       "    </tr>\n",
       "    <tr>\n",
       "      <th>2</th>\n",
       "      <td>4.100000e+10</td>\n",
       "      <td>44.694260</td>\n",
       "      <td>2019-02-01</td>\n",
       "    </tr>\n",
       "    <tr>\n",
       "      <th>3</th>\n",
       "      <td>4.150000e+10</td>\n",
       "      <td>45.239312</td>\n",
       "      <td>2019-03-01</td>\n",
       "    </tr>\n",
       "    <tr>\n",
       "      <th>4</th>\n",
       "      <td>4.200000e+10</td>\n",
       "      <td>45.784364</td>\n",
       "      <td>2019-04-01</td>\n",
       "    </tr>\n",
       "  </tbody>\n",
       "</table>\n",
       "</div>"
      ],
      "text/plain": [
       "   total_supply  total_supply_pct       date\n",
       "0  4.000000e+10         43.604156 2018-12-01\n",
       "1  4.050000e+10         44.149208 2019-01-01\n",
       "2  4.100000e+10         44.694260 2019-02-01\n",
       "3  4.150000e+10         45.239312 2019-03-01\n",
       "4  4.200000e+10         45.784364 2019-04-01"
      ]
     },
     "metadata": {},
     "output_type": "display_data"
    },
    {
     "data": {
      "text/html": [
       "<div>\n",
       "<style scoped>\n",
       "    .dataframe tbody tr th:only-of-type {\n",
       "        vertical-align: middle;\n",
       "    }\n",
       "\n",
       "    .dataframe tbody tr th {\n",
       "        vertical-align: top;\n",
       "    }\n",
       "\n",
       "    .dataframe thead th {\n",
       "        text-align: right;\n",
       "    }\n",
       "</style>\n",
       "<table border=\"1\" class=\"dataframe\">\n",
       "  <thead>\n",
       "    <tr style=\"text-align: right;\">\n",
       "      <th></th>\n",
       "      <th>total_supply</th>\n",
       "      <th>total_supply_pct</th>\n",
       "      <th>date</th>\n",
       "    </tr>\n",
       "  </thead>\n",
       "  <tbody>\n",
       "    <tr>\n",
       "      <th>396</th>\n",
       "      <td>9.171875e+10</td>\n",
       "      <td>99.982967</td>\n",
       "      <td>2051-12-01</td>\n",
       "    </tr>\n",
       "    <tr>\n",
       "      <th>397</th>\n",
       "      <td>9.172266e+10</td>\n",
       "      <td>99.987225</td>\n",
       "      <td>2052-01-01</td>\n",
       "    </tr>\n",
       "    <tr>\n",
       "      <th>398</th>\n",
       "      <td>9.172656e+10</td>\n",
       "      <td>99.991484</td>\n",
       "      <td>2052-02-01</td>\n",
       "    </tr>\n",
       "    <tr>\n",
       "      <th>399</th>\n",
       "      <td>9.173047e+10</td>\n",
       "      <td>99.995742</td>\n",
       "      <td>2052-03-01</td>\n",
       "    </tr>\n",
       "    <tr>\n",
       "      <th>400</th>\n",
       "      <td>9.173438e+10</td>\n",
       "      <td>100.000000</td>\n",
       "      <td>2052-04-01</td>\n",
       "    </tr>\n",
       "  </tbody>\n",
       "</table>\n",
       "</div>"
      ],
      "text/plain": [
       "     total_supply  total_supply_pct       date\n",
       "396  9.171875e+10         99.982967 2051-12-01\n",
       "397  9.172266e+10         99.987225 2052-01-01\n",
       "398  9.172656e+10         99.991484 2052-02-01\n",
       "399  9.173047e+10         99.995742 2052-03-01\n",
       "400  9.173438e+10        100.000000 2052-04-01"
      ]
     },
     "metadata": {},
     "output_type": "display_data"
    },
    {
     "data": {
      "text/plain": [
       "<module 'matplotlib.pyplot' from '/home/lane/.local/share/virtualenvs/crypto-monetary-base-xxmj4jsc/lib/python3.9/site-packages/matplotlib/pyplot.py'>"
      ]
     },
     "execution_count": 1,
     "metadata": {},
     "output_type": "execute_result"
    },
    {
     "data": {
      "image/png": "[encoded data removed]",
      "text/plain": [
       "<Figure size 432x288 with 1 Axes>"
      ]
     },
     "metadata": {
      "image/png": {
       "height": 277,
       "width": 384
      }
     },
     "output_type": "display_data"
    }
   ],
   "source": [
    "supply = datetime_xrp_supply_curve()\n",
    "\n",
    "display(supply.head())\n",
    "display(supply.tail())\n",
    "\n",
    "cmb.plot_supply_curve(\n",
    "    supply,\n",
    "    'XRP',\n",
    "    fmt='--',\n",
    "    ylim=(0, 110),\n",
    ");"
   ]
  },
  {
   "cell_type": "markdown",
   "metadata": {},
   "source": [
    "## Standardize Time Series"
   ]
  },
  {
   "cell_type": "code",
   "execution_count": 7,
   "metadata": {
    "execution": {
     "iopub.execute_input": "2021-01-10T18:42:48.719132Z",
     "iopub.status.busy": "2021-01-10T18:42:48.718473Z",
     "iopub.status.idle": "2021-01-10T18:42:48.753631Z",
     "shell.execute_reply": "2021-01-10T18:42:48.753085Z"
    }
   },
   "outputs": [
    {
     "name": "stdout",
     "output_type": "stream",
     "text": [
      "Wrote 401 lines to file ../output-data/XRP_weekly.csv\n"
     ]
    },
    {
     "data": {
      "text/html": [
       "<div>\n",
       "<style scoped>\n",
       "    .dataframe tbody tr th:only-of-type {\n",
       "        vertical-align: middle;\n",
       "    }\n",
       "\n",
       "    .dataframe tbody tr th {\n",
       "        vertical-align: top;\n",
       "    }\n",
       "\n",
       "    .dataframe thead th {\n",
       "        text-align: right;\n",
       "    }\n",
       "</style>\n",
       "<table border=\"1\" class=\"dataframe\">\n",
       "  <thead>\n",
       "    <tr style=\"text-align: right;\">\n",
       "      <th></th>\n",
       "      <th>coin</th>\n",
       "      <th>total_supply</th>\n",
       "      <th>total_supply_pct</th>\n",
       "      <th>date</th>\n",
       "    </tr>\n",
       "  </thead>\n",
       "  <tbody>\n",
       "    <tr>\n",
       "      <th>0</th>\n",
       "      <td>XRP</td>\n",
       "      <td>4.000000e+10</td>\n",
       "      <td>43.604156</td>\n",
       "      <td>2018-12-01</td>\n",
       "    </tr>\n",
       "    <tr>\n",
       "      <th>1</th>\n",
       "      <td>XRP</td>\n",
       "      <td>4.050000e+10</td>\n",
       "      <td>44.149208</td>\n",
       "      <td>2019-01-01</td>\n",
       "    </tr>\n",
       "    <tr>\n",
       "      <th>2</th>\n",
       "      <td>XRP</td>\n",
       "      <td>4.100000e+10</td>\n",
       "      <td>44.694260</td>\n",
       "      <td>2019-02-01</td>\n",
       "    </tr>\n",
       "    <tr>\n",
       "      <th>3</th>\n",
       "      <td>XRP</td>\n",
       "      <td>4.150000e+10</td>\n",
       "      <td>45.239312</td>\n",
       "      <td>2019-03-01</td>\n",
       "    </tr>\n",
       "    <tr>\n",
       "      <th>4</th>\n",
       "      <td>XRP</td>\n",
       "      <td>4.200000e+10</td>\n",
       "      <td>45.784364</td>\n",
       "      <td>2019-04-01</td>\n",
       "    </tr>\n",
       "  </tbody>\n",
       "</table>\n",
       "</div>"
      ],
      "text/plain": [
       "  coin  total_supply  total_supply_pct        date\n",
       "0  XRP  4.000000e+10         43.604156  2018-12-01\n",
       "1  XRP  4.050000e+10         44.149208  2019-01-01\n",
       "2  XRP  4.100000e+10         44.694260  2019-02-01\n",
       "3  XRP  4.150000e+10         45.239312  2019-03-01\n",
       "4  XRP  4.200000e+10         45.784364  2019-04-01"
      ]
     },
     "metadata": {},
     "output_type": "display_data"
    },
    {
     "data": {
      "text/html": [
       "<div>\n",
       "<style scoped>\n",
       "    .dataframe tbody tr th:only-of-type {\n",
       "        vertical-align: middle;\n",
       "    }\n",
       "\n",
       "    .dataframe tbody tr th {\n",
       "        vertical-align: top;\n",
       "    }\n",
       "\n",
       "    .dataframe thead th {\n",
       "        text-align: right;\n",
       "    }\n",
       "</style>\n",
       "<table border=\"1\" class=\"dataframe\">\n",
       "  <thead>\n",
       "    <tr style=\"text-align: right;\">\n",
       "      <th></th>\n",
       "      <th>coin</th>\n",
       "      <th>total_supply</th>\n",
       "      <th>total_supply_pct</th>\n",
       "      <th>date</th>\n",
       "    </tr>\n",
       "  </thead>\n",
       "  <tbody>\n",
       "    <tr>\n",
       "      <th>396</th>\n",
       "      <td>XRP</td>\n",
       "      <td>9.171875e+10</td>\n",
       "      <td>99.982967</td>\n",
       "      <td>2051-12-01</td>\n",
       "    </tr>\n",
       "    <tr>\n",
       "      <th>397</th>\n",
       "      <td>XRP</td>\n",
       "      <td>9.172266e+10</td>\n",
       "      <td>99.987225</td>\n",
       "      <td>2052-01-01</td>\n",
       "    </tr>\n",
       "    <tr>\n",
       "      <th>398</th>\n",
       "      <td>XRP</td>\n",
       "      <td>9.172656e+10</td>\n",
       "      <td>99.991484</td>\n",
       "      <td>2052-02-01</td>\n",
       "    </tr>\n",
       "    <tr>\n",
       "      <th>399</th>\n",
       "      <td>XRP</td>\n",
       "      <td>9.173047e+10</td>\n",
       "      <td>99.995742</td>\n",
       "      <td>2052-03-01</td>\n",
       "    </tr>\n",
       "    <tr>\n",
       "      <th>400</th>\n",
       "      <td>XRP</td>\n",
       "      <td>9.173438e+10</td>\n",
       "      <td>100.000000</td>\n",
       "      <td>2052-04-01</td>\n",
       "    </tr>\n",
       "  </tbody>\n",
       "</table>\n",
       "</div>"
      ],
      "text/plain": [
       "    coin  total_supply  total_supply_pct        date\n",
       "396  XRP  9.171875e+10         99.982967  2051-12-01\n",
       "397  XRP  9.172266e+10         99.987225  2052-01-01\n",
       "398  XRP  9.172656e+10         99.991484  2052-02-01\n",
       "399  XRP  9.173047e+10         99.995742  2052-03-01\n",
       "400  XRP  9.173438e+10        100.000000  2052-04-01"
      ]
     },
     "metadata": {},
     "output_type": "display_data"
    }
   ],
   "source": [
    "weekly_supply = cmb.transform_supply(supply, COIN_SYMBOL, freq='weekly')\n",
    "\n",
    "display(weekly_supply.head())\n",
    "display(weekly_supply.tail())"
   ]
  },
  {
   "cell_type": "code",
   "execution_count": 8,
   "metadata": {
    "execution": {
     "iopub.execute_input": "2021-01-10T18:42:48.770983Z",
     "iopub.status.busy": "2021-01-10T18:42:48.764548Z",
     "iopub.status.idle": "2021-01-10T18:42:48.792408Z",
     "shell.execute_reply": "2021-01-10T18:42:48.792761Z"
    }
   },
   "outputs": [
    {
     "name": "stdout",
     "output_type": "stream",
     "text": [
      "Wrote 401 lines to file ../output-data/XRP_monthly.csv\n"
     ]
    },
    {
     "data": {
      "text/html": [
       "<div>\n",
       "<style scoped>\n",
       "    .dataframe tbody tr th:only-of-type {\n",
       "        vertical-align: middle;\n",
       "    }\n",
       "\n",
       "    .dataframe tbody tr th {\n",
       "        vertical-align: top;\n",
       "    }\n",
       "\n",
       "    .dataframe thead th {\n",
       "        text-align: right;\n",
       "    }\n",
       "</style>\n",
       "<table border=\"1\" class=\"dataframe\">\n",
       "  <thead>\n",
       "    <tr style=\"text-align: right;\">\n",
       "      <th></th>\n",
       "      <th>coin</th>\n",
       "      <th>total_supply</th>\n",
       "      <th>total_supply_pct</th>\n",
       "      <th>date</th>\n",
       "    </tr>\n",
       "  </thead>\n",
       "  <tbody>\n",
       "    <tr>\n",
       "      <th>0</th>\n",
       "      <td>XRP</td>\n",
       "      <td>4.000000e+10</td>\n",
       "      <td>43.604156</td>\n",
       "      <td>2018-12-01</td>\n",
       "    </tr>\n",
       "    <tr>\n",
       "      <th>1</th>\n",
       "      <td>XRP</td>\n",
       "      <td>4.050000e+10</td>\n",
       "      <td>44.149208</td>\n",
       "      <td>2019-01-01</td>\n",
       "    </tr>\n",
       "    <tr>\n",
       "      <th>2</th>\n",
       "      <td>XRP</td>\n",
       "      <td>4.100000e+10</td>\n",
       "      <td>44.694260</td>\n",
       "      <td>2019-02-01</td>\n",
       "    </tr>\n",
       "    <tr>\n",
       "      <th>3</th>\n",
       "      <td>XRP</td>\n",
       "      <td>4.150000e+10</td>\n",
       "      <td>45.239312</td>\n",
       "      <td>2019-03-01</td>\n",
       "    </tr>\n",
       "    <tr>\n",
       "      <th>4</th>\n",
       "      <td>XRP</td>\n",
       "      <td>4.200000e+10</td>\n",
       "      <td>45.784364</td>\n",
       "      <td>2019-04-01</td>\n",
       "    </tr>\n",
       "  </tbody>\n",
       "</table>\n",
       "</div>"
      ],
      "text/plain": [
       "  coin  total_supply  total_supply_pct        date\n",
       "0  XRP  4.000000e+10         43.604156  2018-12-01\n",
       "1  XRP  4.050000e+10         44.149208  2019-01-01\n",
       "2  XRP  4.100000e+10         44.694260  2019-02-01\n",
       "3  XRP  4.150000e+10         45.239312  2019-03-01\n",
       "4  XRP  4.200000e+10         45.784364  2019-04-01"
      ]
     },
     "metadata": {},
     "output_type": "display_data"
    },
    {
     "data": {
      "text/html": [
       "<div>\n",
       "<style scoped>\n",
       "    .dataframe tbody tr th:only-of-type {\n",
       "        vertical-align: middle;\n",
       "    }\n",
       "\n",
       "    .dataframe tbody tr th {\n",
       "        vertical-align: top;\n",
       "    }\n",
       "\n",
       "    .dataframe thead th {\n",
       "        text-align: right;\n",
       "    }\n",
       "</style>\n",
       "<table border=\"1\" class=\"dataframe\">\n",
       "  <thead>\n",
       "    <tr style=\"text-align: right;\">\n",
       "      <th></th>\n",
       "      <th>coin</th>\n",
       "      <th>total_supply</th>\n",
       "      <th>total_supply_pct</th>\n",
       "      <th>date</th>\n",
       "    </tr>\n",
       "  </thead>\n",
       "  <tbody>\n",
       "    <tr>\n",
       "      <th>396</th>\n",
       "      <td>XRP</td>\n",
       "      <td>9.171875e+10</td>\n",
       "      <td>99.982967</td>\n",
       "      <td>2051-12-01</td>\n",
       "    </tr>\n",
       "    <tr>\n",
       "      <th>397</th>\n",
       "      <td>XRP</td>\n",
       "      <td>9.172266e+10</td>\n",
       "      <td>99.987225</td>\n",
       "      <td>2052-01-01</td>\n",
       "    </tr>\n",
       "    <tr>\n",
       "      <th>398</th>\n",
       "      <td>XRP</td>\n",
       "      <td>9.172656e+10</td>\n",
       "      <td>99.991484</td>\n",
       "      <td>2052-02-01</td>\n",
       "    </tr>\n",
       "    <tr>\n",
       "      <th>399</th>\n",
       "      <td>XRP</td>\n",
       "      <td>9.173047e+10</td>\n",
       "      <td>99.995742</td>\n",
       "      <td>2052-03-01</td>\n",
       "    </tr>\n",
       "    <tr>\n",
       "      <th>400</th>\n",
       "      <td>XRP</td>\n",
       "      <td>9.173438e+10</td>\n",
       "      <td>100.000000</td>\n",
       "      <td>2052-04-01</td>\n",
       "    </tr>\n",
       "  </tbody>\n",
       "</table>\n",
       "</div>"
      ],
      "text/plain": [
       "    coin  total_supply  total_supply_pct        date\n",
       "396  XRP  9.171875e+10         99.982967  2051-12-01\n",
       "397  XRP  9.172266e+10         99.987225  2052-01-01\n",
       "398  XRP  9.172656e+10         99.991484  2052-02-01\n",
       "399  XRP  9.173047e+10         99.995742  2052-03-01\n",
       "400  XRP  9.173438e+10        100.000000  2052-04-01"
      ]
     },
     "metadata": {},
     "output_type": "display_data"
    }
   ],
   "source": [
    "monthly_supply = cmb.transform_supply(supply, COIN_SYMBOL, freq='monthly')\n",
    "\n",
    "display(monthly_supply.head())\n",
    "display(monthly_supply.tail())"
   ]
  },
  {
   "cell_type": "code",
   "execution_count": 9,
   "metadata": {
    "execution": {
     "iopub.execute_input": "2021-01-10T18:42:48.801892Z",
     "iopub.status.busy": "2021-01-10T18:42:48.801330Z",
     "iopub.status.idle": "2021-01-10T18:42:48.815783Z",
     "shell.execute_reply": "2021-01-10T18:42:48.816262Z"
    }
   },
   "outputs": [
    {
     "name": "stdout",
     "output_type": "stream",
     "text": [
      "Wrote 35 lines to file ../output-data/XRP_yearly.csv\n"
     ]
    },
    {
     "data": {
      "text/html": [
       "<div>\n",
       "<style scoped>\n",
       "    .dataframe tbody tr th:only-of-type {\n",
       "        vertical-align: middle;\n",
       "    }\n",
       "\n",
       "    .dataframe tbody tr th {\n",
       "        vertical-align: top;\n",
       "    }\n",
       "\n",
       "    .dataframe thead th {\n",
       "        text-align: right;\n",
       "    }\n",
       "</style>\n",
       "<table border=\"1\" class=\"dataframe\">\n",
       "  <thead>\n",
       "    <tr style=\"text-align: right;\">\n",
       "      <th></th>\n",
       "      <th>coin</th>\n",
       "      <th>total_supply</th>\n",
       "      <th>total_supply_pct</th>\n",
       "      <th>date</th>\n",
       "    </tr>\n",
       "  </thead>\n",
       "  <tbody>\n",
       "    <tr>\n",
       "      <th>0</th>\n",
       "      <td>XRP</td>\n",
       "      <td>4.000000e+10</td>\n",
       "      <td>43.604156</td>\n",
       "      <td>2018-12-01</td>\n",
       "    </tr>\n",
       "    <tr>\n",
       "      <th>1</th>\n",
       "      <td>XRP</td>\n",
       "      <td>4.050000e+10</td>\n",
       "      <td>44.149208</td>\n",
       "      <td>2019-01-01</td>\n",
       "    </tr>\n",
       "    <tr>\n",
       "      <th>2</th>\n",
       "      <td>XRP</td>\n",
       "      <td>4.650000e+10</td>\n",
       "      <td>50.689831</td>\n",
       "      <td>2020-01-01</td>\n",
       "    </tr>\n",
       "    <tr>\n",
       "      <th>3</th>\n",
       "      <td>XRP</td>\n",
       "      <td>5.250000e+10</td>\n",
       "      <td>57.230455</td>\n",
       "      <td>2021-01-01</td>\n",
       "    </tr>\n",
       "    <tr>\n",
       "      <th>4</th>\n",
       "      <td>XRP</td>\n",
       "      <td>5.850000e+10</td>\n",
       "      <td>63.771078</td>\n",
       "      <td>2022-01-01</td>\n",
       "    </tr>\n",
       "  </tbody>\n",
       "</table>\n",
       "</div>"
      ],
      "text/plain": [
       "  coin  total_supply  total_supply_pct        date\n",
       "0  XRP  4.000000e+10         43.604156  2018-12-01\n",
       "1  XRP  4.050000e+10         44.149208  2019-01-01\n",
       "2  XRP  4.650000e+10         50.689831  2020-01-01\n",
       "3  XRP  5.250000e+10         57.230455  2021-01-01\n",
       "4  XRP  5.850000e+10         63.771078  2022-01-01"
      ]
     },
     "metadata": {},
     "output_type": "display_data"
    },
    {
     "data": {
      "text/html": [
       "<div>\n",
       "<style scoped>\n",
       "    .dataframe tbody tr th:only-of-type {\n",
       "        vertical-align: middle;\n",
       "    }\n",
       "\n",
       "    .dataframe tbody tr th {\n",
       "        vertical-align: top;\n",
       "    }\n",
       "\n",
       "    .dataframe thead th {\n",
       "        text-align: right;\n",
       "    }\n",
       "</style>\n",
       "<table border=\"1\" class=\"dataframe\">\n",
       "  <thead>\n",
       "    <tr style=\"text-align: right;\">\n",
       "      <th></th>\n",
       "      <th>coin</th>\n",
       "      <th>total_supply</th>\n",
       "      <th>total_supply_pct</th>\n",
       "      <th>date</th>\n",
       "    </tr>\n",
       "  </thead>\n",
       "  <tbody>\n",
       "    <tr>\n",
       "      <th>30</th>\n",
       "      <td>XRP</td>\n",
       "      <td>9.147656e+10</td>\n",
       "      <td>99.718958</td>\n",
       "      <td>2048-01-01</td>\n",
       "    </tr>\n",
       "    <tr>\n",
       "      <th>31</th>\n",
       "      <td>XRP</td>\n",
       "      <td>9.157031e+10</td>\n",
       "      <td>99.821155</td>\n",
       "      <td>2049-01-01</td>\n",
       "    </tr>\n",
       "    <tr>\n",
       "      <th>32</th>\n",
       "      <td>XRP</td>\n",
       "      <td>9.162891e+10</td>\n",
       "      <td>99.885028</td>\n",
       "      <td>2050-01-01</td>\n",
       "    </tr>\n",
       "    <tr>\n",
       "      <th>33</th>\n",
       "      <td>XRP</td>\n",
       "      <td>9.167578e+10</td>\n",
       "      <td>99.936127</td>\n",
       "      <td>2051-01-01</td>\n",
       "    </tr>\n",
       "    <tr>\n",
       "      <th>34</th>\n",
       "      <td>XRP</td>\n",
       "      <td>9.172266e+10</td>\n",
       "      <td>99.987225</td>\n",
       "      <td>2052-01-01</td>\n",
       "    </tr>\n",
       "  </tbody>\n",
       "</table>\n",
       "</div>"
      ],
      "text/plain": [
       "   coin  total_supply  total_supply_pct        date\n",
       "30  XRP  9.147656e+10         99.718958  2048-01-01\n",
       "31  XRP  9.157031e+10         99.821155  2049-01-01\n",
       "32  XRP  9.162891e+10         99.885028  2050-01-01\n",
       "33  XRP  9.167578e+10         99.936127  2051-01-01\n",
       "34  XRP  9.172266e+10         99.987225  2052-01-01"
      ]
     },
     "metadata": {},
     "output_type": "display_data"
    }
   ],
   "source": [
    "yearly_supply = cmb.transform_supply(supply, COIN_SYMBOL, freq='yearly')\n",
    "\n",
    "display(yearly_supply.head())\n",
    "display(yearly_supply.tail())"
   ]
  },
  {
   "cell_type": "code",
   "execution_count": 10,
   "metadata": {},
   "outputs": [],
   "source": []
  }
 ],
 "metadata": {
  "kernelspec": {
   "display_name": "Python [default]",
   "language": "python",
   "name": "python3"
  },
  "language_info": {
   "codemirror_mode": {
    "name": "ipython",
    "version": 3
   },
   "file_extension": ".py",
   "mimetype": "text/x-python",
   "name": "python",
   "nbconvert_exporter": "python",
   "pygments_lexer": "ipython3",
   "version": "3.9.1"
  },
  "toc": {
   "base_numbering": 1,
   "nav_menu": {},
   "number_sections": true,
   "sideBar": true,
   "skip_h1_title": false,
   "title_cell": "Table of Contents",
   "title_sidebar": "Contents",
   "toc_cell": false,
   "toc_position": {},
   "toc_section_display": true,
   "toc_window_display": false
  }
 },
 "nbformat": 4,
 "nbformat_minor": 2
}
