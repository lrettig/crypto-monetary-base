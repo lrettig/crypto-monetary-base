{
 "cells": [
  {
   "cell_type": "code",
   "execution_count": 1,
   "metadata": {
    "execution": {
     "iopub.execute_input": "2021-01-10T18:32:32.362373Z",
     "iopub.status.busy": "2021-01-10T18:32:32.360880Z",
     "iopub.status.idle": "2021-01-10T18:32:32.716301Z",
     "shell.execute_reply": "2021-01-10T18:32:32.715689Z"
    }
   },
   "outputs": [],
   "source": [
    "# Load project functions\n",
    "import crypto_monetary_base as cmb"
   ]
  },
  {
   "cell_type": "code",
   "execution_count": 2,
   "metadata": {
    "execution": {
     "iopub.execute_input": "2021-01-10T18:32:32.722617Z",
     "iopub.status.busy": "2021-01-10T18:32:32.722032Z",
     "iopub.status.idle": "2021-01-10T18:32:32.991822Z",
     "shell.execute_reply": "2021-01-10T18:32:32.992458Z"
    }
   },
   "outputs": [],
   "source": [
    "import pandas as pd\n",
    "import datetime\n",
    "from tqdm import tqdm_notebook\n",
    "\n",
    "import matplotlib.pyplot as plt\n",
    "import matplotlib as mpl\n",
    "import seaborn as sns\n",
    "%matplotlib inline\n",
    "%config InlineBackend.figure_format='retina'\n",
    "sns.set()\n",
    "plt.rcParams['figure.figsize'] = (6, 4)\n",
    "plt.rcParams['axes.labelpad'] = 10\n",
    "mpl.rc('text', usetex=True)\n",
    "plt.style.use('ggplot')\n",
    "\n",
    "from IPython.display import display"
   ]
  },
  {
   "cell_type": "code",
   "execution_count": 1,
   "metadata": {},
   "outputs": [
    {
     "data": {
      "application/json": {
       "Software versions": [
        {
         "module": "Python",
         "version": "3.9.1 64bit [GCC 5.4.0 20160609]"
        },
        {
         "module": "IPython",
         "version": "7.19.0"
        },
        {
         "module": "OS",
         "version": "Linux 5.8.0 0.bpo.2 amd64 x86_64 with glibc2.28"
        },
        {
         "module": "pandas",
         "version": "1.2.0"
        },
        {
         "module": "matplotlib",
         "version": "3.3.3"
        },
        {
         "module": "seaborn",
         "version": "0.11.1"
        }
       ]
      },
      "text/html": [
       "<table><tr><th>Software</th><th>Version</th></tr><tr><td>Python</td><td>3.9.1 64bit [GCC 5.4.0 20160609]</td></tr><tr><td>IPython</td><td>7.19.0</td></tr><tr><td>OS</td><td>Linux 5.8.0 0.bpo.2 amd64 x86\\_64 with glibc2.28</td></tr><tr><td>pandas</td><td>1.2.0</td></tr><tr><td>matplotlib</td><td>3.3.3</td></tr><tr><td>seaborn</td><td>0.11.1</td></tr><tr><td colspan='2'>Sun Jan 10 13:47:47 2021 EST</td></tr></table>"
      ],
      "text/latex": [
       "\\begin{tabular}{|l|l|}\\hline\n",
       "{\\bf Software} & {\\bf Version} \\\\ \\hline\\hline\n",
       "Python & 3.9.1 64bit [GCC 5.4.0 20160609] \\\\ \\hline\n",
       "IPython & 7.19.0 \\\\ \\hline\n",
       "OS & Linux 5.8.0 0.bpo.2 amd64 x86\\_64 with glibc2.28 \\\\ \\hline\n",
       "pandas & 1.2.0 \\\\ \\hline\n",
       "matplotlib & 3.3.3 \\\\ \\hline\n",
       "seaborn & 0.11.1 \\\\ \\hline\n",
       "\\hline \\multicolumn{2}{|l|}{Sun Jan 10 13:47:47 2021 EST} \\\\ \\hline\n",
       "\\end{tabular}\n"
      ],
      "text/plain": [
       "Software versions\n",
       "Python 3.9.1 64bit [GCC 5.4.0 20160609]\n",
       "IPython 7.19.0\n",
       "OS Linux 5.8.0 0.bpo.2 amd64 x86_64 with glibc2.28\n",
       "pandas 1.2.0\n",
       "matplotlib 3.3.3\n",
       "seaborn 0.11.1\n",
       "Sun Jan 10 13:47:47 2021 EST"
      ]
     },
     "execution_count": 1,
     "metadata": {},
     "output_type": "execute_result"
    }
   ],
   "source": [
    "%load_ext version_information\n",
    "%version_information pandas, matplotlib, seaborn"
   ]
  },
  {
   "cell_type": "markdown",
   "metadata": {},
   "source": [
    "## Supply Curve Calculation"
   ]
  },
  {
   "cell_type": "code",
   "execution_count": 3,
   "metadata": {
    "execution": {
     "iopub.execute_input": "2021-01-10T18:32:32.996622Z",
     "iopub.status.busy": "2021-01-10T18:32:32.995993Z",
     "iopub.status.idle": "2021-01-10T18:32:32.997805Z",
     "shell.execute_reply": "2021-01-10T18:32:32.998338Z"
    }
   },
   "outputs": [],
   "source": [
    "COIN_SYMBOL = 'BTC'"
   ]
  },
  {
   "cell_type": "code",
   "execution_count": 4,
   "metadata": {
    "execution": {
     "iopub.execute_input": "2021-01-10T18:32:33.004408Z",
     "iopub.status.busy": "2021-01-10T18:32:33.003781Z",
     "iopub.status.idle": "2021-01-10T18:32:33.005846Z",
     "shell.execute_reply": "2021-01-10T18:32:33.005298Z"
    }
   },
   "outputs": [],
   "source": [
    "def btc_block_supply_curve():\n",
    "    out = [\n",
    "        # Block num,\n",
    "        # Total supply,\n",
    "    ]\n",
    "    inflation_change_blocks=210000\n",
    "    inflation_change_frac=0.5\n",
    "    y = 0\n",
    "    block = 0\n",
    "    while True:\n",
    "        block += 1\n",
    "        num_changes = int(\n",
    "            (block - 1) / inflation_change_blocks\n",
    "        )\n",
    "        if num_changes > 32:\n",
    "            break\n",
    "        block_reward = 50 * (\n",
    "            inflation_change_frac ** num_changes\n",
    "        )\n",
    "        if (block - 1) % inflation_change_blocks == 0:\n",
    "            print(\n",
    "                f'Inflation change #{num_changes}, '\n",
    "                f'block reward = {block_reward}'\n",
    "            )\n",
    "        y += block_reward\n",
    "        out.append([block, y])\n",
    "\n",
    "    return out"
   ]
  },
  {
   "cell_type": "code",
   "execution_count": 5,
   "metadata": {
    "execution": {
     "iopub.execute_input": "2021-01-10T18:32:33.009387Z",
     "iopub.status.busy": "2021-01-10T18:32:33.007796Z",
     "iopub.status.idle": "2021-01-10T18:32:42.629676Z",
     "shell.execute_reply": "2021-01-10T18:32:42.629309Z"
    }
   },
   "outputs": [
    {
     "name": "stdout",
     "output_type": "stream",
     "text": [
      "Inflation change #0, block reward = 50.0\n",
      "Inflation change #1, block reward = 25.0\n",
      "Inflation change #2, block reward = 12.5\n",
      "Inflation change #3, block reward = 6.25\n",
      "Inflation change #4, block reward = 3.125\n",
      "Inflation change #5, block reward = 1.5625\n",
      "Inflation change #6, block reward = 0.78125\n",
      "Inflation change #7, block reward = 0.390625\n",
      "Inflation change #8, block reward = 0.1953125\n",
      "Inflation change #9, block reward = 0.09765625\n",
      "Inflation change #10, block reward = 0.048828125\n",
      "Inflation change #11, block reward = 0.0244140625\n",
      "Inflation change #12, block reward = 0.01220703125\n",
      "Inflation change #13, block reward = 0.006103515625\n",
      "Inflation change #14, block reward = 0.0030517578125\n",
      "Inflation change #15, block reward = 0.00152587890625\n",
      "Inflation change #16, block reward = 0.000762939453125\n",
      "Inflation change #17, block reward = 0.0003814697265625\n",
      "Inflation change #18, block reward = 0.00019073486328125\n",
      "Inflation change #19, block reward = 9.5367431640625e-05\n",
      "Inflation change #20, block reward = 4.76837158203125e-05\n",
      "Inflation change #21, block reward = 2.384185791015625e-05\n",
      "Inflation change #22, block reward = 1.1920928955078125e-05\n",
      "Inflation change #23, block reward = 5.9604644775390625e-06\n",
      "Inflation change #24, block reward = 2.9802322387695312e-06\n",
      "Inflation change #25, block reward = 1.4901161193847656e-06\n",
      "Inflation change #26, block reward = 7.450580596923828e-07\n",
      "Inflation change #27, block reward = 3.725290298461914e-07\n",
      "Inflation change #28, block reward = 1.862645149230957e-07\n",
      "Inflation change #29, block reward = 9.313225746154785e-08\n",
      "Inflation change #30, block reward = 4.6566128730773926e-08\n",
      "Inflation change #31, block reward = 2.3283064365386963e-08\n",
      "Inflation change #32, block reward = 1.1641532182693481e-08\n"
     ]
    }
   ],
   "source": [
    "start_date = datetime.date(2009, 1, 3)\n",
    "block_time = datetime.timedelta(seconds=60 * 10)\n",
    "\n",
    "block_supply = btc_block_supply_curve()\n",
    "\n",
    "supply = cmb.datetime_supply_curve(\n",
    "    start_date=start_date,\n",
    "    block_time=block_time,\n",
    "    block_supply=block_supply,\n",
    ")"
   ]
  },
  {
   "cell_type": "code",
   "execution_count": 6,
   "metadata": {
    "execution": {
     "iopub.execute_input": "2021-01-10T18:32:42.634169Z",
     "iopub.status.busy": "2021-01-10T18:32:42.633588Z",
     "iopub.status.idle": "2021-01-10T18:32:43.458447Z",
     "shell.execute_reply": "2021-01-10T18:32:43.459102Z"
    }
   },
   "outputs": [
    {
     "data": {
      "text/html": [
       "<div>\n",
       "<style scoped>\n",
       "    .dataframe tbody tr th:only-of-type {\n",
       "        vertical-align: middle;\n",
       "    }\n",
       "\n",
       "    .dataframe tbody tr th {\n",
       "        vertical-align: top;\n",
       "    }\n",
       "\n",
       "    .dataframe thead th {\n",
       "        text-align: right;\n",
       "    }\n",
       "</style>\n",
       "<table border=\"1\" class=\"dataframe\">\n",
       "  <thead>\n",
       "    <tr style=\"text-align: right;\">\n",
       "      <th></th>\n",
       "      <th>block</th>\n",
       "      <th>total_supply</th>\n",
       "      <th>total_supply_pct</th>\n",
       "      <th>date</th>\n",
       "    </tr>\n",
       "  </thead>\n",
       "  <tbody>\n",
       "    <tr>\n",
       "      <th>0</th>\n",
       "      <td>1</td>\n",
       "      <td>50.0</td>\n",
       "      <td>0.000238</td>\n",
       "      <td>2009-01-03 00:00:00</td>\n",
       "    </tr>\n",
       "    <tr>\n",
       "      <th>1</th>\n",
       "      <td>2</td>\n",
       "      <td>100.0</td>\n",
       "      <td>0.000476</td>\n",
       "      <td>2009-01-03 00:10:00</td>\n",
       "    </tr>\n",
       "    <tr>\n",
       "      <th>2</th>\n",
       "      <td>3</td>\n",
       "      <td>150.0</td>\n",
       "      <td>0.000714</td>\n",
       "      <td>2009-01-03 00:20:00</td>\n",
       "    </tr>\n",
       "    <tr>\n",
       "      <th>3</th>\n",
       "      <td>4</td>\n",
       "      <td>200.0</td>\n",
       "      <td>0.000952</td>\n",
       "      <td>2009-01-03 00:30:00</td>\n",
       "    </tr>\n",
       "    <tr>\n",
       "      <th>4</th>\n",
       "      <td>5</td>\n",
       "      <td>250.0</td>\n",
       "      <td>0.001190</td>\n",
       "      <td>2009-01-03 00:40:00</td>\n",
       "    </tr>\n",
       "  </tbody>\n",
       "</table>\n",
       "</div>"
      ],
      "text/plain": [
       "   block  total_supply  total_supply_pct                date\n",
       "0      1          50.0          0.000238 2009-01-03 00:00:00\n",
       "1      2         100.0          0.000476 2009-01-03 00:10:00\n",
       "2      3         150.0          0.000714 2009-01-03 00:20:00\n",
       "3      4         200.0          0.000952 2009-01-03 00:30:00\n",
       "4      5         250.0          0.001190 2009-01-03 00:40:00"
      ]
     },
     "metadata": {},
     "output_type": "display_data"
    },
    {
     "data": {
      "text/html": [
       "<div>\n",
       "<style scoped>\n",
       "    .dataframe tbody tr th:only-of-type {\n",
       "        vertical-align: middle;\n",
       "    }\n",
       "\n",
       "    .dataframe tbody tr th {\n",
       "        vertical-align: top;\n",
       "    }\n",
       "\n",
       "    .dataframe thead th {\n",
       "        text-align: right;\n",
       "    }\n",
       "</style>\n",
       "<table border=\"1\" class=\"dataframe\">\n",
       "  <thead>\n",
       "    <tr style=\"text-align: right;\">\n",
       "      <th></th>\n",
       "      <th>block</th>\n",
       "      <th>total_supply</th>\n",
       "      <th>total_supply_pct</th>\n",
       "      <th>date</th>\n",
       "    </tr>\n",
       "  </thead>\n",
       "  <tbody>\n",
       "    <tr>\n",
       "      <th>6929995</th>\n",
       "      <td>6929996</td>\n",
       "      <td>2.100000e+07</td>\n",
       "      <td>100.0</td>\n",
       "      <td>2140-10-07 23:10:00</td>\n",
       "    </tr>\n",
       "    <tr>\n",
       "      <th>6929996</th>\n",
       "      <td>6929997</td>\n",
       "      <td>2.100000e+07</td>\n",
       "      <td>100.0</td>\n",
       "      <td>2140-10-07 23:20:00</td>\n",
       "    </tr>\n",
       "    <tr>\n",
       "      <th>6929997</th>\n",
       "      <td>6929998</td>\n",
       "      <td>2.100000e+07</td>\n",
       "      <td>100.0</td>\n",
       "      <td>2140-10-07 23:30:00</td>\n",
       "    </tr>\n",
       "    <tr>\n",
       "      <th>6929998</th>\n",
       "      <td>6929999</td>\n",
       "      <td>2.100000e+07</td>\n",
       "      <td>100.0</td>\n",
       "      <td>2140-10-07 23:40:00</td>\n",
       "    </tr>\n",
       "    <tr>\n",
       "      <th>6929999</th>\n",
       "      <td>6930000</td>\n",
       "      <td>2.100000e+07</td>\n",
       "      <td>100.0</td>\n",
       "      <td>2140-10-07 23:50:00</td>\n",
       "    </tr>\n",
       "  </tbody>\n",
       "</table>\n",
       "</div>"
      ],
      "text/plain": [
       "           block  total_supply  total_supply_pct                date\n",
       "6929995  6929996  2.100000e+07             100.0 2140-10-07 23:10:00\n",
       "6929996  6929997  2.100000e+07             100.0 2140-10-07 23:20:00\n",
       "6929997  6929998  2.100000e+07             100.0 2140-10-07 23:30:00\n",
       "6929998  6929999  2.100000e+07             100.0 2140-10-07 23:40:00\n",
       "6929999  6930000  2.100000e+07             100.0 2140-10-07 23:50:00"
      ]
     },
     "metadata": {},
     "output_type": "display_data"
    },
    {
     "data": {
      "text/plain": [
       "<module 'matplotlib.pyplot' from '/home/lane/.local/share/virtualenvs/crypto-monetary-base-xxmj4jsc/lib/python3.9/site-packages/matplotlib/pyplot.py'>"
      ]
     },
     "execution_count": 1,
     "metadata": {},
     "output_type": "execute_result"
    },
    {
     "data": {
      "image/png": "[encoded data removed]",
      "text/plain": [
       "<Figure size 432x288 with 1 Axes>"
      ]
     },
     "metadata": {
      "image/png": {
       "height": 277,
       "width": 384
      }
     },
     "output_type": "display_data"
    }
   ],
   "source": [
    "display(supply.head())\n",
    "display(supply.tail())\n",
    "\n",
    "cmb.plot_supply_curve(\n",
    "    supply,\n",
    "    'BTC',\n",
    ");"
   ]
  },
  {
   "cell_type": "markdown",
   "metadata": {},
   "source": [
    "## Standardize Time Series"
   ]
  },
  {
   "cell_type": "code",
   "execution_count": 7,
   "metadata": {
    "execution": {
     "iopub.execute_input": "2021-01-10T18:32:43.463265Z",
     "iopub.status.busy": "2021-01-10T18:32:43.462467Z",
     "iopub.status.idle": "2021-01-10T18:32:43.958011Z",
     "shell.execute_reply": "2021-01-10T18:32:43.958534Z"
    }
   },
   "outputs": [
    {
     "name": "stdout",
     "output_type": "stream",
     "text": [
      "Wrote 6876 lines to file ../output-data/BTC_weekly.csv\n"
     ]
    },
    {
     "data": {
      "text/html": [
       "<div>\n",
       "<style scoped>\n",
       "    .dataframe tbody tr th:only-of-type {\n",
       "        vertical-align: middle;\n",
       "    }\n",
       "\n",
       "    .dataframe tbody tr th {\n",
       "        vertical-align: top;\n",
       "    }\n",
       "\n",
       "    .dataframe thead th {\n",
       "        text-align: right;\n",
       "    }\n",
       "</style>\n",
       "<table border=\"1\" class=\"dataframe\">\n",
       "  <thead>\n",
       "    <tr style=\"text-align: right;\">\n",
       "      <th></th>\n",
       "      <th>coin</th>\n",
       "      <th>block</th>\n",
       "      <th>total_supply</th>\n",
       "      <th>total_supply_pct</th>\n",
       "      <th>date</th>\n",
       "    </tr>\n",
       "  </thead>\n",
       "  <tbody>\n",
       "    <tr>\n",
       "      <th>0</th>\n",
       "      <td>BTC</td>\n",
       "      <td>1</td>\n",
       "      <td>50.0</td>\n",
       "      <td>0.000238</td>\n",
       "      <td>2009-01-01</td>\n",
       "    </tr>\n",
       "    <tr>\n",
       "      <th>1</th>\n",
       "      <td>BTC</td>\n",
       "      <td>289</td>\n",
       "      <td>14450.0</td>\n",
       "      <td>0.068810</td>\n",
       "      <td>2009-01-01</td>\n",
       "    </tr>\n",
       "    <tr>\n",
       "      <th>2</th>\n",
       "      <td>BTC</td>\n",
       "      <td>1297</td>\n",
       "      <td>64850.0</td>\n",
       "      <td>0.308810</td>\n",
       "      <td>2009-01-01</td>\n",
       "    </tr>\n",
       "    <tr>\n",
       "      <th>3</th>\n",
       "      <td>BTC</td>\n",
       "      <td>2305</td>\n",
       "      <td>115250.0</td>\n",
       "      <td>0.548810</td>\n",
       "      <td>2009-01-01</td>\n",
       "    </tr>\n",
       "    <tr>\n",
       "      <th>4</th>\n",
       "      <td>BTC</td>\n",
       "      <td>3313</td>\n",
       "      <td>165650.0</td>\n",
       "      <td>0.788810</td>\n",
       "      <td>2009-01-01</td>\n",
       "    </tr>\n",
       "  </tbody>\n",
       "</table>\n",
       "</div>"
      ],
      "text/plain": [
       "  coin  block  total_supply  total_supply_pct        date\n",
       "0  BTC      1          50.0          0.000238  2009-01-01\n",
       "1  BTC    289       14450.0          0.068810  2009-01-01\n",
       "2  BTC   1297       64850.0          0.308810  2009-01-01\n",
       "3  BTC   2305      115250.0          0.548810  2009-01-01\n",
       "4  BTC   3313      165650.0          0.788810  2009-01-01"
      ]
     },
     "metadata": {},
     "output_type": "display_data"
    },
    {
     "data": {
      "text/html": [
       "<div>\n",
       "<style scoped>\n",
       "    .dataframe tbody tr th:only-of-type {\n",
       "        vertical-align: middle;\n",
       "    }\n",
       "\n",
       "    .dataframe tbody tr th {\n",
       "        vertical-align: top;\n",
       "    }\n",
       "\n",
       "    .dataframe thead th {\n",
       "        text-align: right;\n",
       "    }\n",
       "</style>\n",
       "<table border=\"1\" class=\"dataframe\">\n",
       "  <thead>\n",
       "    <tr style=\"text-align: right;\">\n",
       "      <th></th>\n",
       "      <th>coin</th>\n",
       "      <th>block</th>\n",
       "      <th>total_supply</th>\n",
       "      <th>total_supply_pct</th>\n",
       "      <th>date</th>\n",
       "    </tr>\n",
       "  </thead>\n",
       "  <tbody>\n",
       "    <tr>\n",
       "      <th>6871</th>\n",
       "      <td>BTC</td>\n",
       "      <td>6925249</td>\n",
       "      <td>2.100000e+07</td>\n",
       "      <td>100.0</td>\n",
       "      <td>2140-09-01</td>\n",
       "    </tr>\n",
       "    <tr>\n",
       "      <th>6872</th>\n",
       "      <td>BTC</td>\n",
       "      <td>6926257</td>\n",
       "      <td>2.100000e+07</td>\n",
       "      <td>100.0</td>\n",
       "      <td>2140-09-01</td>\n",
       "    </tr>\n",
       "    <tr>\n",
       "      <th>6873</th>\n",
       "      <td>BTC</td>\n",
       "      <td>6927265</td>\n",
       "      <td>2.100000e+07</td>\n",
       "      <td>100.0</td>\n",
       "      <td>2140-09-01</td>\n",
       "    </tr>\n",
       "    <tr>\n",
       "      <th>6874</th>\n",
       "      <td>BTC</td>\n",
       "      <td>6928273</td>\n",
       "      <td>2.100000e+07</td>\n",
       "      <td>100.0</td>\n",
       "      <td>2140-09-01</td>\n",
       "    </tr>\n",
       "    <tr>\n",
       "      <th>6875</th>\n",
       "      <td>BTC</td>\n",
       "      <td>6929281</td>\n",
       "      <td>2.100000e+07</td>\n",
       "      <td>100.0</td>\n",
       "      <td>2140-10-01</td>\n",
       "    </tr>\n",
       "  </tbody>\n",
       "</table>\n",
       "</div>"
      ],
      "text/plain": [
       "     coin    block  total_supply  total_supply_pct        date\n",
       "6871  BTC  6925249  2.100000e+07             100.0  2140-09-01\n",
       "6872  BTC  6926257  2.100000e+07             100.0  2140-09-01\n",
       "6873  BTC  6927265  2.100000e+07             100.0  2140-09-01\n",
       "6874  BTC  6928273  2.100000e+07             100.0  2140-09-01\n",
       "6875  BTC  6929281  2.100000e+07             100.0  2140-10-01"
      ]
     },
     "metadata": {},
     "output_type": "display_data"
    }
   ],
   "source": [
    "weekly_supply = cmb.transform_supply(supply, COIN_SYMBOL, freq='weekly')\n",
    "\n",
    "display(weekly_supply.head())\n",
    "display(weekly_supply.tail())"
   ]
  },
  {
   "cell_type": "code",
   "execution_count": 8,
   "metadata": {
    "execution": {
     "iopub.execute_input": "2021-01-10T18:32:43.962731Z",
     "iopub.status.busy": "2021-01-10T18:32:43.962045Z",
     "iopub.status.idle": "2021-01-10T18:32:44.300036Z",
     "shell.execute_reply": "2021-01-10T18:32:44.300385Z"
    }
   },
   "outputs": [
    {
     "name": "stdout",
     "output_type": "stream",
     "text": [
      "Wrote 1582 lines to file ../output-data/BTC_monthly.csv\n"
     ]
    },
    {
     "data": {
      "text/html": [
       "<div>\n",
       "<style scoped>\n",
       "    .dataframe tbody tr th:only-of-type {\n",
       "        vertical-align: middle;\n",
       "    }\n",
       "\n",
       "    .dataframe tbody tr th {\n",
       "        vertical-align: top;\n",
       "    }\n",
       "\n",
       "    .dataframe thead th {\n",
       "        text-align: right;\n",
       "    }\n",
       "</style>\n",
       "<table border=\"1\" class=\"dataframe\">\n",
       "  <thead>\n",
       "    <tr style=\"text-align: right;\">\n",
       "      <th></th>\n",
       "      <th>coin</th>\n",
       "      <th>block</th>\n",
       "      <th>total_supply</th>\n",
       "      <th>total_supply_pct</th>\n",
       "      <th>date</th>\n",
       "    </tr>\n",
       "  </thead>\n",
       "  <tbody>\n",
       "    <tr>\n",
       "      <th>0</th>\n",
       "      <td>BTC</td>\n",
       "      <td>1</td>\n",
       "      <td>50.0</td>\n",
       "      <td>0.000238</td>\n",
       "      <td>2009-01-01</td>\n",
       "    </tr>\n",
       "    <tr>\n",
       "      <th>1</th>\n",
       "      <td>BTC</td>\n",
       "      <td>4177</td>\n",
       "      <td>208850.0</td>\n",
       "      <td>0.994524</td>\n",
       "      <td>2009-02-01</td>\n",
       "    </tr>\n",
       "    <tr>\n",
       "      <th>2</th>\n",
       "      <td>BTC</td>\n",
       "      <td>8209</td>\n",
       "      <td>410450.0</td>\n",
       "      <td>1.954524</td>\n",
       "      <td>2009-03-01</td>\n",
       "    </tr>\n",
       "    <tr>\n",
       "      <th>3</th>\n",
       "      <td>BTC</td>\n",
       "      <td>12673</td>\n",
       "      <td>633650.0</td>\n",
       "      <td>3.017381</td>\n",
       "      <td>2009-04-01</td>\n",
       "    </tr>\n",
       "    <tr>\n",
       "      <th>4</th>\n",
       "      <td>BTC</td>\n",
       "      <td>16993</td>\n",
       "      <td>849650.0</td>\n",
       "      <td>4.045952</td>\n",
       "      <td>2009-05-01</td>\n",
       "    </tr>\n",
       "  </tbody>\n",
       "</table>\n",
       "</div>"
      ],
      "text/plain": [
       "  coin  block  total_supply  total_supply_pct        date\n",
       "0  BTC      1          50.0          0.000238  2009-01-01\n",
       "1  BTC   4177      208850.0          0.994524  2009-02-01\n",
       "2  BTC   8209      410450.0          1.954524  2009-03-01\n",
       "3  BTC  12673      633650.0          3.017381  2009-04-01\n",
       "4  BTC  16993      849650.0          4.045952  2009-05-01"
      ]
     },
     "metadata": {},
     "output_type": "display_data"
    },
    {
     "data": {
      "text/html": [
       "<div>\n",
       "<style scoped>\n",
       "    .dataframe tbody tr th:only-of-type {\n",
       "        vertical-align: middle;\n",
       "    }\n",
       "\n",
       "    .dataframe tbody tr th {\n",
       "        vertical-align: top;\n",
       "    }\n",
       "\n",
       "    .dataframe thead th {\n",
       "        text-align: right;\n",
       "    }\n",
       "</style>\n",
       "<table border=\"1\" class=\"dataframe\">\n",
       "  <thead>\n",
       "    <tr style=\"text-align: right;\">\n",
       "      <th></th>\n",
       "      <th>coin</th>\n",
       "      <th>block</th>\n",
       "      <th>total_supply</th>\n",
       "      <th>total_supply_pct</th>\n",
       "      <th>date</th>\n",
       "    </tr>\n",
       "  </thead>\n",
       "  <tbody>\n",
       "    <tr>\n",
       "      <th>1577</th>\n",
       "      <td>BTC</td>\n",
       "      <td>6911425</td>\n",
       "      <td>2.100000e+07</td>\n",
       "      <td>100.0</td>\n",
       "      <td>2140-06-01</td>\n",
       "    </tr>\n",
       "    <tr>\n",
       "      <th>1578</th>\n",
       "      <td>BTC</td>\n",
       "      <td>6915745</td>\n",
       "      <td>2.100000e+07</td>\n",
       "      <td>100.0</td>\n",
       "      <td>2140-07-01</td>\n",
       "    </tr>\n",
       "    <tr>\n",
       "      <th>1579</th>\n",
       "      <td>BTC</td>\n",
       "      <td>6920209</td>\n",
       "      <td>2.100000e+07</td>\n",
       "      <td>100.0</td>\n",
       "      <td>2140-08-01</td>\n",
       "    </tr>\n",
       "    <tr>\n",
       "      <th>1580</th>\n",
       "      <td>BTC</td>\n",
       "      <td>6924673</td>\n",
       "      <td>2.100000e+07</td>\n",
       "      <td>100.0</td>\n",
       "      <td>2140-09-01</td>\n",
       "    </tr>\n",
       "    <tr>\n",
       "      <th>1581</th>\n",
       "      <td>BTC</td>\n",
       "      <td>6928993</td>\n",
       "      <td>2.100000e+07</td>\n",
       "      <td>100.0</td>\n",
       "      <td>2140-10-01</td>\n",
       "    </tr>\n",
       "  </tbody>\n",
       "</table>\n",
       "</div>"
      ],
      "text/plain": [
       "     coin    block  total_supply  total_supply_pct        date\n",
       "1577  BTC  6911425  2.100000e+07             100.0  2140-06-01\n",
       "1578  BTC  6915745  2.100000e+07             100.0  2140-07-01\n",
       "1579  BTC  6920209  2.100000e+07             100.0  2140-08-01\n",
       "1580  BTC  6924673  2.100000e+07             100.0  2140-09-01\n",
       "1581  BTC  6928993  2.100000e+07             100.0  2140-10-01"
      ]
     },
     "metadata": {},
     "output_type": "display_data"
    }
   ],
   "source": [
    "monthly_supply = cmb.transform_supply(supply, COIN_SYMBOL, freq='monthly')\n",
    "\n",
    "display(monthly_supply.head())\n",
    "display(monthly_supply.tail())"
   ]
  },
  {
   "cell_type": "code",
   "execution_count": 9,
   "metadata": {
    "execution": {
     "iopub.execute_input": "2021-01-10T18:32:44.303495Z",
     "iopub.status.busy": "2021-01-10T18:32:44.302814Z",
     "iopub.status.idle": "2021-01-10T18:32:44.581596Z",
     "shell.execute_reply": "2021-01-10T18:32:44.581240Z"
    }
   },
   "outputs": [
    {
     "name": "stdout",
     "output_type": "stream",
     "text": [
      "Wrote 132 lines to file ../output-data/BTC_yearly.csv\n"
     ]
    },
    {
     "data": {
      "text/html": [
       "<div>\n",
       "<style scoped>\n",
       "    .dataframe tbody tr th:only-of-type {\n",
       "        vertical-align: middle;\n",
       "    }\n",
       "\n",
       "    .dataframe tbody tr th {\n",
       "        vertical-align: top;\n",
       "    }\n",
       "\n",
       "    .dataframe thead th {\n",
       "        text-align: right;\n",
       "    }\n",
       "</style>\n",
       "<table border=\"1\" class=\"dataframe\">\n",
       "  <thead>\n",
       "    <tr style=\"text-align: right;\">\n",
       "      <th></th>\n",
       "      <th>coin</th>\n",
       "      <th>block</th>\n",
       "      <th>total_supply</th>\n",
       "      <th>total_supply_pct</th>\n",
       "      <th>date</th>\n",
       "    </tr>\n",
       "  </thead>\n",
       "  <tbody>\n",
       "    <tr>\n",
       "      <th>0</th>\n",
       "      <td>BTC</td>\n",
       "      <td>1</td>\n",
       "      <td>50.0</td>\n",
       "      <td>0.000238</td>\n",
       "      <td>2009-01-01</td>\n",
       "    </tr>\n",
       "    <tr>\n",
       "      <th>1</th>\n",
       "      <td>BTC</td>\n",
       "      <td>52273</td>\n",
       "      <td>2613650.0</td>\n",
       "      <td>12.445952</td>\n",
       "      <td>2010-01-01</td>\n",
       "    </tr>\n",
       "    <tr>\n",
       "      <th>2</th>\n",
       "      <td>BTC</td>\n",
       "      <td>104833</td>\n",
       "      <td>5241650.0</td>\n",
       "      <td>24.960238</td>\n",
       "      <td>2011-01-01</td>\n",
       "    </tr>\n",
       "    <tr>\n",
       "      <th>3</th>\n",
       "      <td>BTC</td>\n",
       "      <td>157393</td>\n",
       "      <td>7869650.0</td>\n",
       "      <td>37.474524</td>\n",
       "      <td>2012-01-01</td>\n",
       "    </tr>\n",
       "    <tr>\n",
       "      <th>4</th>\n",
       "      <td>BTC</td>\n",
       "      <td>210097</td>\n",
       "      <td>10502425.0</td>\n",
       "      <td>50.011548</td>\n",
       "      <td>2013-01-01</td>\n",
       "    </tr>\n",
       "  </tbody>\n",
       "</table>\n",
       "</div>"
      ],
      "text/plain": [
       "  coin   block  total_supply  total_supply_pct        date\n",
       "0  BTC       1          50.0          0.000238  2009-01-01\n",
       "1  BTC   52273     2613650.0         12.445952  2010-01-01\n",
       "2  BTC  104833     5241650.0         24.960238  2011-01-01\n",
       "3  BTC  157393     7869650.0         37.474524  2012-01-01\n",
       "4  BTC  210097    10502425.0         50.011548  2013-01-01"
      ]
     },
     "metadata": {},
     "output_type": "display_data"
    },
    {
     "data": {
      "text/html": [
       "<div>\n",
       "<style scoped>\n",
       "    .dataframe tbody tr th:only-of-type {\n",
       "        vertical-align: middle;\n",
       "    }\n",
       "\n",
       "    .dataframe tbody tr th {\n",
       "        vertical-align: top;\n",
       "    }\n",
       "\n",
       "    .dataframe thead th {\n",
       "        text-align: right;\n",
       "    }\n",
       "</style>\n",
       "<table border=\"1\" class=\"dataframe\">\n",
       "  <thead>\n",
       "    <tr style=\"text-align: right;\">\n",
       "      <th></th>\n",
       "      <th>coin</th>\n",
       "      <th>block</th>\n",
       "      <th>total_supply</th>\n",
       "      <th>total_supply_pct</th>\n",
       "      <th>date</th>\n",
       "    </tr>\n",
       "  </thead>\n",
       "  <tbody>\n",
       "    <tr>\n",
       "      <th>127</th>\n",
       "      <td>BTC</td>\n",
       "      <td>6679153</td>\n",
       "      <td>2.100000e+07</td>\n",
       "      <td>100.0</td>\n",
       "      <td>2136-01-01</td>\n",
       "    </tr>\n",
       "    <tr>\n",
       "      <th>128</th>\n",
       "      <td>BTC</td>\n",
       "      <td>6731857</td>\n",
       "      <td>2.100000e+07</td>\n",
       "      <td>100.0</td>\n",
       "      <td>2137-01-01</td>\n",
       "    </tr>\n",
       "    <tr>\n",
       "      <th>129</th>\n",
       "      <td>BTC</td>\n",
       "      <td>6784417</td>\n",
       "      <td>2.100000e+07</td>\n",
       "      <td>100.0</td>\n",
       "      <td>2138-01-01</td>\n",
       "    </tr>\n",
       "    <tr>\n",
       "      <th>130</th>\n",
       "      <td>BTC</td>\n",
       "      <td>6836977</td>\n",
       "      <td>2.100000e+07</td>\n",
       "      <td>100.0</td>\n",
       "      <td>2139-01-01</td>\n",
       "    </tr>\n",
       "    <tr>\n",
       "      <th>131</th>\n",
       "      <td>BTC</td>\n",
       "      <td>6889537</td>\n",
       "      <td>2.100000e+07</td>\n",
       "      <td>100.0</td>\n",
       "      <td>2140-01-01</td>\n",
       "    </tr>\n",
       "  </tbody>\n",
       "</table>\n",
       "</div>"
      ],
      "text/plain": [
       "    coin    block  total_supply  total_supply_pct        date\n",
       "127  BTC  6679153  2.100000e+07             100.0  2136-01-01\n",
       "128  BTC  6731857  2.100000e+07             100.0  2137-01-01\n",
       "129  BTC  6784417  2.100000e+07             100.0  2138-01-01\n",
       "130  BTC  6836977  2.100000e+07             100.0  2139-01-01\n",
       "131  BTC  6889537  2.100000e+07             100.0  2140-01-01"
      ]
     },
     "metadata": {},
     "output_type": "display_data"
    }
   ],
   "source": [
    "yearly_supply = cmb.transform_supply(supply, COIN_SYMBOL, freq='yearly')\n",
    "\n",
    "display(yearly_supply.head())\n",
    "display(yearly_supply.tail())"
   ]
  }
 ],
 "metadata": {
  "kernelspec": {
   "display_name": "Python 3",
   "language": "python",
   "name": "python3"
  },
  "language_info": {
   "codemirror_mode": {
    "name": "ipython",
    "version": 3
   },
   "file_extension": ".py",
   "mimetype": "text/x-python",
   "name": "python",
   "nbconvert_exporter": "python",
   "pygments_lexer": "ipython3",
   "version": "3.8.6"
  },
  "toc": {
   "base_numbering": 1,
   "nav_menu": {},
   "number_sections": true,
   "sideBar": true,
   "skip_h1_title": false,
   "title_cell": "Table of Contents",
   "title_sidebar": "Contents",
   "toc_cell": false,
   "toc_position": {},
   "toc_section_display": true,
   "toc_window_display": false
  }
 },
 "nbformat": 4,
 "nbformat_minor": 2
}
